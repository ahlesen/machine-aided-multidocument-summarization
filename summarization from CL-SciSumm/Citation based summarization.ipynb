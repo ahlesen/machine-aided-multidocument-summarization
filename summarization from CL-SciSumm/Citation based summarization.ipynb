{
 "cells": [
  {
   "cell_type": "markdown",
   "metadata": {},
   "source": [
    "# Citation based summarization\n",
    "\n",
    "The `scisumm-corpus` directory contains the corpus of papers published in the context of the [CL-SciSumm 2017](http://wing.comp.nus.edu.sg/~cl-scisumm2017/) challenge."
   ]
  },
  {
   "cell_type": "markdown",
   "metadata": {},
   "source": [
    "## Терминология\n",
    "\n",
    "Статьи, которые необходимо обобщить, называются **reference papers**. Каждый справочный документ связан с набором **citing papers**. Предложения цитирующей статьи, в которых цитируется соответствующий справочный документ, называются **citances**. Соответствующие предложения в справочном документе называются **provenances**. **Аннотация** - это отношение между набором цитирований цитирующей статьи и набором источников соответствующей справочной статьи.\n"
   ]
  },
  {
   "cell_type": "code",
   "execution_count": 67,
   "metadata": {},
   "outputs": [
    {
     "name": "stderr",
     "output_type": "stream",
     "text": [
      "[nltk_data] Downloading package stopwords to /home/andrey/nltk_data...\n",
      "[nltk_data]   Package stopwords is already up-to-date!\n"
     ]
    }
   ],
   "source": [
    "import re\n",
    "from os import listdir\n",
    "from os.path import join\n",
    "\n",
    "import numpy as np\n",
    "from sklearn import neural_network\n",
    "from sklearn.metrics import confusion_matrix\n",
    "\n",
    "import scisummgen\n",
    "\n",
    "import time\n",
    "from sklearn import ensemble\n",
    "from sklearn import svm\n",
    "import pandas as pd\n",
    "import xgboost as xgb\n",
    "\n",
    "from gensim.models.word2vec import Word2Vec\n",
    "from multiprocessing import cpu_count\n",
    "import gensim.downloader as api\n",
    "import re\n",
    "import nltk \n",
    "nltk.download('stopwords')\n",
    "from nltk.corpus import stopwords\n",
    "stopWords = set(stopwords.words('english'))\n",
    "from rouge import Rouge \n",
    "rouge = Rouge()\n",
    "from catboost import CatBoostClassifier\n",
    "\n",
    "from difflib import SequenceMatcher"
   ]
  },
  {
   "cell_type": "code",
   "execution_count": 68,
   "metadata": {},
   "outputs": [],
   "source": [
    "training_path = 'scisumm-corpus/Training-Set-2017'\n",
    "test_path = 'scisumm-corpus/Test-Set-2017'"
   ]
  },
  {
   "cell_type": "markdown",
   "metadata": {},
   "source": [
    "можно добавить jaccard similarity, idf_sim ,w2v_sim"
   ]
  },
  {
   "cell_type": "code",
   "execution_count": null,
   "metadata": {},
   "outputs": [],
   "source": [
    "def calc_Rouge(hypothesis,reference):\n",
    "\trouge = Rouge()\n",
    "\tscores = rouge.get_scores(hypothesis,reference)\n",
    "\n",
    "\trougelist = []\n",
    "\n",
    "\tfor key, value in scores[0]['rouge-1'].items():\n",
    "\t\trougelist.append(value)\n",
    "\n",
    "\tfor key, value in scores[0]['rouge-2'].items():\n",
    "\t\trougelist.append(value)\n",
    "\n",
    "\tfor key, value in scores[0]['rouge-l'].items():\n",
    "\t\trougelist.append(value)\n",
    "\n",
    "\treturn tuple(rougelist)\n",
    "calc_Rouge(hypothesis,reference)"
   ]
  },
  {
   "cell_type": "code",
   "execution_count": 71,
   "metadata": {},
   "outputs": [],
   "source": [
    "def create_features(path):\n",
    "    X = []\n",
    "    y = []\n",
    "\n",
    "    # For all the papers\n",
    "    for num,directory in enumerate(listdir(path)):\n",
    "        print('num = ',num,' directory',directory)\n",
    "        paper = scisummgen.Paper(join(path, directory))\n",
    "        similarity = scisummgen.Similarity(paper)\n",
    "\n",
    "        # For all the citances\n",
    "        for citance in paper.annotation.citances:\n",
    "            # For all the sentences of the reference paper\n",
    "            for sentence_sid, sentence in paper.reference.sentences.items():\n",
    "                citance_text = paper.get_citance_text(citance)\n",
    "\n",
    "                tfidf = similarity.tfidf_similarity(sentence['text'], citance_text,)\n",
    "                lsi = similarity.lsi_similarity(sentence['text'], citance_text)\n",
    "                lda = similarity.lda_similarity(sentence['text'], citance_text)\n",
    "                hdp = similarity.hdp_similarity(sentence['text'], citance_text)\n",
    "                bigrams = similarity.count_bigrams(sentence['text'], citance_text)\n",
    "\n",
    "                try:\n",
    "                    sid_pos = sentence['sid'] / sentence['sid_max']\n",
    "                except ZeroDivisionError:\n",
    "                    sid_pos = 0\n",
    "\n",
    "                try:\n",
    "                    ssid_pos = sentence['ssid'] / sentence['ssid_max']\n",
    "                except ZeroDivisionError:\n",
    "                    ssid_pos = 0\n",
    "\n",
    "                try:\n",
    "                    section_pos = sentence['section'] / sentence['section_max']\n",
    "                except ZeroDivisionError:\n",
    "                    section_pos = 0\n",
    "\n",
    "                X.append([tfidf, lsi, lda, hdp, bigrams, sid_pos, ssid_pos, section_pos])\n",
    "\n",
    "                # Check if this sentence is also a provenance\n",
    "                if sentence_sid in citance['RO']:\n",
    "                    y.append(1)\n",
    "                else:\n",
    "                    y.append(-1)\n",
    "\n",
    "    return X, y"
   ]
  },
  {
   "cell_type": "code",
   "execution_count": 72,
   "metadata": {},
   "outputs": [],
   "source": [
    "def create_summaries(path, y_probability):\n",
    "    y_index = 0\n",
    "\n",
    "    # For all the test papers\n",
    "    for directory in listdir(path):\n",
    "        print('Creating summary for paper', directory)\n",
    "        paper = scisummgen.Paper(join(path, directory))\n",
    "        sentence_scores = np.zeros(next(iter(paper.reference.sentences.values()))['sid_max'] + 1)\n",
    "\n",
    "        # For all the citances\n",
    "        for citance in paper.annotation.citances:\n",
    "            # For all the sentences of the reference paper\n",
    "            for sentence_sid, sentence in paper.reference.sentences.items():\n",
    "                # The probability of being a provenance\n",
    "                sentence_scores[sentence_sid] += y_probability[y_index][1]\n",
    "                y_index += 1\n",
    "\n",
    "        # Find the sentences with the highest scores\n",
    "        sentence_sid_sorted = sentence_scores.argsort()[::-1]\n",
    "        summary_sentences = []\n",
    "        tot_words = 0\n",
    "\n",
    "        for sid in sentence_sid_sorted:\n",
    "            sentence = paper.reference.sentences[sid]\n",
    "            # Avoid considering the title\n",
    "            if sentence['sid'] == 0:\n",
    "                continue\n",
    "            # Count the number of words\n",
    "            words = len(re.findall('\\w+', sentence['text'].lower()))\n",
    "            tot_words += words\n",
    "            if tot_words <= 250:\n",
    "                summary_sentences.append(sentence)\n",
    "            else:\n",
    "                break\n",
    "\n",
    "        # Sort sentences by sid\n",
    "        summary_sentences.sort(key=lambda x: x['sid'])\n",
    "\n",
    "        # Create the summary\n",
    "        summary = ''\n",
    "        for sentence in summary_sentences:\n",
    "            summary += sentence['text'] + ' '\n",
    "        summary = summary.strip(' ')\n",
    "\n",
    "        with open(join('summary', directory + '.system.txt'), 'w', encoding='utf-8') as file:\n",
    "            file.write(summary)"
   ]
  },
  {
   "cell_type": "code",
   "execution_count": 199,
   "metadata": {},
   "outputs": [],
   "source": [
    "def create_summaries_top_k(path, y_probability,k=3):\n",
    "    y_index = 0\n",
    "\n",
    "    # For all the test papers\n",
    "    for directory in listdir(path):\n",
    "        print('Creating summary for paper', directory)\n",
    "        paper = scisummgen.Paper(join(path, directory))\n",
    "        sentence_scores = np.zeros(next(iter(paper.reference.sentences.values()))['sid_max'] + 1)\n",
    "\n",
    "        # For all the citances\n",
    "        for citance in paper.annotation.citances:\n",
    "            # For all the sentences of the reference paper\n",
    "            for sentence_sid, sentence in paper.reference.sentences.items():\n",
    "                # The probability of being a provenance\n",
    "                sentence_scores[sentence_sid] += y_probability[y_index][1]\n",
    "                y_index += 1\n",
    "\n",
    "        # Find the sentences with the highest scores\n",
    "        sentence_sid_sorted = sentence_scores.argsort()[::-1]\n",
    "        \n",
    "        for num in range(1,k+1):\n",
    "            summary_sentences = []\n",
    "            tot_words = 0\n",
    "            del_sids = []\n",
    "            for sid in sentence_sid_sorted:\n",
    "                del_sids.append(sid)\n",
    "                sentence = paper.reference.sentences[sid]\n",
    "                # Avoid considering the title\n",
    "                if sentence['sid'] == 0:\n",
    "                    continue\n",
    "                # Count the number of words\n",
    "                words = len(re.findall('\\w+', sentence['text'].lower()))\n",
    "                tot_words += words\n",
    "                if tot_words <= 250:\n",
    "                    summary_sentences.append(sentence)\n",
    "                else:\n",
    "                    break\n",
    "                    \n",
    "            sentence_sid_sorted = sentence_sid_sorted[~np.isin(sentence_sid_sorted,del_sids)]\n",
    "            # Sort sentences by sid\n",
    "            summary_sentences.sort(key=lambda x: x['sid'])\n",
    "\n",
    "            # Create the summary\n",
    "            summary = ''\n",
    "            for sentence in summary_sentences:\n",
    "                summary += sentence['text'] + ' '\n",
    "            summary = summary.strip(' ')\n",
    "\n",
    "            with open(join('summary', directory +f'-{str(num)}' +'.system.txt'), 'w', encoding='utf-8') as file:\n",
    "                file.write(summary)"
   ]
  },
  {
   "cell_type": "markdown",
   "metadata": {},
   "source": [
    "\n",
    "### Подготовка текста\n",
    "\n",
    "Каждый reference paper представлен классом ***Paper class***. Этот класс *содержит reference paper, соответствующие цитирующие документы и соответствующие аннотации*. Документы представлены классом ***Document***, который *содержит фактические предложения*. *Список аннотаций* представлен классом  ***Annotation***.\n",
    "\n",
    "Предложения:\n",
    "- переводятся в нижний регистр\n",
    "- и затем токенизируется с помощью регулярного выражения `\\w+`. Токены, перечисленные в файле `stopwords.txt`, игнорируются."
   ]
  },
  {
   "cell_type": "markdown",
   "metadata": {},
   "source": [
    "### Предсказание provenance \n",
    "\n",
    "For each reference paper, for each citance, and for each sentence of the reference paper, it is possible to compute a set of features. These features are used to train an MLP classifier with the goal of predicting if a sentence of the reference paper is a provenance or not. The features considered are the following:\n",
    "\n",
    "* **tfidf**: the TF-IDF similarity between the two sentences as computed by `gensim`;\n",
    "* **lsi**: the LSI similarity between the two sentences, as computed by `gensim` considering 50 topics;\n",
    "* **bigrams**: the number of common bigrams between the two sentences;\n",
    "* **sid_pos**: the position of the sentence in the reference paper;\n",
    "* **ssid_pos**: the position of the sentence in the local section of the reference paper;\n",
    "* **section_pos**: the position of the local section in the reference paper.\n",
    "\n",
    "The corpus of documents used for computing the TF-IDF similarity and the LSI similarity includes all the sentences of the reference paper and all the sentences of all its citing papers.\n",
    "\n",
    "The classifier is trained to predict the probability for a sentence of being a provenance given a particular citance. Please note that a citance, in practice, may include several sentences of the citing paper. These probabilities are predicted for each pair composed of a sentence of the reference paper and a citance of all its citing papers.\n",
    "\n",
    "### Прогноз provenance\n",
    "\n",
    "Для каждого reference paper, для каждого цитирования и для каждого предложения reference paper можно вычислить набор функций. Эти функции используются для обучения классификаторов с целью прогнозирования, является ли предложение reference paper provenance или нет. Рассматриваются следующие функции:\n",
    "\n",
    "* **tfidf**: сходство TF-IDF между двумя предложениями, вычисленное с помощью `gensim`;\n",
    "* **lsi**: сходство LSI между двумя предложениями, вычисленное `gensim` с учетом 50 тем;\n",
    "* **биграммы**: количество общих биграмм между двумя предложениями;\n",
    "* **sid_pos**: позиция предложения в справочном документе;\n",
    "* **ssid_pos**: позиция предложения в локальном разделе справочного документа;\n",
    "* **section_pos**: положение локального раздела в справочном документе.\n",
    "\n",
    "Корпус документов, используемых для вычисления подобия TF-IDF и подобия LSI, включает все предложения справочного документа и все предложения всех цитирующих документов.\n",
    "\n",
    "Классификатор обучен предсказывать вероятность того, что предложение будет провенансом для конкретного случая. Обратите внимание, что на практике цитата может включать несколько предложений цитирующей статьи. Эти вероятности предсказываются для каждой пары, состоящей из предложения reference paper и цитирования всех цитирующих документов."
   ]
  },
  {
   "cell_type": "code",
   "execution_count": 73,
   "metadata": {
    "scrolled": false
   },
   "outputs": [
    {
     "name": "stdout",
     "output_type": "stream",
     "text": [
      "Creating features for the training set\n",
      "num =  0  directory W08-2222\n",
      "num =  1  directory W03-0410\n",
      "num =  2  directory W04-0213\n",
      "num =  3  directory E03-1020\n",
      "num =  4  directory N01-1011\n",
      "num =  5  directory P98-1046\n",
      "num =  6  directory I05-5011\n",
      "num =  7  directory P05-1004\n",
      "num =  8  directory P06-2124\n",
      "num =  9  directory N04-1038\n",
      "num =  10  directory D10-1083\n",
      "num =  11  directory J98-2005\n",
      "num =  12  directory J00-3003\n",
      "num =  13  directory X96-1048\n",
      "num =  14  directory J96-3004\n",
      "num =  15  directory C02-1025\n",
      "num =  16  directory P98-1081\n",
      "num =  17  directory C00-2123\n",
      "num =  18  directory C04-1089\n",
      "num =  19  directory H89-2014\n",
      "num =  20  directory C08-1098\n",
      "num =  21  directory H05-1115\n",
      "num =  22  directory C94-2154\n",
      "num =  23  directory E09-2008\n",
      "num =  24  directory P98-2143\n",
      "num =  25  directory N06-2049\n",
      "num =  26  directory C90-2039\n",
      "num =  27  directory C10-1045\n",
      "num =  28  directory P05-1053\n",
      "num =  29  directory W95-0104\n",
      "Time of creating: 939.109461069107\n"
     ]
    }
   ],
   "source": [
    "start_time = time.time()\n",
    "print('Creating features for the training set')\n",
    "X_training, y_training = create_features(training_path)\n",
    "print(f\"Time of creating: {time.time()-start_time}\")"
   ]
  },
  {
   "cell_type": "code",
   "execution_count": 74,
   "metadata": {},
   "outputs": [
    {
     "data": {
      "text/plain": [
       "(147885, 147885)"
      ]
     },
     "execution_count": 74,
     "metadata": {},
     "output_type": "execute_result"
    }
   ],
   "source": [
    "len(X_training),len(y_training)"
   ]
  },
  {
   "cell_type": "code",
   "execution_count": 117,
   "metadata": {},
   "outputs": [],
   "source": [
    "def lists2txt(dataset,name='file'):\n",
    "    with open(f'{name}.txt', 'w+', encoding='utf-8') as file:\n",
    "        for res in dataset:\n",
    "            try:\n",
    "                line = \"|\".join(map(str, res))\n",
    "#             print(line)\n",
    "                file.write(line+ '\\n')\n",
    "            except:\n",
    "                line = str(res)\n",
    "                file.write(line+ '\\n')"
   ]
  },
  {
   "cell_type": "code",
   "execution_count": 118,
   "metadata": {},
   "outputs": [],
   "source": [
    "lists2txt(X_training,name='X_training_hdp_lda')\n",
    "# lists2txt(y_training,name='y_training_new')"
   ]
  },
  {
   "cell_type": "code",
   "execution_count": 75,
   "metadata": {
    "scrolled": true
   },
   "outputs": [
    {
     "data": {
      "text/plain": [
       "0.000000    67089\n",
       "0.141421        3\n",
       "0.141421        3\n",
       "0.033386        2\n",
       "0.268680        2\n",
       "0.036906        2\n",
       "0.019426        2\n",
       "0.268680        2\n",
       "0.141421        2\n",
       "0.141421        2\n",
       "0.319950        1\n",
       "0.017041        1\n",
       "0.091533        1\n",
       "0.322496        1\n",
       "0.050828        1\n",
       "0.588447        1\n",
       "0.025433        1\n",
       "0.332834        1\n",
       "0.918227        1\n",
       "0.045712        1\n",
       "0.314978        1\n",
       "0.450350        1\n",
       "0.321749        1\n",
       "0.345879        1\n",
       "0.343828        1\n",
       "0.032961        1\n",
       "0.392122        1\n",
       "0.107873        1\n",
       "0.049597        1\n",
       "0.090775        1\n",
       "            ...  \n",
       "0.460305        1\n",
       "0.009996        1\n",
       "0.317577        1\n",
       "0.128942        1\n",
       "0.662239        1\n",
       "0.132698        1\n",
       "0.057939        1\n",
       "0.040164        1\n",
       "0.030673        1\n",
       "0.024966        1\n",
       "0.096629        1\n",
       "0.221584        1\n",
       "0.014543        1\n",
       "0.388358        1\n",
       "0.179298        1\n",
       "0.038476        1\n",
       "0.941813        1\n",
       "0.556659        1\n",
       "0.050986        1\n",
       "0.023662        1\n",
       "0.409310        1\n",
       "0.171864        1\n",
       "0.043476        1\n",
       "0.629552        1\n",
       "0.092126        1\n",
       "0.040597        1\n",
       "0.056016        1\n",
       "0.343944        1\n",
       "0.135845        1\n",
       "0.151631        1\n",
       "Length: 80786, dtype: int64"
      ]
     },
     "execution_count": 75,
     "metadata": {},
     "output_type": "execute_result"
    }
   ],
   "source": [
    "pd.Series(np.array(X_training)[:,2]).value_counts()"
   ]
  },
  {
   "cell_type": "code",
   "execution_count": 8,
   "metadata": {},
   "outputs": [
    {
     "data": {
      "text/plain": [
       "[0.04203652932414605,\n",
       " 0.22509949339999136,\n",
       " 0.0,\n",
       " 0,\n",
       " 0.012195121951219513,\n",
       " 0.16666666666666666,\n",
       " 0.2]"
      ]
     },
     "execution_count": 8,
     "metadata": {},
     "output_type": "execute_result"
    }
   ],
   "source": [
    "X_training[1]"
   ]
  },
  {
   "cell_type": "code",
   "execution_count": 9,
   "metadata": {},
   "outputs": [
    {
     "data": {
      "text/plain": [
       "[0.07526056544129943,\n",
       " 0.6316113439990435,\n",
       " 0.0,\n",
       " 0,\n",
       " 0.018292682926829267,\n",
       " 0.25,\n",
       " 0.2]"
      ]
     },
     "execution_count": 9,
     "metadata": {},
     "output_type": "execute_result"
    }
   ],
   "source": [
    "X_training[2]"
   ]
  },
  {
   "cell_type": "code",
   "execution_count": 8,
   "metadata": {
    "scrolled": true
   },
   "outputs": [
    {
     "data": {
      "text/plain": [
       "{-1, 1}"
      ]
     },
     "execution_count": 8,
     "metadata": {},
     "output_type": "execute_result"
    }
   ],
   "source": [
    "set(y_training)"
   ]
  },
  {
   "cell_type": "code",
   "execution_count": 77,
   "metadata": {},
   "outputs": [
    {
     "name": "stdout",
     "output_type": "stream",
     "text": [
      "Creating features for the test set\n",
      "num =  0  directory W09-0621\n",
      "num =  1  directory D10-1058\n",
      "num =  2  directory C98-1097\n",
      "num =  3  directory W11-0815\n",
      "num =  4  directory D09-1023\n",
      "num =  5  directory P00-1025\n",
      "num =  6  directory N09-1001\n",
      "num =  7  directory W06-3909\n",
      "num =  8  directory P07-1040\n",
      "num =  9  directory N09-1025\n",
      "Time of creating: 197.0065267086029\n"
     ]
    }
   ],
   "source": [
    "start_time = time.time()\n",
    "print('Creating features for the test set')\n",
    "X_test, y_test = create_features(test_path)\n",
    "print(f\"Time of creating: {time.time()-start_time}\")"
   ]
  },
  {
   "cell_type": "code",
   "execution_count": 119,
   "metadata": {},
   "outputs": [],
   "source": [
    "lists2txt(X_test,name='X_test_hdp_lda')\n",
    "# lists2txt(y_training,name='y_training_new')"
   ]
  },
  {
   "cell_type": "code",
   "execution_count": 78,
   "metadata": {},
   "outputs": [
    {
     "data": {
      "text/plain": [
       "(32410, 32410)"
      ]
     },
     "execution_count": 78,
     "metadata": {},
     "output_type": "execute_result"
    }
   ],
   "source": [
    "len(X_test),len(y_test)"
   ]
  },
  {
   "cell_type": "code",
   "execution_count": 79,
   "metadata": {},
   "outputs": [
    {
     "data": {
      "text/plain": [
       "[0.0, 0.20123946474666796, 0.0, 0.0, 0, 0.010101010101010102, 0.0625, 0.25]"
      ]
     },
     "execution_count": 79,
     "metadata": {},
     "output_type": "execute_result"
    }
   ],
   "source": [
    "X_test[0]"
   ]
  },
  {
   "cell_type": "code",
   "execution_count": 11,
   "metadata": {},
   "outputs": [
    {
     "data": {
      "text/plain": [
       "[0.0, 0.25557976787590375, 0, 0.010101010101010102, 0.0625, 0.25]"
      ]
     },
     "execution_count": 11,
     "metadata": {},
     "output_type": "execute_result"
    }
   ],
   "source": [
    "X_test[0]"
   ]
  },
  {
   "cell_type": "code",
   "execution_count": 12,
   "metadata": {},
   "outputs": [
    {
     "data": {
      "text/plain": [
       "{-1, 1}"
      ]
     },
     "execution_count": 12,
     "metadata": {},
     "output_type": "execute_result"
    }
   ],
   "source": [
    "set(y_test)"
   ]
  },
  {
   "cell_type": "markdown",
   "metadata": {},
   "source": [
    "#### Look at balanced of classes"
   ]
  },
  {
   "cell_type": "code",
   "execution_count": 13,
   "metadata": {},
   "outputs": [],
   "source": [
    "y_tr = pd.Series(y_training)"
   ]
  },
  {
   "cell_type": "code",
   "execution_count": 14,
   "metadata": {},
   "outputs": [
    {
     "data": {
      "text/plain": [
       "-1    146962\n",
       " 1       923\n",
       "dtype: int64"
      ]
     },
     "execution_count": 14,
     "metadata": {},
     "output_type": "execute_result"
    }
   ],
   "source": [
    "y_tr.value_counts()"
   ]
  },
  {
   "cell_type": "code",
   "execution_count": 15,
   "metadata": {},
   "outputs": [
    {
     "data": {
      "text/plain": [
       "0.006241336173377962"
      ]
     },
     "execution_count": 15,
     "metadata": {},
     "output_type": "execute_result"
    }
   ],
   "source": [
    "923/len(y_training)"
   ]
  },
  {
   "cell_type": "code",
   "execution_count": 16,
   "metadata": {},
   "outputs": [
    {
     "data": {
      "text/plain": [
       "-1    32179\n",
       " 1      231\n",
       "dtype: int64"
      ]
     },
     "execution_count": 16,
     "metadata": {},
     "output_type": "execute_result"
    }
   ],
   "source": [
    "y_ts = pd.Series(y_test)\n",
    "y_ts.value_counts()"
   ]
  },
  {
   "cell_type": "code",
   "execution_count": 17,
   "metadata": {},
   "outputs": [
    {
     "data": {
      "text/plain": [
       "0.007127429805615551"
      ]
     },
     "execution_count": 17,
     "metadata": {},
     "output_type": "execute_result"
    }
   ],
   "source": [
    "231/len(y_test)"
   ]
  },
  {
   "cell_type": "code",
   "execution_count": 18,
   "metadata": {},
   "outputs": [],
   "source": [
    "sum_wpos = sum( 1 for i in range(len(y_training)) if y_training[i] == 1.0  )\n",
    "sum_wneg = sum( 1 for i in range(len(y_training)) if y_training[i] == -1.0  )"
   ]
  },
  {
   "cell_type": "code",
   "execution_count": 19,
   "metadata": {},
   "outputs": [
    {
     "data": {
      "text/plain": [
       "146962"
      ]
     },
     "execution_count": 19,
     "metadata": {},
     "output_type": "execute_result"
    }
   ],
   "source": [
    "sum_wneg"
   ]
  },
  {
   "cell_type": "markdown",
   "metadata": {},
   "source": [
    "## Train"
   ]
  },
  {
   "cell_type": "code",
   "execution_count": 80,
   "metadata": {},
   "outputs": [
    {
     "name": "stdout",
     "output_type": "stream",
     "text": [
      "Training the classifier\n"
     ]
    },
    {
     "name": "stderr",
     "output_type": "stream",
     "text": [
      "[Parallel(n_jobs=-1)]: Using backend ThreadingBackend with 12 concurrent workers.\n",
      "[Parallel(n_jobs=-1)]: Done  26 tasks      | elapsed:    1.2s\n",
      "[Parallel(n_jobs=-1)]: Done 176 tasks      | elapsed:    6.4s\n",
      "[Parallel(n_jobs=-1)]: Done 426 tasks      | elapsed:   14.8s\n",
      "[Parallel(n_jobs=-1)]: Done 776 tasks      | elapsed:   27.2s\n",
      "[Parallel(n_jobs=-1)]: Done 1000 out of 1000 | elapsed:   35.3s finished\n",
      "[Parallel(n_jobs=12)]: Using backend ThreadingBackend with 12 concurrent workers.\n",
      "[Parallel(n_jobs=12)]: Done  26 tasks      | elapsed:    0.0s\n"
     ]
    },
    {
     "name": "stdout",
     "output_type": "stream",
     "text": [
      "Time of fit: 35.729307889938354\n"
     ]
    },
    {
     "name": "stderr",
     "output_type": "stream",
     "text": [
      "[Parallel(n_jobs=12)]: Done 176 tasks      | elapsed:    0.1s\n",
      "[Parallel(n_jobs=12)]: Done 426 tasks      | elapsed:    0.3s\n",
      "[Parallel(n_jobs=12)]: Done 776 tasks      | elapsed:    0.6s\n",
      "[Parallel(n_jobs=12)]: Done 1000 out of 1000 | elapsed:    0.7s finished\n"
     ]
    },
    {
     "name": "stdout",
     "output_type": "stream",
     "text": [
      "Time of prediction: 0.8384726047515869\n"
     ]
    }
   ],
   "source": [
    "print('Training the classifier')\n",
    "start_time = time.time()\n",
    "clf = ensemble.RandomForestClassifier(n_estimators=1000,verbose=True,n_jobs=-1)\n",
    "clf = clf.fit(X_training, y_training)\n",
    "print(f\"Time of fit: {time.time()-start_time}\")\n",
    "start_time = time.time()\n",
    "y_prediction = clf.predict(X_test)\n",
    "print(f\"Time of prediction: {time.time()-start_time}\")"
   ]
  },
  {
   "cell_type": "code",
   "execution_count": 81,
   "metadata": {},
   "outputs": [
    {
     "data": {
      "text/plain": [
       "array([0.1919095 , 0.24338118, 0.15519214, 0.02126485, 0.03236696,\n",
       "       0.15922571, 0.14495554, 0.05170413])"
      ]
     },
     "execution_count": 81,
     "metadata": {},
     "output_type": "execute_result"
    }
   ],
   "source": [
    "clf.feature_importances_"
   ]
  },
  {
   "cell_type": "code",
   "execution_count": 83,
   "metadata": {},
   "outputs": [
    {
     "name": "stdout",
     "output_type": "stream",
     "text": [
      "Confusion matrix on test set\n",
      "[[32174     5]\n",
      " [  230     1]]\n"
     ]
    }
   ],
   "source": [
    "conf_mat = confusion_matrix(y_test, y_prediction)\n",
    "print('Confusion matrix on test set')\n",
    "print(conf_mat)"
   ]
  },
  {
   "cell_type": "markdown",
   "metadata": {},
   "source": [
    "### SVM"
   ]
  },
  {
   "cell_type": "code",
   "execution_count": null,
   "metadata": {},
   "outputs": [],
   "source": [
    "print('Training the classifier')\n",
    "start_time = time.time()\n",
    "clf = svm.SVC(kernel='rbf',probability=True,class_weight={1: 10},tol=1e-3)# class_weight={1: 10}, kernel='polynomial'\n",
    "clf = clf.fit(np.array(X_training), np.array(y_training))\n",
    "print(f\"Time of fit: {time.time()-start_time}\")\n",
    "start_time = time.time()\n",
    "y_prediction = clf.predict(np.array(X_test))\n",
    "print(f\"Time of prediction: {time.time()-start_time}\")"
   ]
  },
  {
   "cell_type": "code",
   "execution_count": 48,
   "metadata": {},
   "outputs": [
    {
     "name": "stdout",
     "output_type": "stream",
     "text": [
      "Confusion matrix on test set\n",
      "[[32173     6]\n",
      " [  231     0]]\n"
     ]
    }
   ],
   "source": [
    "conf_mat = confusion_matrix(y_test, y_prediction)\n",
    "print('Confusion matrix on test set')\n",
    "print(conf_mat)"
   ]
  },
  {
   "cell_type": "code",
   "execution_count": 64,
   "metadata": {},
   "outputs": [
    {
     "name": "stdout",
     "output_type": "stream",
     "text": [
      "Confusion matrix on test set\n",
      "[[32048   131]\n",
      " [  211    20]]\n"
     ]
    }
   ],
   "source": [
    "# kernel='rbf',probability=True,class_weight={1: 10}\n",
    "conf_mat = confusion_matrix(y_test, y_prediction)\n",
    "print('Confusion matrix on test set')\n",
    "print(conf_mat)"
   ]
  },
  {
   "cell_type": "markdown",
   "metadata": {},
   "source": [
    "### XGBoost"
   ]
  },
  {
   "cell_type": "code",
   "execution_count": 176,
   "metadata": {},
   "outputs": [
    {
     "name": "stdout",
     "output_type": "stream",
     "text": [
      "Training the classifier\n",
      "Time of fit: 4.980705261230469\n",
      "Time of prediction: 0.11186528205871582\n"
     ]
    }
   ],
   "source": [
    "print('Training the classifier')\n",
    "start_time = time.time()\n",
    "clf = xgb.XGBClassifier(n_estimators=100,early_stopping_rounds=10,\n",
    "                        eval_set=[(X_test, y_test)])\n",
    "#                         objective='binary:hinge'\n",
    "clf = clf.fit(np.array(X_training), np.array(y_training) )\n",
    "print(f\"Time of fit: {time.time()-start_time}\")\n",
    "start_time = time.time()\n",
    "y_prediction = clf.predict(X_test)\n",
    "print(f\"Time of prediction: {time.time()-start_time}\")"
   ]
  },
  {
   "cell_type": "code",
   "execution_count": 177,
   "metadata": {},
   "outputs": [
    {
     "name": "stdout",
     "output_type": "stream",
     "text": [
      "Confusion matrix on test set\n",
      "[[32177     2]\n",
      " [  230     1]]\n"
     ]
    }
   ],
   "source": [
    "#with_hdp_lda\n",
    "conf_mat = confusion_matrix(y_test, y_prediction)\n",
    "print('Confusion matrix on test set')\n",
    "print(conf_mat)"
   ]
  },
  {
   "cell_type": "code",
   "execution_count": 22,
   "metadata": {},
   "outputs": [
    {
     "name": "stdout",
     "output_type": "stream",
     "text": [
      "Confusion matrix on test set\n",
      "[[32176     3]\n",
      " [  229     2]]\n"
     ]
    }
   ],
   "source": [
    "#with_hdp\n",
    "conf_mat = confusion_matrix(y_test, y_prediction)\n",
    "print('Confusion matrix on test set')\n",
    "print(conf_mat)"
   ]
  },
  {
   "cell_type": "code",
   "execution_count": 59,
   "metadata": {
    "scrolled": true
   },
   "outputs": [
    {
     "name": "stdout",
     "output_type": "stream",
     "text": [
      "Confusion matrix on test set\n",
      "[[32175     4]\n",
      " [  230     1]]\n"
     ]
    }
   ],
   "source": [
    "conf_mat = confusion_matrix(y_test, y_prediction)\n",
    "print('Confusion matrix on test set')\n",
    "print(conf_mat)"
   ]
  },
  {
   "cell_type": "code",
   "execution_count": 115,
   "metadata": {
    "scrolled": true
   },
   "outputs": [
    {
     "name": "stdout",
     "output_type": "stream",
     "text": [
      "Training the classifier\n",
      "0:\tlearn: 0.4447000\ttotal: 34.3ms\tremaining: 34.3s\n",
      "1:\tlearn: 0.3054386\ttotal: 66.4ms\tremaining: 33.2s\n",
      "2:\tlearn: 0.2090293\ttotal: 98.9ms\tremaining: 32.9s\n",
      "3:\tlearn: 0.1474756\ttotal: 131ms\tremaining: 32.6s\n",
      "4:\tlearn: 0.1091172\ttotal: 163ms\tremaining: 32.4s\n",
      "5:\tlearn: 0.0851463\ttotal: 193ms\tremaining: 32s\n",
      "6:\tlearn: 0.0687809\ttotal: 222ms\tremaining: 31.4s\n",
      "7:\tlearn: 0.0580740\ttotal: 255ms\tremaining: 31.6s\n",
      "8:\tlearn: 0.0510507\ttotal: 288ms\tremaining: 31.7s\n",
      "9:\tlearn: 0.0460135\ttotal: 324ms\tremaining: 32.1s\n",
      "10:\tlearn: 0.0422194\ttotal: 362ms\tremaining: 32.5s\n",
      "11:\tlearn: 0.0396025\ttotal: 403ms\tremaining: 33.2s\n",
      "12:\tlearn: 0.0376839\ttotal: 441ms\tremaining: 33.5s\n",
      "13:\tlearn: 0.0362216\ttotal: 482ms\tremaining: 34s\n",
      "14:\tlearn: 0.0350444\ttotal: 532ms\tremaining: 35s\n",
      "15:\tlearn: 0.0339971\ttotal: 580ms\tremaining: 35.7s\n",
      "16:\tlearn: 0.0332392\ttotal: 620ms\tremaining: 35.8s\n",
      "17:\tlearn: 0.0326727\ttotal: 659ms\tremaining: 35.9s\n",
      "18:\tlearn: 0.0322825\ttotal: 700ms\tremaining: 36.1s\n",
      "19:\tlearn: 0.0319338\ttotal: 742ms\tremaining: 36.3s\n",
      "20:\tlearn: 0.0316578\ttotal: 789ms\tremaining: 36.8s\n",
      "21:\tlearn: 0.0313855\ttotal: 825ms\tremaining: 36.7s\n",
      "22:\tlearn: 0.0311580\ttotal: 862ms\tremaining: 36.6s\n",
      "23:\tlearn: 0.0309667\ttotal: 910ms\tremaining: 37s\n",
      "24:\tlearn: 0.0308114\ttotal: 947ms\tremaining: 36.9s\n",
      "25:\tlearn: 0.0306540\ttotal: 982ms\tremaining: 36.8s\n",
      "26:\tlearn: 0.0305728\ttotal: 1.01s\tremaining: 36.6s\n",
      "27:\tlearn: 0.0304365\ttotal: 1.05s\tremaining: 36.3s\n",
      "28:\tlearn: 0.0303490\ttotal: 1.08s\tremaining: 36.1s\n",
      "29:\tlearn: 0.0302339\ttotal: 1.11s\tremaining: 35.9s\n",
      "30:\tlearn: 0.0301490\ttotal: 1.14s\tremaining: 35.8s\n",
      "31:\tlearn: 0.0300562\ttotal: 1.18s\tremaining: 35.6s\n",
      "32:\tlearn: 0.0299779\ttotal: 1.21s\tremaining: 35.6s\n",
      "33:\tlearn: 0.0299076\ttotal: 1.25s\tremaining: 35.4s\n",
      "34:\tlearn: 0.0298420\ttotal: 1.29s\tremaining: 35.5s\n",
      "35:\tlearn: 0.0297826\ttotal: 1.32s\tremaining: 35.5s\n",
      "36:\tlearn: 0.0297649\ttotal: 1.35s\tremaining: 35.3s\n",
      "37:\tlearn: 0.0297241\ttotal: 1.39s\tremaining: 35.3s\n",
      "38:\tlearn: 0.0296707\ttotal: 1.43s\tremaining: 35.1s\n",
      "39:\tlearn: 0.0296199\ttotal: 1.47s\tremaining: 35.3s\n",
      "40:\tlearn: 0.0295624\ttotal: 1.5s\tremaining: 35.1s\n",
      "41:\tlearn: 0.0294982\ttotal: 1.54s\tremaining: 35.1s\n",
      "42:\tlearn: 0.0294566\ttotal: 1.57s\tremaining: 35s\n",
      "43:\tlearn: 0.0294099\ttotal: 1.61s\tremaining: 34.9s\n",
      "44:\tlearn: 0.0293590\ttotal: 1.64s\tremaining: 34.7s\n",
      "45:\tlearn: 0.0292982\ttotal: 1.67s\tremaining: 34.6s\n",
      "46:\tlearn: 0.0292496\ttotal: 1.7s\tremaining: 34.6s\n",
      "47:\tlearn: 0.0291885\ttotal: 1.75s\tremaining: 34.7s\n",
      "48:\tlearn: 0.0291549\ttotal: 1.78s\tremaining: 34.6s\n",
      "49:\tlearn: 0.0291001\ttotal: 1.81s\tremaining: 34.5s\n",
      "50:\tlearn: 0.0290439\ttotal: 1.85s\tremaining: 34.4s\n",
      "51:\tlearn: 0.0290290\ttotal: 1.88s\tremaining: 34.4s\n",
      "52:\tlearn: 0.0289594\ttotal: 1.91s\tremaining: 34.2s\n",
      "53:\tlearn: 0.0289252\ttotal: 1.95s\tremaining: 34.1s\n",
      "54:\tlearn: 0.0289003\ttotal: 1.98s\tremaining: 34s\n",
      "55:\tlearn: 0.0288687\ttotal: 2.01s\tremaining: 33.9s\n",
      "56:\tlearn: 0.0288468\ttotal: 2.05s\tremaining: 33.9s\n",
      "57:\tlearn: 0.0288093\ttotal: 2.08s\tremaining: 33.9s\n",
      "58:\tlearn: 0.0287725\ttotal: 2.12s\tremaining: 33.8s\n",
      "59:\tlearn: 0.0287335\ttotal: 2.16s\tremaining: 33.9s\n",
      "60:\tlearn: 0.0287141\ttotal: 2.19s\tremaining: 33.8s\n",
      "61:\tlearn: 0.0286981\ttotal: 2.23s\tremaining: 33.8s\n",
      "62:\tlearn: 0.0286660\ttotal: 2.27s\tremaining: 33.7s\n",
      "63:\tlearn: 0.0286431\ttotal: 2.3s\tremaining: 33.6s\n",
      "64:\tlearn: 0.0286087\ttotal: 2.33s\tremaining: 33.5s\n",
      "65:\tlearn: 0.0285623\ttotal: 2.37s\tremaining: 33.5s\n",
      "66:\tlearn: 0.0285375\ttotal: 2.4s\tremaining: 33.5s\n",
      "67:\tlearn: 0.0285086\ttotal: 2.43s\tremaining: 33.4s\n",
      "68:\tlearn: 0.0284629\ttotal: 2.47s\tremaining: 33.3s\n",
      "69:\tlearn: 0.0284348\ttotal: 2.5s\tremaining: 33.2s\n",
      "70:\tlearn: 0.0284036\ttotal: 2.54s\tremaining: 33.2s\n",
      "71:\tlearn: 0.0283682\ttotal: 2.57s\tremaining: 33.1s\n",
      "72:\tlearn: 0.0283420\ttotal: 2.6s\tremaining: 33.1s\n",
      "73:\tlearn: 0.0283034\ttotal: 2.63s\tremaining: 33s\n",
      "74:\tlearn: 0.0282751\ttotal: 2.67s\tremaining: 33s\n",
      "75:\tlearn: 0.0282585\ttotal: 2.7s\tremaining: 32.9s\n",
      "76:\tlearn: 0.0282254\ttotal: 2.73s\tremaining: 32.8s\n",
      "77:\tlearn: 0.0281827\ttotal: 2.77s\tremaining: 32.7s\n",
      "78:\tlearn: 0.0281565\ttotal: 2.8s\tremaining: 32.6s\n",
      "79:\tlearn: 0.0281207\ttotal: 2.83s\tremaining: 32.5s\n",
      "80:\tlearn: 0.0280802\ttotal: 2.86s\tremaining: 32.5s\n",
      "81:\tlearn: 0.0280612\ttotal: 2.9s\tremaining: 32.5s\n",
      "82:\tlearn: 0.0280409\ttotal: 2.93s\tremaining: 32.4s\n",
      "83:\tlearn: 0.0280260\ttotal: 2.96s\tremaining: 32.3s\n",
      "84:\tlearn: 0.0279999\ttotal: 2.99s\tremaining: 32.2s\n",
      "85:\tlearn: 0.0279705\ttotal: 3.03s\tremaining: 32.2s\n",
      "86:\tlearn: 0.0279457\ttotal: 3.06s\tremaining: 32.1s\n",
      "87:\tlearn: 0.0279178\ttotal: 3.1s\tremaining: 32.1s\n",
      "88:\tlearn: 0.0278875\ttotal: 3.13s\tremaining: 32.1s\n",
      "89:\tlearn: 0.0278312\ttotal: 3.17s\tremaining: 32s\n",
      "90:\tlearn: 0.0278143\ttotal: 3.2s\tremaining: 32s\n",
      "91:\tlearn: 0.0277962\ttotal: 3.28s\tremaining: 32.4s\n",
      "92:\tlearn: 0.0277697\ttotal: 3.4s\tremaining: 33.2s\n",
      "93:\tlearn: 0.0277635\ttotal: 3.43s\tremaining: 33.1s\n",
      "94:\tlearn: 0.0277543\ttotal: 3.47s\tremaining: 33s\n",
      "95:\tlearn: 0.0277213\ttotal: 3.5s\tremaining: 33s\n",
      "96:\tlearn: 0.0276631\ttotal: 3.54s\tremaining: 32.9s\n",
      "97:\tlearn: 0.0276198\ttotal: 3.56s\tremaining: 32.8s\n",
      "98:\tlearn: 0.0275636\ttotal: 3.6s\tremaining: 32.7s\n",
      "99:\tlearn: 0.0275513\ttotal: 3.64s\tremaining: 32.7s\n",
      "100:\tlearn: 0.0275257\ttotal: 3.67s\tremaining: 32.7s\n",
      "101:\tlearn: 0.0274936\ttotal: 3.71s\tremaining: 32.7s\n",
      "102:\tlearn: 0.0274627\ttotal: 3.74s\tremaining: 32.6s\n",
      "103:\tlearn: 0.0274476\ttotal: 3.77s\tremaining: 32.5s\n",
      "104:\tlearn: 0.0274282\ttotal: 3.81s\tremaining: 32.5s\n",
      "105:\tlearn: 0.0273953\ttotal: 3.84s\tremaining: 32.4s\n",
      "106:\tlearn: 0.0273686\ttotal: 3.88s\tremaining: 32.3s\n",
      "107:\tlearn: 0.0273524\ttotal: 3.92s\tremaining: 32.4s\n",
      "108:\tlearn: 0.0273307\ttotal: 3.95s\tremaining: 32.3s\n",
      "109:\tlearn: 0.0273050\ttotal: 4s\tremaining: 32.3s\n",
      "110:\tlearn: 0.0272758\ttotal: 4.03s\tremaining: 32.3s\n",
      "111:\tlearn: 0.0272150\ttotal: 4.06s\tremaining: 32.2s\n",
      "112:\tlearn: 0.0271927\ttotal: 4.09s\tremaining: 32.1s\n",
      "113:\tlearn: 0.0271759\ttotal: 4.13s\tremaining: 32.1s\n",
      "114:\tlearn: 0.0271479\ttotal: 4.16s\tremaining: 32s\n",
      "115:\tlearn: 0.0271093\ttotal: 4.19s\tremaining: 31.9s\n",
      "116:\tlearn: 0.0270872\ttotal: 4.22s\tremaining: 31.8s\n",
      "117:\tlearn: 0.0270454\ttotal: 4.26s\tremaining: 31.9s\n",
      "118:\tlearn: 0.0270165\ttotal: 4.29s\tremaining: 31.8s\n",
      "119:\tlearn: 0.0269966\ttotal: 4.32s\tremaining: 31.7s\n",
      "120:\tlearn: 0.0269669\ttotal: 4.35s\tremaining: 31.6s\n",
      "121:\tlearn: 0.0269508\ttotal: 4.38s\tremaining: 31.5s\n",
      "122:\tlearn: 0.0269392\ttotal: 4.41s\tremaining: 31.5s\n",
      "123:\tlearn: 0.0269085\ttotal: 4.44s\tremaining: 31.4s\n",
      "124:\tlearn: 0.0268849\ttotal: 4.48s\tremaining: 31.3s\n",
      "125:\tlearn: 0.0268633\ttotal: 4.52s\tremaining: 31.4s\n",
      "126:\tlearn: 0.0268483\ttotal: 4.56s\tremaining: 31.3s\n",
      "127:\tlearn: 0.0268240\ttotal: 4.59s\tremaining: 31.3s\n",
      "128:\tlearn: 0.0267983\ttotal: 4.62s\tremaining: 31.2s\n",
      "129:\tlearn: 0.0267855\ttotal: 4.66s\tremaining: 31.2s\n",
      "130:\tlearn: 0.0267518\ttotal: 4.7s\tremaining: 31.2s\n",
      "131:\tlearn: 0.0267245\ttotal: 4.74s\tremaining: 31.2s\n",
      "132:\tlearn: 0.0266952\ttotal: 4.77s\tremaining: 31.1s\n",
      "133:\tlearn: 0.0266745\ttotal: 4.8s\tremaining: 31s\n",
      "134:\tlearn: 0.0266588\ttotal: 4.85s\tremaining: 31.1s\n",
      "135:\tlearn: 0.0266331\ttotal: 4.88s\tremaining: 31s\n",
      "136:\tlearn: 0.0266179\ttotal: 4.91s\tremaining: 30.9s\n",
      "137:\tlearn: 0.0265981\ttotal: 4.94s\tremaining: 30.9s\n",
      "138:\tlearn: 0.0265639\ttotal: 4.97s\tremaining: 30.8s\n",
      "139:\tlearn: 0.0265470\ttotal: 5s\tremaining: 30.7s\n",
      "140:\tlearn: 0.0265221\ttotal: 5.03s\tremaining: 30.7s\n",
      "141:\tlearn: 0.0264835\ttotal: 5.06s\tremaining: 30.6s\n",
      "142:\tlearn: 0.0264730\ttotal: 5.09s\tremaining: 30.5s\n",
      "143:\tlearn: 0.0264605\ttotal: 5.13s\tremaining: 30.5s\n",
      "144:\tlearn: 0.0264351\ttotal: 5.16s\tremaining: 30.4s\n",
      "145:\tlearn: 0.0264218\ttotal: 5.19s\tremaining: 30.4s\n",
      "146:\tlearn: 0.0264024\ttotal: 5.23s\tremaining: 30.3s\n",
      "147:\tlearn: 0.0263810\ttotal: 5.26s\tremaining: 30.3s\n",
      "148:\tlearn: 0.0263587\ttotal: 5.28s\tremaining: 30.2s\n",
      "149:\tlearn: 0.0263523\ttotal: 5.32s\tremaining: 30.1s\n",
      "150:\tlearn: 0.0263280\ttotal: 5.34s\tremaining: 30.1s\n",
      "151:\tlearn: 0.0263202\ttotal: 5.37s\tremaining: 30s\n",
      "152:\tlearn: 0.0263000\ttotal: 5.4s\tremaining: 29.9s\n",
      "153:\tlearn: 0.0262900\ttotal: 5.43s\tremaining: 29.8s\n",
      "154:\tlearn: 0.0262677\ttotal: 5.46s\tremaining: 29.8s\n",
      "155:\tlearn: 0.0262553\ttotal: 5.49s\tremaining: 29.7s\n",
      "156:\tlearn: 0.0262333\ttotal: 5.53s\tremaining: 29.7s\n",
      "157:\tlearn: 0.0261965\ttotal: 5.56s\tremaining: 29.6s\n",
      "158:\tlearn: 0.0261771\ttotal: 5.6s\tremaining: 29.6s\n",
      "159:\tlearn: 0.0261501\ttotal: 5.64s\tremaining: 29.6s\n",
      "160:\tlearn: 0.0261184\ttotal: 5.67s\tremaining: 29.6s\n",
      "161:\tlearn: 0.0260883\ttotal: 5.71s\tremaining: 29.5s\n",
      "162:\tlearn: 0.0260740\ttotal: 5.74s\tremaining: 29.5s\n"
     ]
    },
    {
     "name": "stdout",
     "output_type": "stream",
     "text": [
      "163:\tlearn: 0.0260503\ttotal: 5.78s\tremaining: 29.5s\n",
      "164:\tlearn: 0.0260241\ttotal: 5.82s\tremaining: 29.4s\n",
      "165:\tlearn: 0.0259972\ttotal: 5.85s\tremaining: 29.4s\n",
      "166:\tlearn: 0.0259801\ttotal: 5.88s\tremaining: 29.4s\n",
      "167:\tlearn: 0.0259665\ttotal: 5.91s\tremaining: 29.3s\n",
      "168:\tlearn: 0.0259538\ttotal: 5.95s\tremaining: 29.2s\n",
      "169:\tlearn: 0.0259420\ttotal: 5.98s\tremaining: 29.2s\n",
      "170:\tlearn: 0.0259232\ttotal: 6.01s\tremaining: 29.1s\n",
      "171:\tlearn: 0.0259001\ttotal: 6.05s\tremaining: 29.1s\n",
      "172:\tlearn: 0.0258943\ttotal: 6.09s\tremaining: 29.1s\n",
      "173:\tlearn: 0.0258877\ttotal: 6.12s\tremaining: 29.1s\n",
      "174:\tlearn: 0.0258661\ttotal: 6.15s\tremaining: 29s\n",
      "175:\tlearn: 0.0258460\ttotal: 6.18s\tremaining: 29s\n",
      "176:\tlearn: 0.0258261\ttotal: 6.21s\tremaining: 28.9s\n",
      "177:\tlearn: 0.0258133\ttotal: 6.25s\tremaining: 28.8s\n",
      "178:\tlearn: 0.0257983\ttotal: 6.28s\tremaining: 28.8s\n",
      "179:\tlearn: 0.0257933\ttotal: 6.31s\tremaining: 28.8s\n",
      "180:\tlearn: 0.0257785\ttotal: 6.35s\tremaining: 28.7s\n",
      "181:\tlearn: 0.0257390\ttotal: 6.38s\tremaining: 28.7s\n",
      "182:\tlearn: 0.0257197\ttotal: 6.42s\tremaining: 28.6s\n",
      "183:\tlearn: 0.0256933\ttotal: 6.45s\tremaining: 28.6s\n",
      "184:\tlearn: 0.0256614\ttotal: 6.49s\tremaining: 28.6s\n",
      "185:\tlearn: 0.0256525\ttotal: 6.53s\tremaining: 28.6s\n",
      "186:\tlearn: 0.0256219\ttotal: 6.57s\tremaining: 28.6s\n",
      "187:\tlearn: 0.0256086\ttotal: 6.62s\tremaining: 28.6s\n",
      "188:\tlearn: 0.0255884\ttotal: 6.66s\tremaining: 28.6s\n",
      "189:\tlearn: 0.0255810\ttotal: 6.7s\tremaining: 28.6s\n",
      "190:\tlearn: 0.0255558\ttotal: 6.73s\tremaining: 28.5s\n",
      "191:\tlearn: 0.0255514\ttotal: 6.77s\tremaining: 28.5s\n",
      "192:\tlearn: 0.0255315\ttotal: 6.8s\tremaining: 28.4s\n",
      "193:\tlearn: 0.0255120\ttotal: 6.83s\tremaining: 28.4s\n",
      "194:\tlearn: 0.0254944\ttotal: 6.86s\tremaining: 28.3s\n",
      "195:\tlearn: 0.0254738\ttotal: 6.9s\tremaining: 28.3s\n",
      "196:\tlearn: 0.0254474\ttotal: 6.93s\tremaining: 28.2s\n",
      "197:\tlearn: 0.0254358\ttotal: 6.97s\tremaining: 28.2s\n",
      "198:\tlearn: 0.0254170\ttotal: 7s\tremaining: 28.2s\n",
      "199:\tlearn: 0.0253930\ttotal: 7.04s\tremaining: 28.1s\n",
      "200:\tlearn: 0.0253891\ttotal: 7.07s\tremaining: 28.1s\n",
      "201:\tlearn: 0.0253740\ttotal: 7.11s\tremaining: 28.1s\n",
      "202:\tlearn: 0.0253446\ttotal: 7.14s\tremaining: 28s\n",
      "203:\tlearn: 0.0253274\ttotal: 7.17s\tremaining: 28s\n",
      "204:\tlearn: 0.0253204\ttotal: 7.21s\tremaining: 28s\n",
      "205:\tlearn: 0.0253113\ttotal: 7.25s\tremaining: 27.9s\n",
      "206:\tlearn: 0.0252980\ttotal: 7.28s\tremaining: 27.9s\n",
      "207:\tlearn: 0.0252726\ttotal: 7.33s\tremaining: 27.9s\n",
      "208:\tlearn: 0.0252480\ttotal: 7.37s\tremaining: 27.9s\n",
      "209:\tlearn: 0.0252248\ttotal: 7.4s\tremaining: 27.8s\n",
      "210:\tlearn: 0.0252091\ttotal: 7.44s\tremaining: 27.8s\n",
      "211:\tlearn: 0.0251975\ttotal: 7.48s\tremaining: 27.8s\n",
      "212:\tlearn: 0.0251699\ttotal: 7.51s\tremaining: 27.7s\n",
      "213:\tlearn: 0.0251628\ttotal: 7.54s\tremaining: 27.7s\n",
      "214:\tlearn: 0.0251535\ttotal: 7.57s\tremaining: 27.7s\n",
      "215:\tlearn: 0.0251332\ttotal: 7.61s\tremaining: 27.6s\n",
      "216:\tlearn: 0.0251083\ttotal: 7.64s\tremaining: 27.6s\n",
      "217:\tlearn: 0.0250660\ttotal: 7.67s\tremaining: 27.5s\n",
      "218:\tlearn: 0.0250326\ttotal: 7.7s\tremaining: 27.5s\n",
      "219:\tlearn: 0.0249988\ttotal: 7.73s\tremaining: 27.4s\n",
      "220:\tlearn: 0.0249819\ttotal: 7.76s\tremaining: 27.4s\n",
      "221:\tlearn: 0.0249682\ttotal: 7.79s\tremaining: 27.3s\n",
      "222:\tlearn: 0.0249458\ttotal: 7.83s\tremaining: 27.3s\n",
      "223:\tlearn: 0.0249277\ttotal: 7.87s\tremaining: 27.3s\n",
      "224:\tlearn: 0.0248964\ttotal: 7.9s\tremaining: 27.2s\n",
      "225:\tlearn: 0.0248804\ttotal: 7.94s\tremaining: 27.2s\n",
      "226:\tlearn: 0.0248621\ttotal: 7.97s\tremaining: 27.2s\n",
      "227:\tlearn: 0.0248546\ttotal: 8.01s\tremaining: 27.1s\n",
      "228:\tlearn: 0.0248365\ttotal: 8.05s\tremaining: 27.1s\n",
      "229:\tlearn: 0.0248042\ttotal: 8.08s\tremaining: 27.1s\n",
      "230:\tlearn: 0.0247789\ttotal: 8.11s\tremaining: 27s\n",
      "231:\tlearn: 0.0247479\ttotal: 8.16s\tremaining: 27s\n",
      "232:\tlearn: 0.0247326\ttotal: 8.19s\tremaining: 27s\n",
      "233:\tlearn: 0.0247130\ttotal: 8.22s\tremaining: 26.9s\n",
      "234:\tlearn: 0.0246895\ttotal: 8.25s\tremaining: 26.9s\n",
      "235:\tlearn: 0.0246692\ttotal: 8.29s\tremaining: 26.8s\n",
      "236:\tlearn: 0.0246369\ttotal: 8.32s\tremaining: 26.8s\n",
      "237:\tlearn: 0.0246227\ttotal: 8.36s\tremaining: 26.8s\n",
      "238:\tlearn: 0.0246082\ttotal: 8.4s\tremaining: 26.7s\n",
      "239:\tlearn: 0.0245996\ttotal: 8.43s\tremaining: 26.7s\n",
      "240:\tlearn: 0.0245899\ttotal: 8.47s\tremaining: 26.7s\n",
      "241:\tlearn: 0.0245799\ttotal: 8.51s\tremaining: 26.6s\n",
      "242:\tlearn: 0.0245767\ttotal: 8.54s\tremaining: 26.6s\n",
      "243:\tlearn: 0.0245569\ttotal: 8.58s\tremaining: 26.6s\n",
      "244:\tlearn: 0.0245482\ttotal: 8.61s\tremaining: 26.5s\n",
      "245:\tlearn: 0.0245355\ttotal: 8.64s\tremaining: 26.5s\n",
      "246:\tlearn: 0.0245169\ttotal: 8.67s\tremaining: 26.4s\n",
      "247:\tlearn: 0.0244970\ttotal: 8.71s\tremaining: 26.4s\n",
      "248:\tlearn: 0.0244929\ttotal: 8.74s\tremaining: 26.4s\n",
      "249:\tlearn: 0.0244757\ttotal: 8.77s\tremaining: 26.3s\n",
      "250:\tlearn: 0.0244593\ttotal: 8.81s\tremaining: 26.3s\n",
      "251:\tlearn: 0.0244461\ttotal: 8.84s\tremaining: 26.2s\n",
      "252:\tlearn: 0.0244306\ttotal: 8.87s\tremaining: 26.2s\n",
      "253:\tlearn: 0.0244219\ttotal: 8.9s\tremaining: 26.2s\n",
      "254:\tlearn: 0.0244157\ttotal: 8.94s\tremaining: 26.1s\n",
      "255:\tlearn: 0.0243914\ttotal: 8.98s\tremaining: 26.1s\n",
      "256:\tlearn: 0.0243780\ttotal: 9.02s\tremaining: 26.1s\n",
      "257:\tlearn: 0.0243529\ttotal: 9.05s\tremaining: 26s\n",
      "258:\tlearn: 0.0243325\ttotal: 9.08s\tremaining: 26s\n",
      "259:\tlearn: 0.0243150\ttotal: 9.11s\tremaining: 25.9s\n",
      "260:\tlearn: 0.0242938\ttotal: 9.14s\tremaining: 25.9s\n",
      "261:\tlearn: 0.0242738\ttotal: 9.17s\tremaining: 25.8s\n",
      "262:\tlearn: 0.0242484\ttotal: 9.21s\tremaining: 25.8s\n",
      "263:\tlearn: 0.0242373\ttotal: 9.24s\tremaining: 25.8s\n",
      "264:\tlearn: 0.0242138\ttotal: 9.28s\tremaining: 25.7s\n",
      "265:\tlearn: 0.0241813\ttotal: 9.31s\tremaining: 25.7s\n",
      "266:\tlearn: 0.0241502\ttotal: 9.34s\tremaining: 25.6s\n",
      "267:\tlearn: 0.0241460\ttotal: 9.38s\tremaining: 25.6s\n",
      "268:\tlearn: 0.0241314\ttotal: 9.4s\tremaining: 25.6s\n",
      "269:\tlearn: 0.0241163\ttotal: 9.44s\tremaining: 25.5s\n",
      "270:\tlearn: 0.0240700\ttotal: 9.47s\tremaining: 25.5s\n",
      "271:\tlearn: 0.0240611\ttotal: 9.5s\tremaining: 25.4s\n",
      "272:\tlearn: 0.0240509\ttotal: 9.53s\tremaining: 25.4s\n",
      "273:\tlearn: 0.0240480\ttotal: 9.56s\tremaining: 25.3s\n",
      "274:\tlearn: 0.0240402\ttotal: 9.6s\tremaining: 25.3s\n",
      "275:\tlearn: 0.0240329\ttotal: 9.63s\tremaining: 25.3s\n",
      "276:\tlearn: 0.0240273\ttotal: 9.66s\tremaining: 25.2s\n",
      "277:\tlearn: 0.0240226\ttotal: 9.7s\tremaining: 25.2s\n",
      "278:\tlearn: 0.0240064\ttotal: 9.72s\tremaining: 25.1s\n",
      "279:\tlearn: 0.0239890\ttotal: 9.76s\tremaining: 25.1s\n",
      "280:\tlearn: 0.0239625\ttotal: 9.79s\tremaining: 25.1s\n",
      "281:\tlearn: 0.0239495\ttotal: 9.82s\tremaining: 25s\n",
      "282:\tlearn: 0.0239352\ttotal: 9.85s\tremaining: 25s\n",
      "283:\tlearn: 0.0239134\ttotal: 9.88s\tremaining: 24.9s\n",
      "284:\tlearn: 0.0239052\ttotal: 9.91s\tremaining: 24.9s\n",
      "285:\tlearn: 0.0238876\ttotal: 9.94s\tremaining: 24.8s\n",
      "286:\tlearn: 0.0238525\ttotal: 9.98s\tremaining: 24.8s\n",
      "287:\tlearn: 0.0238456\ttotal: 10s\tremaining: 24.7s\n",
      "288:\tlearn: 0.0238342\ttotal: 10s\tremaining: 24.7s\n",
      "289:\tlearn: 0.0238136\ttotal: 10.1s\tremaining: 24.7s\n",
      "290:\tlearn: 0.0238004\ttotal: 10.1s\tremaining: 24.6s\n",
      "291:\tlearn: 0.0237810\ttotal: 10.1s\tremaining: 24.6s\n",
      "292:\tlearn: 0.0237612\ttotal: 10.2s\tremaining: 24.6s\n",
      "293:\tlearn: 0.0237413\ttotal: 10.2s\tremaining: 24.5s\n",
      "294:\tlearn: 0.0237293\ttotal: 10.2s\tremaining: 24.5s\n",
      "295:\tlearn: 0.0237077\ttotal: 10.3s\tremaining: 24.4s\n",
      "296:\tlearn: 0.0236919\ttotal: 10.3s\tremaining: 24.4s\n",
      "297:\tlearn: 0.0236841\ttotal: 10.3s\tremaining: 24.4s\n",
      "298:\tlearn: 0.0236638\ttotal: 10.4s\tremaining: 24.3s\n",
      "299:\tlearn: 0.0236594\ttotal: 10.4s\tremaining: 24.3s\n",
      "300:\tlearn: 0.0236541\ttotal: 10.4s\tremaining: 24.2s\n",
      "301:\tlearn: 0.0236245\ttotal: 10.5s\tremaining: 24.2s\n",
      "302:\tlearn: 0.0236198\ttotal: 10.5s\tremaining: 24.2s\n",
      "303:\tlearn: 0.0236083\ttotal: 10.6s\tremaining: 24.3s\n",
      "304:\tlearn: 0.0235817\ttotal: 10.6s\tremaining: 24.2s\n",
      "305:\tlearn: 0.0235624\ttotal: 10.7s\tremaining: 24.2s\n",
      "306:\tlearn: 0.0235462\ttotal: 10.7s\tremaining: 24.2s\n",
      "307:\tlearn: 0.0235342\ttotal: 10.7s\tremaining: 24.1s\n",
      "308:\tlearn: 0.0235246\ttotal: 10.8s\tremaining: 24.1s\n",
      "309:\tlearn: 0.0235089\ttotal: 10.8s\tremaining: 24s\n",
      "310:\tlearn: 0.0234983\ttotal: 10.8s\tremaining: 24s\n",
      "311:\tlearn: 0.0234919\ttotal: 10.9s\tremaining: 24s\n",
      "312:\tlearn: 0.0234893\ttotal: 10.9s\tremaining: 23.9s\n",
      "313:\tlearn: 0.0234418\ttotal: 10.9s\tremaining: 23.9s\n",
      "314:\tlearn: 0.0234187\ttotal: 11s\tremaining: 23.9s\n",
      "315:\tlearn: 0.0234048\ttotal: 11s\tremaining: 23.8s\n",
      "316:\tlearn: 0.0233994\ttotal: 11s\tremaining: 23.8s\n",
      "317:\tlearn: 0.0233872\ttotal: 11.1s\tremaining: 23.7s\n",
      "318:\tlearn: 0.0233812\ttotal: 11.1s\tremaining: 23.7s\n",
      "319:\tlearn: 0.0233782\ttotal: 11.1s\tremaining: 23.6s\n",
      "320:\tlearn: 0.0233680\ttotal: 11.2s\tremaining: 23.6s\n",
      "321:\tlearn: 0.0233588\ttotal: 11.2s\tremaining: 23.6s\n",
      "322:\tlearn: 0.0233481\ttotal: 11.2s\tremaining: 23.5s\n",
      "323:\tlearn: 0.0233241\ttotal: 11.3s\tremaining: 23.5s\n"
     ]
    },
    {
     "name": "stdout",
     "output_type": "stream",
     "text": [
      "324:\tlearn: 0.0233121\ttotal: 11.3s\tremaining: 23.5s\n",
      "325:\tlearn: 0.0232980\ttotal: 11.3s\tremaining: 23.5s\n",
      "326:\tlearn: 0.0232896\ttotal: 11.4s\tremaining: 23.5s\n",
      "327:\tlearn: 0.0232722\ttotal: 11.4s\tremaining: 23.4s\n",
      "328:\tlearn: 0.0232652\ttotal: 11.5s\tremaining: 23.4s\n",
      "329:\tlearn: 0.0232459\ttotal: 11.5s\tremaining: 23.4s\n",
      "330:\tlearn: 0.0232380\ttotal: 11.6s\tremaining: 23.4s\n",
      "331:\tlearn: 0.0232280\ttotal: 11.6s\tremaining: 23.3s\n",
      "332:\tlearn: 0.0232107\ttotal: 11.6s\tremaining: 23.3s\n",
      "333:\tlearn: 0.0231929\ttotal: 11.7s\tremaining: 23.2s\n",
      "334:\tlearn: 0.0231756\ttotal: 11.7s\tremaining: 23.2s\n",
      "335:\tlearn: 0.0231662\ttotal: 11.7s\tremaining: 23.2s\n",
      "336:\tlearn: 0.0231514\ttotal: 11.8s\tremaining: 23.2s\n",
      "337:\tlearn: 0.0231375\ttotal: 11.8s\tremaining: 23.1s\n",
      "338:\tlearn: 0.0231202\ttotal: 11.8s\tremaining: 23.1s\n",
      "339:\tlearn: 0.0231154\ttotal: 11.9s\tremaining: 23s\n",
      "340:\tlearn: 0.0231000\ttotal: 11.9s\tremaining: 23s\n",
      "341:\tlearn: 0.0230876\ttotal: 11.9s\tremaining: 23s\n",
      "342:\tlearn: 0.0230740\ttotal: 12s\tremaining: 22.9s\n",
      "343:\tlearn: 0.0230650\ttotal: 12s\tremaining: 22.9s\n",
      "344:\tlearn: 0.0230524\ttotal: 12s\tremaining: 22.8s\n",
      "345:\tlearn: 0.0230474\ttotal: 12.1s\tremaining: 22.8s\n",
      "346:\tlearn: 0.0230329\ttotal: 12.1s\tremaining: 22.8s\n",
      "347:\tlearn: 0.0230159\ttotal: 12.1s\tremaining: 22.7s\n",
      "348:\tlearn: 0.0230076\ttotal: 12.2s\tremaining: 22.7s\n",
      "349:\tlearn: 0.0230022\ttotal: 12.2s\tremaining: 22.6s\n",
      "350:\tlearn: 0.0229894\ttotal: 12.2s\tremaining: 22.6s\n",
      "351:\tlearn: 0.0229805\ttotal: 12.3s\tremaining: 22.6s\n",
      "352:\tlearn: 0.0229654\ttotal: 12.3s\tremaining: 22.5s\n",
      "353:\tlearn: 0.0229553\ttotal: 12.3s\tremaining: 22.5s\n",
      "354:\tlearn: 0.0229350\ttotal: 12.3s\tremaining: 22.4s\n",
      "355:\tlearn: 0.0229161\ttotal: 12.4s\tremaining: 22.4s\n",
      "356:\tlearn: 0.0228919\ttotal: 12.4s\tremaining: 22.3s\n",
      "357:\tlearn: 0.0228895\ttotal: 12.4s\tremaining: 22.3s\n",
      "358:\tlearn: 0.0228692\ttotal: 12.5s\tremaining: 22.3s\n",
      "359:\tlearn: 0.0228572\ttotal: 12.5s\tremaining: 22.2s\n",
      "360:\tlearn: 0.0228445\ttotal: 12.5s\tremaining: 22.2s\n",
      "361:\tlearn: 0.0228337\ttotal: 12.6s\tremaining: 22.1s\n",
      "362:\tlearn: 0.0228321\ttotal: 12.6s\tremaining: 22.1s\n",
      "363:\tlearn: 0.0228252\ttotal: 12.6s\tremaining: 22.1s\n",
      "364:\tlearn: 0.0228073\ttotal: 12.7s\tremaining: 22.1s\n",
      "365:\tlearn: 0.0227812\ttotal: 12.7s\tremaining: 22s\n",
      "366:\tlearn: 0.0227718\ttotal: 12.7s\tremaining: 22s\n",
      "367:\tlearn: 0.0227373\ttotal: 12.8s\tremaining: 21.9s\n",
      "368:\tlearn: 0.0227174\ttotal: 12.8s\tremaining: 21.9s\n",
      "369:\tlearn: 0.0227019\ttotal: 12.8s\tremaining: 21.9s\n",
      "370:\tlearn: 0.0226891\ttotal: 12.9s\tremaining: 21.8s\n",
      "371:\tlearn: 0.0226753\ttotal: 12.9s\tremaining: 21.8s\n",
      "372:\tlearn: 0.0226712\ttotal: 12.9s\tremaining: 21.8s\n",
      "373:\tlearn: 0.0226668\ttotal: 13s\tremaining: 21.7s\n",
      "374:\tlearn: 0.0226529\ttotal: 13s\tremaining: 21.7s\n",
      "375:\tlearn: 0.0226207\ttotal: 13s\tremaining: 21.6s\n",
      "376:\tlearn: 0.0226036\ttotal: 13.1s\tremaining: 21.6s\n",
      "377:\tlearn: 0.0225952\ttotal: 13.1s\tremaining: 21.6s\n",
      "378:\tlearn: 0.0225844\ttotal: 13.1s\tremaining: 21.5s\n",
      "379:\tlearn: 0.0225773\ttotal: 13.2s\tremaining: 21.5s\n",
      "380:\tlearn: 0.0225696\ttotal: 13.2s\tremaining: 21.4s\n",
      "381:\tlearn: 0.0225601\ttotal: 13.2s\tremaining: 21.4s\n",
      "382:\tlearn: 0.0225434\ttotal: 13.3s\tremaining: 21.3s\n",
      "383:\tlearn: 0.0225311\ttotal: 13.3s\tremaining: 21.3s\n",
      "384:\tlearn: 0.0225173\ttotal: 13.3s\tremaining: 21.3s\n",
      "385:\tlearn: 0.0225045\ttotal: 13.3s\tremaining: 21.2s\n",
      "386:\tlearn: 0.0224923\ttotal: 13.4s\tremaining: 21.2s\n",
      "387:\tlearn: 0.0224847\ttotal: 13.4s\tremaining: 21.1s\n",
      "388:\tlearn: 0.0224610\ttotal: 13.4s\tremaining: 21.1s\n",
      "389:\tlearn: 0.0224467\ttotal: 13.5s\tremaining: 21.1s\n",
      "390:\tlearn: 0.0224151\ttotal: 13.5s\tremaining: 21s\n",
      "391:\tlearn: 0.0224107\ttotal: 13.5s\tremaining: 21s\n",
      "392:\tlearn: 0.0223947\ttotal: 13.6s\tremaining: 20.9s\n",
      "393:\tlearn: 0.0223822\ttotal: 13.6s\tremaining: 20.9s\n",
      "394:\tlearn: 0.0223738\ttotal: 13.6s\tremaining: 20.9s\n",
      "395:\tlearn: 0.0223575\ttotal: 13.7s\tremaining: 20.8s\n",
      "396:\tlearn: 0.0223418\ttotal: 13.7s\tremaining: 20.8s\n",
      "397:\tlearn: 0.0223248\ttotal: 13.7s\tremaining: 20.8s\n",
      "398:\tlearn: 0.0222966\ttotal: 13.8s\tremaining: 20.7s\n",
      "399:\tlearn: 0.0222917\ttotal: 13.8s\tremaining: 20.7s\n",
      "400:\tlearn: 0.0222605\ttotal: 13.8s\tremaining: 20.6s\n",
      "401:\tlearn: 0.0222242\ttotal: 13.9s\tremaining: 20.6s\n",
      "402:\tlearn: 0.0222115\ttotal: 13.9s\tremaining: 20.6s\n",
      "403:\tlearn: 0.0222035\ttotal: 13.9s\tremaining: 20.5s\n",
      "404:\tlearn: 0.0221941\ttotal: 14s\tremaining: 20.5s\n",
      "405:\tlearn: 0.0221879\ttotal: 14s\tremaining: 20.5s\n",
      "406:\tlearn: 0.0221656\ttotal: 14s\tremaining: 20.4s\n",
      "407:\tlearn: 0.0221625\ttotal: 14.1s\tremaining: 20.4s\n",
      "408:\tlearn: 0.0221584\ttotal: 14.1s\tremaining: 20.4s\n",
      "409:\tlearn: 0.0221293\ttotal: 14.1s\tremaining: 20.3s\n",
      "410:\tlearn: 0.0221137\ttotal: 14.2s\tremaining: 20.3s\n",
      "411:\tlearn: 0.0220989\ttotal: 14.2s\tremaining: 20.2s\n",
      "412:\tlearn: 0.0220745\ttotal: 14.2s\tremaining: 20.2s\n",
      "413:\tlearn: 0.0220500\ttotal: 14.2s\tremaining: 20.2s\n",
      "414:\tlearn: 0.0220427\ttotal: 14.3s\tremaining: 20.1s\n",
      "415:\tlearn: 0.0220269\ttotal: 14.3s\tremaining: 20.1s\n",
      "416:\tlearn: 0.0220141\ttotal: 14.3s\tremaining: 20.1s\n",
      "417:\tlearn: 0.0220041\ttotal: 14.4s\tremaining: 20s\n",
      "418:\tlearn: 0.0219954\ttotal: 14.4s\tremaining: 20s\n",
      "419:\tlearn: 0.0219891\ttotal: 14.4s\tremaining: 19.9s\n",
      "420:\tlearn: 0.0219837\ttotal: 14.5s\tremaining: 19.9s\n",
      "421:\tlearn: 0.0219776\ttotal: 14.5s\tremaining: 19.9s\n",
      "422:\tlearn: 0.0219723\ttotal: 14.5s\tremaining: 19.8s\n",
      "423:\tlearn: 0.0219671\ttotal: 14.6s\tremaining: 19.8s\n",
      "424:\tlearn: 0.0219582\ttotal: 14.6s\tremaining: 19.8s\n",
      "425:\tlearn: 0.0219383\ttotal: 14.6s\tremaining: 19.7s\n",
      "426:\tlearn: 0.0219205\ttotal: 14.7s\tremaining: 19.7s\n",
      "427:\tlearn: 0.0219157\ttotal: 14.7s\tremaining: 19.7s\n",
      "428:\tlearn: 0.0219112\ttotal: 14.7s\tremaining: 19.6s\n",
      "429:\tlearn: 0.0219074\ttotal: 14.8s\tremaining: 19.6s\n",
      "430:\tlearn: 0.0219016\ttotal: 14.8s\tremaining: 19.6s\n",
      "431:\tlearn: 0.0218985\ttotal: 14.8s\tremaining: 19.5s\n",
      "432:\tlearn: 0.0218915\ttotal: 14.9s\tremaining: 19.5s\n",
      "433:\tlearn: 0.0218879\ttotal: 14.9s\tremaining: 19.4s\n",
      "434:\tlearn: 0.0218713\ttotal: 14.9s\tremaining: 19.4s\n",
      "435:\tlearn: 0.0218502\ttotal: 15s\tremaining: 19.4s\n",
      "436:\tlearn: 0.0218447\ttotal: 15s\tremaining: 19.3s\n",
      "437:\tlearn: 0.0218418\ttotal: 15s\tremaining: 19.3s\n",
      "438:\tlearn: 0.0218321\ttotal: 15.1s\tremaining: 19.3s\n",
      "439:\tlearn: 0.0218214\ttotal: 15.1s\tremaining: 19.2s\n",
      "440:\tlearn: 0.0218119\ttotal: 15.1s\tremaining: 19.2s\n",
      "441:\tlearn: 0.0217855\ttotal: 15.2s\tremaining: 19.2s\n",
      "442:\tlearn: 0.0217807\ttotal: 15.2s\tremaining: 19.1s\n",
      "443:\tlearn: 0.0217784\ttotal: 15.2s\tremaining: 19.1s\n",
      "444:\tlearn: 0.0217733\ttotal: 15.3s\tremaining: 19s\n",
      "445:\tlearn: 0.0217576\ttotal: 15.3s\tremaining: 19s\n",
      "446:\tlearn: 0.0217435\ttotal: 15.3s\tremaining: 19s\n",
      "447:\tlearn: 0.0217244\ttotal: 15.4s\tremaining: 18.9s\n",
      "448:\tlearn: 0.0216938\ttotal: 15.4s\tremaining: 18.9s\n",
      "449:\tlearn: 0.0216801\ttotal: 15.4s\tremaining: 18.9s\n",
      "450:\tlearn: 0.0216725\ttotal: 15.5s\tremaining: 18.8s\n",
      "451:\tlearn: 0.0216563\ttotal: 15.5s\tremaining: 18.8s\n",
      "452:\tlearn: 0.0216499\ttotal: 15.5s\tremaining: 18.8s\n",
      "453:\tlearn: 0.0216394\ttotal: 15.6s\tremaining: 18.7s\n",
      "454:\tlearn: 0.0216308\ttotal: 15.6s\tremaining: 18.7s\n",
      "455:\tlearn: 0.0216193\ttotal: 15.6s\tremaining: 18.6s\n",
      "456:\tlearn: 0.0216109\ttotal: 15.7s\tremaining: 18.6s\n",
      "457:\tlearn: 0.0215927\ttotal: 15.7s\tremaining: 18.6s\n",
      "458:\tlearn: 0.0215853\ttotal: 15.7s\tremaining: 18.5s\n",
      "459:\tlearn: 0.0215702\ttotal: 15.8s\tremaining: 18.5s\n",
      "460:\tlearn: 0.0215511\ttotal: 15.8s\tremaining: 18.5s\n",
      "461:\tlearn: 0.0215483\ttotal: 15.8s\tremaining: 18.4s\n",
      "462:\tlearn: 0.0215313\ttotal: 15.8s\tremaining: 18.4s\n",
      "463:\tlearn: 0.0215041\ttotal: 15.9s\tremaining: 18.3s\n",
      "464:\tlearn: 0.0215030\ttotal: 15.9s\tremaining: 18.3s\n",
      "465:\tlearn: 0.0214935\ttotal: 16s\tremaining: 18.3s\n",
      "466:\tlearn: 0.0214908\ttotal: 16s\tremaining: 18.3s\n",
      "467:\tlearn: 0.0214802\ttotal: 16s\tremaining: 18.2s\n",
      "468:\tlearn: 0.0214635\ttotal: 16.1s\tremaining: 18.2s\n",
      "469:\tlearn: 0.0214494\ttotal: 16.1s\tremaining: 18.2s\n",
      "470:\tlearn: 0.0214396\ttotal: 16.1s\tremaining: 18.1s\n",
      "471:\tlearn: 0.0214063\ttotal: 16.2s\tremaining: 18.1s\n",
      "472:\tlearn: 0.0213693\ttotal: 16.2s\tremaining: 18.1s\n",
      "473:\tlearn: 0.0213590\ttotal: 16.2s\tremaining: 18s\n",
      "474:\tlearn: 0.0213500\ttotal: 16.3s\tremaining: 18s\n",
      "475:\tlearn: 0.0213447\ttotal: 16.3s\tremaining: 17.9s\n",
      "476:\tlearn: 0.0213263\ttotal: 16.3s\tremaining: 17.9s\n",
      "477:\tlearn: 0.0213181\ttotal: 16.4s\tremaining: 17.9s\n",
      "478:\tlearn: 0.0213053\ttotal: 16.4s\tremaining: 17.8s\n",
      "479:\tlearn: 0.0212956\ttotal: 16.4s\tremaining: 17.8s\n",
      "480:\tlearn: 0.0212812\ttotal: 16.5s\tremaining: 17.8s\n",
      "481:\tlearn: 0.0212789\ttotal: 16.5s\tremaining: 17.7s\n",
      "482:\tlearn: 0.0212594\ttotal: 16.5s\tremaining: 17.7s\n"
     ]
    },
    {
     "name": "stdout",
     "output_type": "stream",
     "text": [
      "483:\tlearn: 0.0212458\ttotal: 16.6s\tremaining: 17.7s\n",
      "484:\tlearn: 0.0212218\ttotal: 16.6s\tremaining: 17.6s\n",
      "485:\tlearn: 0.0212077\ttotal: 16.6s\tremaining: 17.6s\n",
      "486:\tlearn: 0.0211936\ttotal: 16.7s\tremaining: 17.6s\n",
      "487:\tlearn: 0.0211881\ttotal: 16.7s\tremaining: 17.5s\n",
      "488:\tlearn: 0.0211745\ttotal: 16.7s\tremaining: 17.5s\n",
      "489:\tlearn: 0.0211619\ttotal: 16.8s\tremaining: 17.5s\n",
      "490:\tlearn: 0.0211386\ttotal: 16.8s\tremaining: 17.4s\n",
      "491:\tlearn: 0.0211159\ttotal: 16.8s\tremaining: 17.4s\n",
      "492:\tlearn: 0.0210984\ttotal: 16.9s\tremaining: 17.4s\n",
      "493:\tlearn: 0.0210880\ttotal: 16.9s\tremaining: 17.3s\n",
      "494:\tlearn: 0.0210782\ttotal: 16.9s\tremaining: 17.3s\n",
      "495:\tlearn: 0.0210662\ttotal: 17s\tremaining: 17.3s\n",
      "496:\tlearn: 0.0210528\ttotal: 17s\tremaining: 17.2s\n",
      "497:\tlearn: 0.0210384\ttotal: 17.1s\tremaining: 17.2s\n",
      "498:\tlearn: 0.0210297\ttotal: 17.1s\tremaining: 17.2s\n",
      "499:\tlearn: 0.0210264\ttotal: 17.2s\tremaining: 17.2s\n",
      "500:\tlearn: 0.0210184\ttotal: 17.2s\tremaining: 17.1s\n",
      "501:\tlearn: 0.0210111\ttotal: 17.2s\tremaining: 17.1s\n",
      "502:\tlearn: 0.0210011\ttotal: 17.3s\tremaining: 17.1s\n",
      "503:\tlearn: 0.0209892\ttotal: 17.4s\tremaining: 17.1s\n",
      "504:\tlearn: 0.0209806\ttotal: 17.4s\tremaining: 17s\n",
      "505:\tlearn: 0.0209646\ttotal: 17.4s\tremaining: 17s\n",
      "506:\tlearn: 0.0209523\ttotal: 17.5s\tremaining: 17s\n",
      "507:\tlearn: 0.0209411\ttotal: 17.6s\tremaining: 17s\n",
      "508:\tlearn: 0.0209308\ttotal: 17.7s\tremaining: 17s\n",
      "509:\tlearn: 0.0209270\ttotal: 17.7s\tremaining: 17s\n",
      "510:\tlearn: 0.0209248\ttotal: 17.7s\tremaining: 17s\n",
      "511:\tlearn: 0.0209197\ttotal: 17.7s\tremaining: 16.9s\n",
      "512:\tlearn: 0.0209176\ttotal: 17.8s\tremaining: 16.9s\n",
      "513:\tlearn: 0.0209007\ttotal: 17.8s\tremaining: 16.8s\n",
      "514:\tlearn: 0.0208932\ttotal: 17.8s\tremaining: 16.8s\n",
      "515:\tlearn: 0.0208785\ttotal: 17.9s\tremaining: 16.8s\n",
      "516:\tlearn: 0.0208696\ttotal: 17.9s\tremaining: 16.7s\n",
      "517:\tlearn: 0.0208664\ttotal: 18s\tremaining: 16.7s\n",
      "518:\tlearn: 0.0208636\ttotal: 18s\tremaining: 16.7s\n",
      "519:\tlearn: 0.0208390\ttotal: 18s\tremaining: 16.6s\n",
      "520:\tlearn: 0.0208371\ttotal: 18.1s\tremaining: 16.6s\n",
      "521:\tlearn: 0.0208153\ttotal: 18.1s\tremaining: 16.6s\n",
      "522:\tlearn: 0.0207998\ttotal: 18.2s\tremaining: 16.6s\n",
      "523:\tlearn: 0.0207735\ttotal: 18.2s\tremaining: 16.5s\n",
      "524:\tlearn: 0.0207640\ttotal: 18.2s\tremaining: 16.5s\n",
      "525:\tlearn: 0.0207524\ttotal: 18.2s\tremaining: 16.4s\n",
      "526:\tlearn: 0.0207372\ttotal: 18.3s\tremaining: 16.4s\n",
      "527:\tlearn: 0.0207253\ttotal: 18.3s\tremaining: 16.4s\n",
      "528:\tlearn: 0.0207188\ttotal: 18.3s\tremaining: 16.3s\n",
      "529:\tlearn: 0.0207103\ttotal: 18.4s\tremaining: 16.3s\n",
      "530:\tlearn: 0.0207039\ttotal: 18.4s\tremaining: 16.3s\n",
      "531:\tlearn: 0.0206990\ttotal: 18.4s\tremaining: 16.2s\n",
      "532:\tlearn: 0.0206934\ttotal: 18.5s\tremaining: 16.2s\n",
      "533:\tlearn: 0.0206859\ttotal: 18.5s\tremaining: 16.2s\n",
      "534:\tlearn: 0.0206652\ttotal: 18.6s\tremaining: 16.1s\n",
      "535:\tlearn: 0.0206569\ttotal: 18.6s\tremaining: 16.1s\n",
      "536:\tlearn: 0.0206364\ttotal: 18.6s\tremaining: 16.1s\n",
      "537:\tlearn: 0.0206145\ttotal: 18.7s\tremaining: 16s\n",
      "538:\tlearn: 0.0206126\ttotal: 18.7s\tremaining: 16s\n",
      "539:\tlearn: 0.0206099\ttotal: 18.7s\tremaining: 16s\n",
      "540:\tlearn: 0.0205998\ttotal: 18.8s\tremaining: 15.9s\n",
      "541:\tlearn: 0.0205928\ttotal: 18.8s\tremaining: 15.9s\n",
      "542:\tlearn: 0.0205896\ttotal: 18.8s\tremaining: 15.8s\n",
      "543:\tlearn: 0.0205656\ttotal: 18.9s\tremaining: 15.8s\n",
      "544:\tlearn: 0.0205550\ttotal: 18.9s\tremaining: 15.8s\n",
      "545:\tlearn: 0.0205364\ttotal: 18.9s\tremaining: 15.7s\n",
      "546:\tlearn: 0.0205293\ttotal: 19s\tremaining: 15.7s\n",
      "547:\tlearn: 0.0205252\ttotal: 19s\tremaining: 15.7s\n",
      "548:\tlearn: 0.0205103\ttotal: 19s\tremaining: 15.6s\n",
      "549:\tlearn: 0.0204971\ttotal: 19.1s\tremaining: 15.6s\n",
      "550:\tlearn: 0.0204802\ttotal: 19.1s\tremaining: 15.6s\n",
      "551:\tlearn: 0.0204657\ttotal: 19.1s\tremaining: 15.5s\n",
      "552:\tlearn: 0.0204562\ttotal: 19.2s\tremaining: 15.5s\n",
      "553:\tlearn: 0.0204463\ttotal: 19.2s\tremaining: 15.5s\n",
      "554:\tlearn: 0.0204376\ttotal: 19.2s\tremaining: 15.4s\n",
      "555:\tlearn: 0.0204250\ttotal: 19.3s\tremaining: 15.4s\n",
      "556:\tlearn: 0.0204102\ttotal: 19.3s\tremaining: 15.4s\n",
      "557:\tlearn: 0.0203939\ttotal: 19.3s\tremaining: 15.3s\n",
      "558:\tlearn: 0.0203882\ttotal: 19.4s\tremaining: 15.3s\n",
      "559:\tlearn: 0.0203773\ttotal: 19.4s\tremaining: 15.2s\n",
      "560:\tlearn: 0.0203681\ttotal: 19.4s\tremaining: 15.2s\n",
      "561:\tlearn: 0.0203643\ttotal: 19.5s\tremaining: 15.2s\n",
      "562:\tlearn: 0.0203424\ttotal: 19.5s\tremaining: 15.1s\n",
      "563:\tlearn: 0.0203322\ttotal: 19.5s\tremaining: 15.1s\n",
      "564:\tlearn: 0.0203231\ttotal: 19.6s\tremaining: 15.1s\n",
      "565:\tlearn: 0.0203178\ttotal: 19.6s\tremaining: 15s\n",
      "566:\tlearn: 0.0202977\ttotal: 19.6s\tremaining: 15s\n",
      "567:\tlearn: 0.0202953\ttotal: 19.7s\tremaining: 15s\n",
      "568:\tlearn: 0.0202892\ttotal: 19.7s\tremaining: 14.9s\n",
      "569:\tlearn: 0.0202874\ttotal: 19.7s\tremaining: 14.9s\n",
      "570:\tlearn: 0.0202854\ttotal: 19.8s\tremaining: 14.8s\n",
      "571:\tlearn: 0.0202839\ttotal: 19.8s\tremaining: 14.8s\n",
      "572:\tlearn: 0.0202763\ttotal: 19.8s\tremaining: 14.8s\n",
      "573:\tlearn: 0.0202638\ttotal: 19.9s\tremaining: 14.7s\n",
      "574:\tlearn: 0.0202610\ttotal: 19.9s\tremaining: 14.7s\n",
      "575:\tlearn: 0.0202513\ttotal: 19.9s\tremaining: 14.7s\n",
      "576:\tlearn: 0.0202419\ttotal: 20s\tremaining: 14.6s\n",
      "577:\tlearn: 0.0202260\ttotal: 20s\tremaining: 14.6s\n",
      "578:\tlearn: 0.0201966\ttotal: 20s\tremaining: 14.6s\n",
      "579:\tlearn: 0.0201934\ttotal: 20.1s\tremaining: 14.5s\n",
      "580:\tlearn: 0.0201915\ttotal: 20.1s\tremaining: 14.5s\n",
      "581:\tlearn: 0.0201898\ttotal: 20.1s\tremaining: 14.5s\n",
      "582:\tlearn: 0.0201729\ttotal: 20.2s\tremaining: 14.4s\n",
      "583:\tlearn: 0.0201700\ttotal: 20.2s\tremaining: 14.4s\n",
      "584:\tlearn: 0.0201552\ttotal: 20.2s\tremaining: 14.3s\n",
      "585:\tlearn: 0.0201465\ttotal: 20.3s\tremaining: 14.3s\n",
      "586:\tlearn: 0.0201246\ttotal: 20.3s\tremaining: 14.3s\n",
      "587:\tlearn: 0.0201085\ttotal: 20.3s\tremaining: 14.2s\n",
      "588:\tlearn: 0.0200994\ttotal: 20.4s\tremaining: 14.2s\n",
      "589:\tlearn: 0.0200891\ttotal: 20.4s\tremaining: 14.2s\n",
      "590:\tlearn: 0.0200759\ttotal: 20.4s\tremaining: 14.1s\n",
      "591:\tlearn: 0.0200554\ttotal: 20.5s\tremaining: 14.1s\n",
      "592:\tlearn: 0.0200509\ttotal: 20.5s\tremaining: 14.1s\n",
      "593:\tlearn: 0.0200433\ttotal: 20.5s\tremaining: 14s\n",
      "594:\tlearn: 0.0200375\ttotal: 20.6s\tremaining: 14s\n",
      "595:\tlearn: 0.0200358\ttotal: 20.6s\tremaining: 14s\n",
      "596:\tlearn: 0.0200343\ttotal: 20.6s\tremaining: 13.9s\n",
      "597:\tlearn: 0.0200311\ttotal: 20.7s\tremaining: 13.9s\n",
      "598:\tlearn: 0.0200148\ttotal: 20.7s\tremaining: 13.8s\n",
      "599:\tlearn: 0.0199988\ttotal: 20.7s\tremaining: 13.8s\n",
      "600:\tlearn: 0.0199866\ttotal: 20.7s\tremaining: 13.8s\n",
      "601:\tlearn: 0.0199826\ttotal: 20.8s\tremaining: 13.7s\n",
      "602:\tlearn: 0.0199612\ttotal: 20.8s\tremaining: 13.7s\n",
      "603:\tlearn: 0.0199483\ttotal: 20.8s\tremaining: 13.7s\n",
      "604:\tlearn: 0.0199439\ttotal: 20.9s\tremaining: 13.6s\n",
      "605:\tlearn: 0.0199284\ttotal: 20.9s\tremaining: 13.6s\n",
      "606:\tlearn: 0.0199106\ttotal: 20.9s\tremaining: 13.5s\n",
      "607:\tlearn: 0.0199012\ttotal: 21s\tremaining: 13.5s\n",
      "608:\tlearn: 0.0198922\ttotal: 21s\tremaining: 13.5s\n",
      "609:\tlearn: 0.0198791\ttotal: 21s\tremaining: 13.4s\n",
      "610:\tlearn: 0.0198772\ttotal: 21.1s\tremaining: 13.4s\n",
      "611:\tlearn: 0.0198721\ttotal: 21.1s\tremaining: 13.4s\n",
      "612:\tlearn: 0.0198598\ttotal: 21.1s\tremaining: 13.3s\n",
      "613:\tlearn: 0.0198396\ttotal: 21.2s\tremaining: 13.3s\n",
      "614:\tlearn: 0.0198306\ttotal: 21.2s\tremaining: 13.3s\n",
      "615:\tlearn: 0.0198230\ttotal: 21.2s\tremaining: 13.2s\n",
      "616:\tlearn: 0.0198153\ttotal: 21.3s\tremaining: 13.2s\n",
      "617:\tlearn: 0.0198100\ttotal: 21.3s\tremaining: 13.2s\n",
      "618:\tlearn: 0.0198048\ttotal: 21.3s\tremaining: 13.1s\n",
      "619:\tlearn: 0.0197998\ttotal: 21.4s\tremaining: 13.1s\n",
      "620:\tlearn: 0.0197982\ttotal: 21.4s\tremaining: 13.1s\n",
      "621:\tlearn: 0.0197968\ttotal: 21.4s\tremaining: 13s\n",
      "622:\tlearn: 0.0197813\ttotal: 21.5s\tremaining: 13s\n",
      "623:\tlearn: 0.0197785\ttotal: 21.5s\tremaining: 13s\n",
      "624:\tlearn: 0.0197727\ttotal: 21.5s\tremaining: 12.9s\n",
      "625:\tlearn: 0.0197599\ttotal: 21.6s\tremaining: 12.9s\n",
      "626:\tlearn: 0.0197517\ttotal: 21.6s\tremaining: 12.8s\n",
      "627:\tlearn: 0.0197495\ttotal: 21.6s\tremaining: 12.8s\n",
      "628:\tlearn: 0.0197451\ttotal: 21.7s\tremaining: 12.8s\n",
      "629:\tlearn: 0.0197310\ttotal: 21.7s\tremaining: 12.7s\n",
      "630:\tlearn: 0.0197196\ttotal: 21.7s\tremaining: 12.7s\n",
      "631:\tlearn: 0.0197064\ttotal: 21.8s\tremaining: 12.7s\n",
      "632:\tlearn: 0.0197036\ttotal: 21.8s\tremaining: 12.6s\n",
      "633:\tlearn: 0.0196975\ttotal: 21.8s\tremaining: 12.6s\n",
      "634:\tlearn: 0.0196845\ttotal: 21.9s\tremaining: 12.6s\n",
      "635:\tlearn: 0.0196767\ttotal: 21.9s\tremaining: 12.5s\n",
      "636:\tlearn: 0.0196718\ttotal: 21.9s\tremaining: 12.5s\n",
      "637:\tlearn: 0.0196618\ttotal: 22s\tremaining: 12.5s\n",
      "638:\tlearn: 0.0196564\ttotal: 22s\tremaining: 12.4s\n",
      "639:\tlearn: 0.0196447\ttotal: 22s\tremaining: 12.4s\n",
      "640:\tlearn: 0.0196380\ttotal: 22.1s\tremaining: 12.4s\n",
      "641:\tlearn: 0.0196355\ttotal: 22.1s\tremaining: 12.3s\n",
      "642:\tlearn: 0.0196293\ttotal: 22.1s\tremaining: 12.3s\n",
      "643:\tlearn: 0.0196188\ttotal: 22.2s\tremaining: 12.3s\n",
      "644:\tlearn: 0.0196144\ttotal: 22.2s\tremaining: 12.2s\n",
      "645:\tlearn: 0.0196097\ttotal: 22.2s\tremaining: 12.2s\n",
      "646:\tlearn: 0.0196011\ttotal: 22.3s\tremaining: 12.1s\n",
      "647:\tlearn: 0.0195969\ttotal: 22.3s\tremaining: 12.1s\n"
     ]
    },
    {
     "name": "stdout",
     "output_type": "stream",
     "text": [
      "648:\tlearn: 0.0195935\ttotal: 22.3s\tremaining: 12.1s\n",
      "649:\tlearn: 0.0195858\ttotal: 22.4s\tremaining: 12s\n",
      "650:\tlearn: 0.0195804\ttotal: 22.4s\tremaining: 12s\n",
      "651:\tlearn: 0.0195639\ttotal: 22.4s\tremaining: 12s\n",
      "652:\tlearn: 0.0195444\ttotal: 22.5s\tremaining: 11.9s\n",
      "653:\tlearn: 0.0195340\ttotal: 22.5s\tremaining: 11.9s\n",
      "654:\tlearn: 0.0195240\ttotal: 22.5s\tremaining: 11.9s\n",
      "655:\tlearn: 0.0195027\ttotal: 22.6s\tremaining: 11.8s\n",
      "656:\tlearn: 0.0194918\ttotal: 22.6s\tremaining: 11.8s\n",
      "657:\tlearn: 0.0194742\ttotal: 22.6s\tremaining: 11.8s\n",
      "658:\tlearn: 0.0194711\ttotal: 22.7s\tremaining: 11.7s\n",
      "659:\tlearn: 0.0194634\ttotal: 22.7s\tremaining: 11.7s\n",
      "660:\tlearn: 0.0194511\ttotal: 22.7s\tremaining: 11.7s\n",
      "661:\tlearn: 0.0194443\ttotal: 22.8s\tremaining: 11.6s\n",
      "662:\tlearn: 0.0194396\ttotal: 22.8s\tremaining: 11.6s\n",
      "663:\tlearn: 0.0194327\ttotal: 22.8s\tremaining: 11.6s\n",
      "664:\tlearn: 0.0194179\ttotal: 22.9s\tremaining: 11.5s\n",
      "665:\tlearn: 0.0194143\ttotal: 22.9s\tremaining: 11.5s\n",
      "666:\tlearn: 0.0194075\ttotal: 22.9s\tremaining: 11.5s\n",
      "667:\tlearn: 0.0193950\ttotal: 23s\tremaining: 11.4s\n",
      "668:\tlearn: 0.0193867\ttotal: 23s\tremaining: 11.4s\n",
      "669:\tlearn: 0.0193816\ttotal: 23s\tremaining: 11.3s\n",
      "670:\tlearn: 0.0193725\ttotal: 23.1s\tremaining: 11.3s\n",
      "671:\tlearn: 0.0193668\ttotal: 23.1s\tremaining: 11.3s\n",
      "672:\tlearn: 0.0193510\ttotal: 23.1s\tremaining: 11.2s\n",
      "673:\tlearn: 0.0193495\ttotal: 23.2s\tremaining: 11.2s\n",
      "674:\tlearn: 0.0193371\ttotal: 23.2s\tremaining: 11.2s\n",
      "675:\tlearn: 0.0193343\ttotal: 23.2s\tremaining: 11.1s\n",
      "676:\tlearn: 0.0193292\ttotal: 23.3s\tremaining: 11.1s\n",
      "677:\tlearn: 0.0193224\ttotal: 23.3s\tremaining: 11.1s\n",
      "678:\tlearn: 0.0193154\ttotal: 23.3s\tremaining: 11s\n",
      "679:\tlearn: 0.0193115\ttotal: 23.4s\tremaining: 11s\n",
      "680:\tlearn: 0.0193024\ttotal: 23.4s\tremaining: 11s\n",
      "681:\tlearn: 0.0192891\ttotal: 23.4s\tremaining: 10.9s\n",
      "682:\tlearn: 0.0192837\ttotal: 23.4s\tremaining: 10.9s\n",
      "683:\tlearn: 0.0192670\ttotal: 23.5s\tremaining: 10.8s\n",
      "684:\tlearn: 0.0192532\ttotal: 23.5s\tremaining: 10.8s\n",
      "685:\tlearn: 0.0192288\ttotal: 23.5s\tremaining: 10.8s\n",
      "686:\tlearn: 0.0192151\ttotal: 23.6s\tremaining: 10.7s\n",
      "687:\tlearn: 0.0191983\ttotal: 23.6s\tremaining: 10.7s\n",
      "688:\tlearn: 0.0191946\ttotal: 23.6s\tremaining: 10.7s\n",
      "689:\tlearn: 0.0191864\ttotal: 23.7s\tremaining: 10.6s\n",
      "690:\tlearn: 0.0191648\ttotal: 23.7s\tremaining: 10.6s\n",
      "691:\tlearn: 0.0191575\ttotal: 23.7s\tremaining: 10.6s\n",
      "692:\tlearn: 0.0191451\ttotal: 23.8s\tremaining: 10.5s\n",
      "693:\tlearn: 0.0191344\ttotal: 23.8s\tremaining: 10.5s\n",
      "694:\tlearn: 0.0191309\ttotal: 23.8s\tremaining: 10.5s\n",
      "695:\tlearn: 0.0191172\ttotal: 23.9s\tremaining: 10.4s\n",
      "696:\tlearn: 0.0191026\ttotal: 23.9s\tremaining: 10.4s\n",
      "697:\tlearn: 0.0190785\ttotal: 23.9s\tremaining: 10.4s\n",
      "698:\tlearn: 0.0190643\ttotal: 24s\tremaining: 10.3s\n",
      "699:\tlearn: 0.0190470\ttotal: 24s\tremaining: 10.3s\n",
      "700:\tlearn: 0.0190410\ttotal: 24s\tremaining: 10.2s\n",
      "701:\tlearn: 0.0190309\ttotal: 24.1s\tremaining: 10.2s\n",
      "702:\tlearn: 0.0190106\ttotal: 24.1s\tremaining: 10.2s\n",
      "703:\tlearn: 0.0189940\ttotal: 24.1s\tremaining: 10.1s\n",
      "704:\tlearn: 0.0189899\ttotal: 24.2s\tremaining: 10.1s\n",
      "705:\tlearn: 0.0189876\ttotal: 24.2s\tremaining: 10.1s\n",
      "706:\tlearn: 0.0189727\ttotal: 24.2s\tremaining: 10s\n",
      "707:\tlearn: 0.0189665\ttotal: 24.3s\tremaining: 10s\n",
      "708:\tlearn: 0.0189651\ttotal: 24.3s\tremaining: 9.97s\n",
      "709:\tlearn: 0.0189563\ttotal: 24.3s\tremaining: 9.94s\n",
      "710:\tlearn: 0.0189531\ttotal: 24.4s\tremaining: 9.9s\n",
      "711:\tlearn: 0.0189402\ttotal: 24.4s\tremaining: 9.87s\n",
      "712:\tlearn: 0.0189275\ttotal: 24.4s\tremaining: 9.83s\n",
      "713:\tlearn: 0.0189221\ttotal: 24.5s\tremaining: 9.8s\n",
      "714:\tlearn: 0.0189152\ttotal: 24.5s\tremaining: 9.77s\n",
      "715:\tlearn: 0.0189087\ttotal: 24.5s\tremaining: 9.73s\n",
      "716:\tlearn: 0.0189054\ttotal: 24.6s\tremaining: 9.7s\n",
      "717:\tlearn: 0.0188986\ttotal: 24.6s\tremaining: 9.66s\n",
      "718:\tlearn: 0.0188955\ttotal: 24.6s\tremaining: 9.63s\n",
      "719:\tlearn: 0.0188931\ttotal: 24.7s\tremaining: 9.61s\n",
      "720:\tlearn: 0.0188892\ttotal: 24.8s\tremaining: 9.6s\n",
      "721:\tlearn: 0.0188752\ttotal: 24.8s\tremaining: 9.56s\n",
      "722:\tlearn: 0.0188684\ttotal: 24.9s\tremaining: 9.53s\n",
      "723:\tlearn: 0.0188566\ttotal: 24.9s\tremaining: 9.5s\n",
      "724:\tlearn: 0.0188480\ttotal: 24.9s\tremaining: 9.46s\n",
      "725:\tlearn: 0.0188450\ttotal: 25s\tremaining: 9.43s\n",
      "726:\tlearn: 0.0188382\ttotal: 25s\tremaining: 9.39s\n",
      "727:\tlearn: 0.0188354\ttotal: 25s\tremaining: 9.36s\n",
      "728:\tlearn: 0.0188243\ttotal: 25.1s\tremaining: 9.32s\n",
      "729:\tlearn: 0.0188217\ttotal: 25.1s\tremaining: 9.29s\n",
      "730:\tlearn: 0.0188193\ttotal: 25.1s\tremaining: 9.25s\n",
      "731:\tlearn: 0.0188170\ttotal: 25.2s\tremaining: 9.22s\n",
      "732:\tlearn: 0.0188148\ttotal: 25.2s\tremaining: 9.18s\n",
      "733:\tlearn: 0.0188128\ttotal: 25.2s\tremaining: 9.15s\n",
      "734:\tlearn: 0.0188105\ttotal: 25.3s\tremaining: 9.11s\n",
      "735:\tlearn: 0.0188086\ttotal: 25.3s\tremaining: 9.08s\n",
      "736:\tlearn: 0.0188068\ttotal: 25.4s\tremaining: 9.05s\n",
      "737:\tlearn: 0.0187969\ttotal: 25.4s\tremaining: 9.01s\n",
      "738:\tlearn: 0.0187948\ttotal: 25.4s\tremaining: 8.98s\n",
      "739:\tlearn: 0.0187813\ttotal: 25.5s\tremaining: 8.94s\n",
      "740:\tlearn: 0.0187739\ttotal: 25.5s\tremaining: 8.91s\n",
      "741:\tlearn: 0.0187644\ttotal: 25.5s\tremaining: 8.88s\n",
      "742:\tlearn: 0.0187538\ttotal: 25.6s\tremaining: 8.84s\n",
      "743:\tlearn: 0.0187423\ttotal: 25.6s\tremaining: 8.81s\n",
      "744:\tlearn: 0.0187370\ttotal: 25.7s\tremaining: 8.78s\n",
      "745:\tlearn: 0.0187277\ttotal: 25.7s\tremaining: 8.75s\n",
      "746:\tlearn: 0.0187192\ttotal: 25.7s\tremaining: 8.72s\n",
      "747:\tlearn: 0.0186953\ttotal: 25.8s\tremaining: 8.68s\n",
      "748:\tlearn: 0.0186852\ttotal: 25.8s\tremaining: 8.65s\n",
      "749:\tlearn: 0.0186719\ttotal: 25.8s\tremaining: 8.62s\n",
      "750:\tlearn: 0.0186678\ttotal: 25.9s\tremaining: 8.58s\n",
      "751:\tlearn: 0.0186596\ttotal: 25.9s\tremaining: 8.55s\n",
      "752:\tlearn: 0.0186493\ttotal: 26s\tremaining: 8.51s\n",
      "753:\tlearn: 0.0186240\ttotal: 26s\tremaining: 8.48s\n",
      "754:\tlearn: 0.0186058\ttotal: 26s\tremaining: 8.44s\n",
      "755:\tlearn: 0.0185955\ttotal: 26s\tremaining: 8.41s\n",
      "756:\tlearn: 0.0185869\ttotal: 26.1s\tremaining: 8.37s\n",
      "757:\tlearn: 0.0185811\ttotal: 26.1s\tremaining: 8.34s\n",
      "758:\tlearn: 0.0185716\ttotal: 26.2s\tremaining: 8.3s\n",
      "759:\tlearn: 0.0185647\ttotal: 26.2s\tremaining: 8.27s\n",
      "760:\tlearn: 0.0185514\ttotal: 26.2s\tremaining: 8.23s\n",
      "761:\tlearn: 0.0185417\ttotal: 26.3s\tremaining: 8.2s\n",
      "762:\tlearn: 0.0185381\ttotal: 26.3s\tremaining: 8.16s\n",
      "763:\tlearn: 0.0185328\ttotal: 26.3s\tremaining: 8.13s\n",
      "764:\tlearn: 0.0185221\ttotal: 26.3s\tremaining: 8.09s\n",
      "765:\tlearn: 0.0185155\ttotal: 26.4s\tremaining: 8.06s\n",
      "766:\tlearn: 0.0185075\ttotal: 26.4s\tremaining: 8.02s\n",
      "767:\tlearn: 0.0184994\ttotal: 26.5s\tremaining: 7.99s\n",
      "768:\tlearn: 0.0184917\ttotal: 26.5s\tremaining: 7.96s\n",
      "769:\tlearn: 0.0184855\ttotal: 26.5s\tremaining: 7.92s\n",
      "770:\tlearn: 0.0184807\ttotal: 26.6s\tremaining: 7.89s\n",
      "771:\tlearn: 0.0184764\ttotal: 26.6s\tremaining: 7.85s\n",
      "772:\tlearn: 0.0184670\ttotal: 26.6s\tremaining: 7.82s\n",
      "773:\tlearn: 0.0184624\ttotal: 26.7s\tremaining: 7.78s\n",
      "774:\tlearn: 0.0184613\ttotal: 26.7s\tremaining: 7.75s\n",
      "775:\tlearn: 0.0184388\ttotal: 26.7s\tremaining: 7.71s\n",
      "776:\tlearn: 0.0184262\ttotal: 26.8s\tremaining: 7.68s\n",
      "777:\tlearn: 0.0184172\ttotal: 26.8s\tremaining: 7.64s\n",
      "778:\tlearn: 0.0184067\ttotal: 26.8s\tremaining: 7.61s\n",
      "779:\tlearn: 0.0184018\ttotal: 26.9s\tremaining: 7.58s\n",
      "780:\tlearn: 0.0183784\ttotal: 26.9s\tremaining: 7.54s\n",
      "781:\tlearn: 0.0183682\ttotal: 26.9s\tremaining: 7.51s\n",
      "782:\tlearn: 0.0183550\ttotal: 27s\tremaining: 7.47s\n",
      "783:\tlearn: 0.0183396\ttotal: 27s\tremaining: 7.44s\n",
      "784:\tlearn: 0.0183335\ttotal: 27s\tremaining: 7.4s\n",
      "785:\tlearn: 0.0183250\ttotal: 27.1s\tremaining: 7.37s\n",
      "786:\tlearn: 0.0183170\ttotal: 27.1s\tremaining: 7.33s\n",
      "787:\tlearn: 0.0183159\ttotal: 27.1s\tremaining: 7.3s\n",
      "788:\tlearn: 0.0183100\ttotal: 27.2s\tremaining: 7.27s\n",
      "789:\tlearn: 0.0182901\ttotal: 27.2s\tremaining: 7.23s\n",
      "790:\tlearn: 0.0182808\ttotal: 27.3s\tremaining: 7.2s\n",
      "791:\tlearn: 0.0182702\ttotal: 27.3s\tremaining: 7.17s\n",
      "792:\tlearn: 0.0182622\ttotal: 27.3s\tremaining: 7.13s\n",
      "793:\tlearn: 0.0182536\ttotal: 27.4s\tremaining: 7.1s\n",
      "794:\tlearn: 0.0182453\ttotal: 27.4s\tremaining: 7.06s\n",
      "795:\tlearn: 0.0182361\ttotal: 27.4s\tremaining: 7.03s\n",
      "796:\tlearn: 0.0182163\ttotal: 27.5s\tremaining: 7s\n",
      "797:\tlearn: 0.0182052\ttotal: 27.5s\tremaining: 6.96s\n",
      "798:\tlearn: 0.0181977\ttotal: 27.5s\tremaining: 6.93s\n",
      "799:\tlearn: 0.0181906\ttotal: 27.6s\tremaining: 6.89s\n",
      "800:\tlearn: 0.0181726\ttotal: 27.6s\tremaining: 6.86s\n",
      "801:\tlearn: 0.0181622\ttotal: 27.6s\tremaining: 6.82s\n",
      "802:\tlearn: 0.0181611\ttotal: 27.7s\tremaining: 6.79s\n",
      "803:\tlearn: 0.0181578\ttotal: 27.7s\tremaining: 6.75s\n",
      "804:\tlearn: 0.0181508\ttotal: 27.7s\tremaining: 6.72s\n",
      "805:\tlearn: 0.0181384\ttotal: 27.8s\tremaining: 6.68s\n",
      "806:\tlearn: 0.0181368\ttotal: 27.8s\tremaining: 6.65s\n",
      "807:\tlearn: 0.0181174\ttotal: 27.8s\tremaining: 6.62s\n",
      "808:\tlearn: 0.0181064\ttotal: 27.9s\tremaining: 6.58s\n"
     ]
    },
    {
     "name": "stdout",
     "output_type": "stream",
     "text": [
      "809:\tlearn: 0.0180921\ttotal: 27.9s\tremaining: 6.55s\n",
      "810:\tlearn: 0.0180756\ttotal: 27.9s\tremaining: 6.51s\n",
      "811:\tlearn: 0.0180685\ttotal: 28s\tremaining: 6.48s\n",
      "812:\tlearn: 0.0180565\ttotal: 28s\tremaining: 6.44s\n",
      "813:\tlearn: 0.0180501\ttotal: 28s\tremaining: 6.41s\n",
      "814:\tlearn: 0.0180413\ttotal: 28.1s\tremaining: 6.38s\n",
      "815:\tlearn: 0.0180265\ttotal: 28.1s\tremaining: 6.34s\n",
      "816:\tlearn: 0.0180244\ttotal: 28.2s\tremaining: 6.31s\n",
      "817:\tlearn: 0.0180192\ttotal: 28.2s\tremaining: 6.27s\n",
      "818:\tlearn: 0.0180103\ttotal: 28.2s\tremaining: 6.24s\n",
      "819:\tlearn: 0.0180093\ttotal: 28.3s\tremaining: 6.2s\n",
      "820:\tlearn: 0.0179912\ttotal: 28.3s\tremaining: 6.17s\n",
      "821:\tlearn: 0.0179722\ttotal: 28.3s\tremaining: 6.13s\n",
      "822:\tlearn: 0.0179674\ttotal: 28.4s\tremaining: 6.1s\n",
      "823:\tlearn: 0.0179547\ttotal: 28.4s\tremaining: 6.07s\n",
      "824:\tlearn: 0.0179449\ttotal: 28.4s\tremaining: 6.03s\n",
      "825:\tlearn: 0.0179386\ttotal: 28.5s\tremaining: 6s\n",
      "826:\tlearn: 0.0179323\ttotal: 28.5s\tremaining: 5.97s\n",
      "827:\tlearn: 0.0179229\ttotal: 28.6s\tremaining: 5.93s\n",
      "828:\tlearn: 0.0179175\ttotal: 28.6s\tremaining: 5.9s\n",
      "829:\tlearn: 0.0179019\ttotal: 28.6s\tremaining: 5.86s\n",
      "830:\tlearn: 0.0178861\ttotal: 28.7s\tremaining: 5.83s\n",
      "831:\tlearn: 0.0178738\ttotal: 28.7s\tremaining: 5.79s\n",
      "832:\tlearn: 0.0178700\ttotal: 28.7s\tremaining: 5.76s\n",
      "833:\tlearn: 0.0178584\ttotal: 28.8s\tremaining: 5.72s\n",
      "834:\tlearn: 0.0178536\ttotal: 28.8s\tremaining: 5.69s\n",
      "835:\tlearn: 0.0178509\ttotal: 28.8s\tremaining: 5.66s\n",
      "836:\tlearn: 0.0178435\ttotal: 28.9s\tremaining: 5.62s\n",
      "837:\tlearn: 0.0178395\ttotal: 28.9s\tremaining: 5.58s\n",
      "838:\tlearn: 0.0178358\ttotal: 28.9s\tremaining: 5.55s\n",
      "839:\tlearn: 0.0178262\ttotal: 29s\tremaining: 5.51s\n",
      "840:\tlearn: 0.0178235\ttotal: 29s\tremaining: 5.48s\n",
      "841:\tlearn: 0.0178076\ttotal: 29s\tremaining: 5.45s\n",
      "842:\tlearn: 0.0178041\ttotal: 29.1s\tremaining: 5.41s\n",
      "843:\tlearn: 0.0177876\ttotal: 29.1s\tremaining: 5.38s\n",
      "844:\tlearn: 0.0177756\ttotal: 29.1s\tremaining: 5.34s\n",
      "845:\tlearn: 0.0177683\ttotal: 29.2s\tremaining: 5.31s\n",
      "846:\tlearn: 0.0177588\ttotal: 29.2s\tremaining: 5.27s\n",
      "847:\tlearn: 0.0177432\ttotal: 29.2s\tremaining: 5.24s\n",
      "848:\tlearn: 0.0177378\ttotal: 29.3s\tremaining: 5.2s\n",
      "849:\tlearn: 0.0177328\ttotal: 29.3s\tremaining: 5.17s\n",
      "850:\tlearn: 0.0177109\ttotal: 29.3s\tremaining: 5.13s\n",
      "851:\tlearn: 0.0177041\ttotal: 29.4s\tremaining: 5.1s\n",
      "852:\tlearn: 0.0176930\ttotal: 29.4s\tremaining: 5.06s\n",
      "853:\tlearn: 0.0176833\ttotal: 29.4s\tremaining: 5.03s\n",
      "854:\tlearn: 0.0176785\ttotal: 29.5s\tremaining: 4.99s\n",
      "855:\tlearn: 0.0176708\ttotal: 29.5s\tremaining: 4.96s\n",
      "856:\tlearn: 0.0176608\ttotal: 29.5s\tremaining: 4.93s\n",
      "857:\tlearn: 0.0176501\ttotal: 29.6s\tremaining: 4.89s\n",
      "858:\tlearn: 0.0176433\ttotal: 29.6s\tremaining: 4.86s\n",
      "859:\tlearn: 0.0176402\ttotal: 29.6s\tremaining: 4.82s\n",
      "860:\tlearn: 0.0176273\ttotal: 29.7s\tremaining: 4.79s\n",
      "861:\tlearn: 0.0176125\ttotal: 29.7s\tremaining: 4.75s\n",
      "862:\tlearn: 0.0176018\ttotal: 29.7s\tremaining: 4.72s\n",
      "863:\tlearn: 0.0175897\ttotal: 29.8s\tremaining: 4.68s\n",
      "864:\tlearn: 0.0175774\ttotal: 29.8s\tremaining: 4.65s\n",
      "865:\tlearn: 0.0175669\ttotal: 29.8s\tremaining: 4.62s\n",
      "866:\tlearn: 0.0175579\ttotal: 29.9s\tremaining: 4.58s\n",
      "867:\tlearn: 0.0175472\ttotal: 29.9s\tremaining: 4.54s\n",
      "868:\tlearn: 0.0175413\ttotal: 29.9s\tremaining: 4.51s\n",
      "869:\tlearn: 0.0175165\ttotal: 30s\tremaining: 4.48s\n",
      "870:\tlearn: 0.0175151\ttotal: 30s\tremaining: 4.44s\n",
      "871:\tlearn: 0.0175094\ttotal: 30s\tremaining: 4.41s\n",
      "872:\tlearn: 0.0175048\ttotal: 30.1s\tremaining: 4.38s\n",
      "873:\tlearn: 0.0175007\ttotal: 30.1s\tremaining: 4.34s\n",
      "874:\tlearn: 0.0174929\ttotal: 30.1s\tremaining: 4.31s\n",
      "875:\tlearn: 0.0174839\ttotal: 30.2s\tremaining: 4.27s\n",
      "876:\tlearn: 0.0174726\ttotal: 30.2s\tremaining: 4.24s\n",
      "877:\tlearn: 0.0174685\ttotal: 30.3s\tremaining: 4.2s\n",
      "878:\tlearn: 0.0174640\ttotal: 30.3s\tremaining: 4.17s\n",
      "879:\tlearn: 0.0174611\ttotal: 30.3s\tremaining: 4.13s\n",
      "880:\tlearn: 0.0174602\ttotal: 30.4s\tremaining: 4.1s\n",
      "881:\tlearn: 0.0174544\ttotal: 30.4s\tremaining: 4.07s\n",
      "882:\tlearn: 0.0174532\ttotal: 30.4s\tremaining: 4.03s\n",
      "883:\tlearn: 0.0174451\ttotal: 30.5s\tremaining: 4s\n",
      "884:\tlearn: 0.0174419\ttotal: 30.5s\tremaining: 3.96s\n",
      "885:\tlearn: 0.0174345\ttotal: 30.5s\tremaining: 3.93s\n",
      "886:\tlearn: 0.0174267\ttotal: 30.6s\tremaining: 3.89s\n",
      "887:\tlearn: 0.0174194\ttotal: 30.6s\tremaining: 3.86s\n",
      "888:\tlearn: 0.0174056\ttotal: 30.6s\tremaining: 3.82s\n",
      "889:\tlearn: 0.0174006\ttotal: 30.7s\tremaining: 3.79s\n",
      "890:\tlearn: 0.0173929\ttotal: 30.8s\tremaining: 3.77s\n",
      "891:\tlearn: 0.0173822\ttotal: 30.8s\tremaining: 3.73s\n",
      "892:\tlearn: 0.0173767\ttotal: 30.9s\tremaining: 3.7s\n",
      "893:\tlearn: 0.0173669\ttotal: 30.9s\tremaining: 3.66s\n",
      "894:\tlearn: 0.0173576\ttotal: 30.9s\tremaining: 3.63s\n",
      "895:\tlearn: 0.0173533\ttotal: 31s\tremaining: 3.6s\n",
      "896:\tlearn: 0.0173495\ttotal: 31s\tremaining: 3.56s\n",
      "897:\tlearn: 0.0173452\ttotal: 31s\tremaining: 3.52s\n",
      "898:\tlearn: 0.0173387\ttotal: 31.1s\tremaining: 3.49s\n",
      "899:\tlearn: 0.0173364\ttotal: 31.1s\tremaining: 3.46s\n",
      "900:\tlearn: 0.0173289\ttotal: 31.1s\tremaining: 3.42s\n",
      "901:\tlearn: 0.0173198\ttotal: 31.2s\tremaining: 3.39s\n",
      "902:\tlearn: 0.0173088\ttotal: 31.2s\tremaining: 3.35s\n",
      "903:\tlearn: 0.0173028\ttotal: 31.2s\tremaining: 3.32s\n",
      "904:\tlearn: 0.0172867\ttotal: 31.3s\tremaining: 3.28s\n",
      "905:\tlearn: 0.0172747\ttotal: 31.3s\tremaining: 3.25s\n",
      "906:\tlearn: 0.0172702\ttotal: 31.3s\tremaining: 3.21s\n",
      "907:\tlearn: 0.0172507\ttotal: 31.4s\tremaining: 3.18s\n",
      "908:\tlearn: 0.0172336\ttotal: 31.4s\tremaining: 3.14s\n",
      "909:\tlearn: 0.0172239\ttotal: 31.4s\tremaining: 3.11s\n",
      "910:\tlearn: 0.0172097\ttotal: 31.5s\tremaining: 3.07s\n",
      "911:\tlearn: 0.0171923\ttotal: 31.5s\tremaining: 3.04s\n",
      "912:\tlearn: 0.0171873\ttotal: 31.5s\tremaining: 3s\n",
      "913:\tlearn: 0.0171760\ttotal: 31.6s\tremaining: 2.97s\n",
      "914:\tlearn: 0.0171713\ttotal: 31.6s\tremaining: 2.93s\n",
      "915:\tlearn: 0.0171592\ttotal: 31.6s\tremaining: 2.9s\n",
      "916:\tlearn: 0.0171490\ttotal: 31.6s\tremaining: 2.86s\n",
      "917:\tlearn: 0.0171399\ttotal: 31.7s\tremaining: 2.83s\n",
      "918:\tlearn: 0.0171341\ttotal: 31.7s\tremaining: 2.79s\n",
      "919:\tlearn: 0.0171288\ttotal: 31.8s\tremaining: 2.76s\n",
      "920:\tlearn: 0.0171208\ttotal: 31.8s\tremaining: 2.73s\n",
      "921:\tlearn: 0.0171099\ttotal: 31.8s\tremaining: 2.69s\n",
      "922:\tlearn: 0.0170921\ttotal: 31.9s\tremaining: 2.66s\n",
      "923:\tlearn: 0.0170890\ttotal: 31.9s\tremaining: 2.62s\n",
      "924:\tlearn: 0.0170878\ttotal: 31.9s\tremaining: 2.59s\n",
      "925:\tlearn: 0.0170812\ttotal: 32s\tremaining: 2.56s\n",
      "926:\tlearn: 0.0170791\ttotal: 32s\tremaining: 2.52s\n",
      "927:\tlearn: 0.0170596\ttotal: 32s\tremaining: 2.49s\n",
      "928:\tlearn: 0.0170539\ttotal: 32.1s\tremaining: 2.45s\n",
      "929:\tlearn: 0.0170429\ttotal: 32.1s\tremaining: 2.42s\n",
      "930:\tlearn: 0.0170386\ttotal: 32.2s\tremaining: 2.38s\n",
      "931:\tlearn: 0.0170327\ttotal: 32.2s\tremaining: 2.35s\n",
      "932:\tlearn: 0.0170245\ttotal: 32.2s\tremaining: 2.31s\n",
      "933:\tlearn: 0.0170233\ttotal: 32.3s\tremaining: 2.28s\n",
      "934:\tlearn: 0.0170180\ttotal: 32.3s\tremaining: 2.25s\n",
      "935:\tlearn: 0.0170143\ttotal: 32.3s\tremaining: 2.21s\n",
      "936:\tlearn: 0.0170067\ttotal: 32.4s\tremaining: 2.18s\n",
      "937:\tlearn: 0.0169982\ttotal: 32.4s\tremaining: 2.14s\n",
      "938:\tlearn: 0.0169912\ttotal: 32.4s\tremaining: 2.11s\n",
      "939:\tlearn: 0.0169846\ttotal: 32.5s\tremaining: 2.07s\n",
      "940:\tlearn: 0.0169828\ttotal: 32.5s\tremaining: 2.04s\n",
      "941:\tlearn: 0.0169771\ttotal: 32.5s\tremaining: 2s\n",
      "942:\tlearn: 0.0169716\ttotal: 32.6s\tremaining: 1.97s\n",
      "943:\tlearn: 0.0169671\ttotal: 32.6s\tremaining: 1.93s\n",
      "944:\tlearn: 0.0169615\ttotal: 32.6s\tremaining: 1.9s\n",
      "945:\tlearn: 0.0169580\ttotal: 32.7s\tremaining: 1.86s\n",
      "946:\tlearn: 0.0169103\ttotal: 32.7s\tremaining: 1.83s\n",
      "947:\tlearn: 0.0169033\ttotal: 32.7s\tremaining: 1.79s\n",
      "948:\tlearn: 0.0168923\ttotal: 32.8s\tremaining: 1.76s\n",
      "949:\tlearn: 0.0168843\ttotal: 32.8s\tremaining: 1.73s\n",
      "950:\tlearn: 0.0168700\ttotal: 32.8s\tremaining: 1.69s\n",
      "951:\tlearn: 0.0168657\ttotal: 32.9s\tremaining: 1.66s\n",
      "952:\tlearn: 0.0168586\ttotal: 32.9s\tremaining: 1.62s\n",
      "953:\tlearn: 0.0168578\ttotal: 32.9s\tremaining: 1.59s\n",
      "954:\tlearn: 0.0168529\ttotal: 33s\tremaining: 1.55s\n",
      "955:\tlearn: 0.0168497\ttotal: 33s\tremaining: 1.52s\n",
      "956:\tlearn: 0.0168457\ttotal: 33.1s\tremaining: 1.49s\n",
      "957:\tlearn: 0.0168315\ttotal: 33.1s\tremaining: 1.45s\n",
      "958:\tlearn: 0.0168221\ttotal: 33.1s\tremaining: 1.42s\n",
      "959:\tlearn: 0.0168185\ttotal: 33.2s\tremaining: 1.38s\n",
      "960:\tlearn: 0.0168137\ttotal: 33.2s\tremaining: 1.35s\n",
      "961:\tlearn: 0.0168057\ttotal: 33.2s\tremaining: 1.31s\n",
      "962:\tlearn: 0.0167986\ttotal: 33.3s\tremaining: 1.28s\n",
      "963:\tlearn: 0.0167839\ttotal: 33.3s\tremaining: 1.24s\n",
      "964:\tlearn: 0.0167801\ttotal: 33.3s\tremaining: 1.21s\n",
      "965:\tlearn: 0.0167686\ttotal: 33.4s\tremaining: 1.17s\n",
      "966:\tlearn: 0.0167647\ttotal: 33.4s\tremaining: 1.14s\n",
      "967:\tlearn: 0.0167635\ttotal: 33.5s\tremaining: 1.1s\n",
      "968:\tlearn: 0.0167588\ttotal: 33.5s\tremaining: 1.07s\n",
      "969:\tlearn: 0.0167547\ttotal: 33.5s\tremaining: 1.04s\n"
     ]
    },
    {
     "name": "stdout",
     "output_type": "stream",
     "text": [
      "970:\tlearn: 0.0167420\ttotal: 33.6s\tremaining: 1s\n",
      "971:\tlearn: 0.0167282\ttotal: 33.6s\tremaining: 968ms\n",
      "972:\tlearn: 0.0167204\ttotal: 33.6s\tremaining: 933ms\n",
      "973:\tlearn: 0.0167084\ttotal: 33.7s\tremaining: 899ms\n",
      "974:\tlearn: 0.0167000\ttotal: 33.7s\tremaining: 864ms\n",
      "975:\tlearn: 0.0166891\ttotal: 33.7s\tremaining: 830ms\n",
      "976:\tlearn: 0.0166862\ttotal: 33.8s\tremaining: 795ms\n",
      "977:\tlearn: 0.0166821\ttotal: 33.8s\tremaining: 760ms\n",
      "978:\tlearn: 0.0166738\ttotal: 33.8s\tremaining: 726ms\n",
      "979:\tlearn: 0.0166698\ttotal: 33.9s\tremaining: 691ms\n",
      "980:\tlearn: 0.0166675\ttotal: 33.9s\tremaining: 657ms\n",
      "981:\tlearn: 0.0166642\ttotal: 33.9s\tremaining: 622ms\n",
      "982:\tlearn: 0.0166608\ttotal: 34s\tremaining: 588ms\n",
      "983:\tlearn: 0.0166519\ttotal: 34s\tremaining: 553ms\n",
      "984:\tlearn: 0.0166317\ttotal: 34s\tremaining: 518ms\n",
      "985:\tlearn: 0.0166179\ttotal: 34.1s\tremaining: 484ms\n",
      "986:\tlearn: 0.0166126\ttotal: 34.1s\tremaining: 449ms\n",
      "987:\tlearn: 0.0166072\ttotal: 34.1s\tremaining: 415ms\n",
      "988:\tlearn: 0.0165856\ttotal: 34.2s\tremaining: 380ms\n",
      "989:\tlearn: 0.0165670\ttotal: 34.2s\tremaining: 346ms\n",
      "990:\tlearn: 0.0165481\ttotal: 34.2s\tremaining: 311ms\n",
      "991:\tlearn: 0.0165457\ttotal: 34.3s\tremaining: 276ms\n",
      "992:\tlearn: 0.0165419\ttotal: 34.3s\tremaining: 242ms\n",
      "993:\tlearn: 0.0165243\ttotal: 34.3s\tremaining: 207ms\n",
      "994:\tlearn: 0.0165195\ttotal: 34.4s\tremaining: 173ms\n",
      "995:\tlearn: 0.0165105\ttotal: 34.4s\tremaining: 138ms\n",
      "996:\tlearn: 0.0165088\ttotal: 34.5s\tremaining: 104ms\n",
      "997:\tlearn: 0.0165054\ttotal: 34.5s\tremaining: 69.1ms\n",
      "998:\tlearn: 0.0165038\ttotal: 34.5s\tremaining: 34.6ms\n",
      "999:\tlearn: 0.0164925\ttotal: 34.5s\tremaining: 0us\n",
      "Time of fit: 35.113483905792236\n",
      "Time of prediction: 0.23393702507019043\n"
     ]
    }
   ],
   "source": [
    "print('Training the classifier')\n",
    "start_time = time.time()\n",
    "clf = CatBoostClassifier(iterations=1000,\n",
    "                           early_stopping_rounds=10,\n",
    "                           learning_rate=0.1)\n",
    "clf = clf.fit(np.array(X_training), np.array(y_training) )\n",
    "print(f\"Time of fit: {time.time()-start_time}\")\n",
    "start_time = time.time()\n",
    "y_prediction = clf.predict(X_test)\n",
    "print(f\"Time of prediction: {time.time()-start_time}\")"
   ]
  },
  {
   "cell_type": "code",
   "execution_count": 116,
   "metadata": {},
   "outputs": [
    {
     "name": "stdout",
     "output_type": "stream",
     "text": [
      "Confusion matrix on test set\n",
      "[[32162    17]\n",
      " [  227     4]]\n"
     ]
    }
   ],
   "source": [
    "#hdp_lda\n",
    "conf_mat = confusion_matrix(y_test, y_prediction)\n",
    "print('Confusion matrix on test set')\n",
    "print(conf_mat)"
   ]
  },
  {
   "cell_type": "code",
   "execution_count": 37,
   "metadata": {},
   "outputs": [
    {
     "name": "stdout",
     "output_type": "stream",
     "text": [
      "Confusion matrix on test set\n",
      "[[32164    15]\n",
      " [  227     4]]\n"
     ]
    }
   ],
   "source": [
    "#hdp\n",
    "conf_mat = confusion_matrix(y_test, y_prediction)\n",
    "print('Confusion matrix on test set')\n",
    "print(conf_mat)"
   ]
  },
  {
   "cell_type": "code",
   "execution_count": 197,
   "metadata": {},
   "outputs": [
    {
     "name": "stdout",
     "output_type": "stream",
     "text": [
      "Confusion matrix on test set\n",
      "[[32157    22]\n",
      " [  230     1]]\n"
     ]
    }
   ],
   "source": [
    "conf_mat = confusion_matrix(y_test, y_prediction)\n",
    "print('Confusion matrix on test set')\n",
    "print(conf_mat)"
   ]
  },
  {
   "cell_type": "code",
   "execution_count": 134,
   "metadata": {},
   "outputs": [
    {
     "name": "stdout",
     "output_type": "stream",
     "text": [
      "Training the classifier\n",
      "Iteration 1, loss = 0.09023999\n",
      "Iteration 2, loss = 0.03258741\n",
      "Iteration 3, loss = 0.03223750\n",
      "Iteration 4, loss = 0.03206124\n",
      "Iteration 5, loss = 0.03189568\n",
      "Iteration 6, loss = 0.03176886\n",
      "Iteration 7, loss = 0.03161101\n",
      "Iteration 8, loss = 0.03146896\n",
      "Iteration 9, loss = 0.03132973\n",
      "Iteration 10, loss = 0.03123303\n",
      "Iteration 11, loss = 0.03111883\n",
      "Iteration 12, loss = 0.03097161\n",
      "Iteration 13, loss = 0.03094137\n",
      "Iteration 14, loss = 0.03085088\n",
      "Iteration 15, loss = 0.03083888\n",
      "Iteration 16, loss = 0.03080004\n",
      "Iteration 17, loss = 0.03072775\n",
      "Iteration 18, loss = 0.03072529\n",
      "Iteration 19, loss = 0.03069744\n",
      "Iteration 20, loss = 0.03058285\n",
      "Iteration 21, loss = 0.03065555\n",
      "Iteration 22, loss = 0.03058982\n",
      "Iteration 23, loss = 0.03050968\n",
      "Iteration 24, loss = 0.03044753\n",
      "Iteration 25, loss = 0.03054196\n",
      "Iteration 26, loss = 0.03042961\n",
      "Iteration 27, loss = 0.03042776\n",
      "Iteration 28, loss = 0.03041229\n",
      "Iteration 29, loss = 0.03028999\n",
      "Iteration 30, loss = 0.03033849\n",
      "Iteration 31, loss = 0.03034070\n",
      "Iteration 32, loss = 0.03027625\n",
      "Iteration 33, loss = 0.03025903\n",
      "Iteration 34, loss = 0.03019857\n",
      "Iteration 35, loss = 0.03030726\n",
      "Iteration 36, loss = 0.03020697\n",
      "Iteration 37, loss = 0.03018511\n",
      "Iteration 38, loss = 0.03008843\n",
      "Iteration 39, loss = 0.03011363\n",
      "Iteration 40, loss = 0.03011672\n",
      "Training loss did not improve more than tol=0.000100 for 10 consecutive epochs. Stopping.\n",
      "Time of fit: 214.6861333847046\n",
      "Time of prediction: 0.44626283645629883\n"
     ]
    }
   ],
   "source": [
    "print('Training the classifier')\n",
    "start_time = time.time()\n",
    "clf = neural_network.MLPClassifier(hidden_layer_sizes=(100, 100, 100, 100, 100),\n",
    "                                   learning_rate_init=0.0001, verbose=True)\n",
    "clf = clf.fit(X_training, y_training)\n",
    "print(f\"Time of fit: {time.time()-start_time}\")\n",
    "start_time = time.time()\n",
    "y_prediction = clf.predict(X_test)\n",
    "print(f\"Time of prediction: {time.time()-start_time}\")"
   ]
  },
  {
   "cell_type": "code",
   "execution_count": 135,
   "metadata": {},
   "outputs": [
    {
     "name": "stdout",
     "output_type": "stream",
     "text": [
      "Confusion matrix on test set\n",
      "[[32178     1]\n",
      " [  230     1]]\n"
     ]
    }
   ],
   "source": [
    "#hdp_lda\n",
    "conf_mat = confusion_matrix(y_test, y_prediction)\n",
    "print('Confusion matrix on test set')\n",
    "print(conf_mat)"
   ]
  },
  {
   "cell_type": "code",
   "execution_count": 52,
   "metadata": {},
   "outputs": [
    {
     "name": "stdout",
     "output_type": "stream",
     "text": [
      "Confusion matrix on test set\n",
      "[[32171     8]\n",
      " [  229     2]]\n"
     ]
    }
   ],
   "source": [
    "#hdp\n",
    "conf_mat = confusion_matrix(y_test, y_prediction)\n",
    "print('Confusion matrix on test set')\n",
    "print(conf_mat)"
   ]
  },
  {
   "cell_type": "code",
   "execution_count": 15,
   "metadata": {},
   "outputs": [
    {
     "name": "stdout",
     "output_type": "stream",
     "text": [
      "Confusion matrix on test set\n",
      "[[32177     2]\n",
      " [  231     0]]\n"
     ]
    }
   ],
   "source": [
    "conf_mat = confusion_matrix(y_test, y_prediction)\n",
    "print('Confusion matrix on test set')\n",
    "print(conf_mat)"
   ]
  },
  {
   "cell_type": "code",
   "execution_count": 60,
   "metadata": {},
   "outputs": [
    {
     "data": {
      "text/plain": [
       "array([-1, -1,  1, ..., -1, -1, -1])"
      ]
     },
     "execution_count": 60,
     "metadata": {},
     "output_type": "execute_result"
    }
   ],
   "source": [
    "np.array(y_test)"
   ]
  },
  {
   "cell_type": "code",
   "execution_count": 61,
   "metadata": {
    "scrolled": true
   },
   "outputs": [
    {
     "data": {
      "text/plain": [
       "array([-1, -1, -1, ..., -1, -1, -1])"
      ]
     },
     "execution_count": 61,
     "metadata": {},
     "output_type": "execute_result"
    }
   ],
   "source": [
    "y_prediction"
   ]
  },
  {
   "cell_type": "code",
   "execution_count": 62,
   "metadata": {},
   "outputs": [
    {
     "data": {
      "text/plain": [
       "(32176, 32410)"
      ]
     },
     "execution_count": 62,
     "metadata": {},
     "output_type": "execute_result"
    }
   ],
   "source": [
    "len(np.where(np.array(y_test) == y_prediction)[0]),len(y_test)"
   ]
  },
  {
   "cell_type": "code",
   "execution_count": 63,
   "metadata": {},
   "outputs": [
    {
     "data": {
      "text/plain": [
       "32176"
      ]
     },
     "execution_count": 63,
     "metadata": {},
     "output_type": "execute_result"
    }
   ],
   "source": [
    "len(np.where(np.array(y_test) == y_prediction)[0])"
   ]
  },
  {
   "cell_type": "code",
   "execution_count": 64,
   "metadata": {},
   "outputs": [
    {
     "data": {
      "text/plain": [
       "32410"
      ]
     },
     "execution_count": 64,
     "metadata": {},
     "output_type": "execute_result"
    }
   ],
   "source": [
    "len(y_test)"
   ]
  },
  {
   "cell_type": "markdown",
   "metadata": {},
   "source": [
    "### Ранжирование\n",
    "\n",
    "Принимая во внимание все вероятности того, что предложение в reference paper является provenance, и рассчитывается с учетом доступных расхождений, глобальный балл для каждого кандидата происхождения определяется путем суммирования всех его вероятностей. Предложения с наивысшей оценкой отбираются для создания summary of reference paper до тех пор, пока длина summary не превысит 250 слов. Эти предложения упорядочены в соответствии с их исходным положением в справочном документе."
   ]
  },
  {
   "cell_type": "code",
   "execution_count": 178,
   "metadata": {},
   "outputs": [
    {
     "data": {
      "text/plain": [
       "array([[0.996574  , 0.00342602],\n",
       "       [0.9715833 , 0.02841669],\n",
       "       [0.88471794, 0.11528206],\n",
       "       ...,\n",
       "       [0.99846184, 0.00153816],\n",
       "       [0.9985876 , 0.00141242],\n",
       "       [0.99846184, 0.00153816]], dtype=float32)"
      ]
     },
     "execution_count": 178,
     "metadata": {},
     "output_type": "execute_result"
    }
   ],
   "source": [
    "clf.predict_proba(X_test)"
   ]
  },
  {
   "cell_type": "code",
   "execution_count": 179,
   "metadata": {},
   "outputs": [
    {
     "name": "stdout",
     "output_type": "stream",
     "text": [
      "Creating summary for paper W09-0621\n",
      "Creating summary for paper D10-1058\n",
      "Creating summary for paper C98-1097\n",
      "Creating summary for paper W11-0815\n",
      "Creating summary for paper D09-1023\n",
      "Creating summary for paper P00-1025\n",
      "Creating summary for paper N09-1001\n",
      "Creating summary for paper W06-3909\n",
      "Creating summary for paper P07-1040\n",
      "Creating summary for paper N09-1025\n"
     ]
    }
   ],
   "source": [
    "create_summaries(test_path, clf.predict_proba(X_test))"
   ]
  },
  {
   "cell_type": "code",
   "execution_count": 198,
   "metadata": {},
   "outputs": [
    {
     "name": "stdout",
     "output_type": "stream",
     "text": [
      "Creating summary for paper W09-0621\n",
      "Creating summary for paper D10-1058\n",
      "Creating summary for paper C98-1097\n",
      "Creating summary for paper W11-0815\n",
      "Creating summary for paper D09-1023\n",
      "Creating summary for paper P00-1025\n",
      "Creating summary for paper N09-1001\n",
      "Creating summary for paper W06-3909\n",
      "Creating summary for paper P07-1040\n",
      "Creating summary for paper N09-1025\n"
     ]
    }
   ],
   "source": [
    "create_summaries_top_k(test_path, clf.predict_proba(X_test))"
   ]
  },
  {
   "cell_type": "markdown",
   "metadata": {},
   "source": [
    "### Test-Set 2018 annotation to Standart annotation"
   ]
  },
  {
   "cell_type": "code",
   "execution_count": 242,
   "metadata": {},
   "outputs": [],
   "source": [
    "import pandas as pd"
   ]
  },
  {
   "cell_type": "code",
   "execution_count": 192,
   "metadata": {},
   "outputs": [],
   "source": [
    "csv_anot = pd.read_csv('scisumm-corpus/Test-Set-2018/A00-2018/annotation/A00-2018.csv')"
   ]
  },
  {
   "cell_type": "code",
   "execution_count": 222,
   "metadata": {},
   "outputs": [
    {
     "data": {
      "text/plain": [
       "0     False\n",
       "1     False\n",
       "2     False\n",
       "3     False\n",
       "4     False\n",
       "5     False\n",
       "6     False\n",
       "7     False\n",
       "8     False\n",
       "9     False\n",
       "10    False\n",
       "11    False\n",
       "12    False\n",
       "13    False\n",
       "14    False\n",
       "15    False\n",
       "Name: Reference Text, dtype: bool"
      ]
     },
     "execution_count": 222,
     "metadata": {},
     "output_type": "execute_result"
    }
   ],
   "source": [
    "csv_anot['Reference Text'].notna()"
   ]
  },
  {
   "cell_type": "code",
   "execution_count": 193,
   "metadata": {},
   "outputs": [
    {
     "data": {
      "text/html": [
       "<div>\n",
       "<style scoped>\n",
       "    .dataframe tbody tr th:only-of-type {\n",
       "        vertical-align: middle;\n",
       "    }\n",
       "\n",
       "    .dataframe tbody tr th {\n",
       "        vertical-align: top;\n",
       "    }\n",
       "\n",
       "    .dataframe thead th {\n",
       "        text-align: right;\n",
       "    }\n",
       "</style>\n",
       "<table border=\"1\" class=\"dataframe\">\n",
       "  <thead>\n",
       "    <tr style=\"text-align: right;\">\n",
       "      <th></th>\n",
       "      <th>Citance Number</th>\n",
       "      <th>Reference Article</th>\n",
       "      <th>Citing Article</th>\n",
       "      <th>Citation Marker Offset</th>\n",
       "      <th>Citation Marker</th>\n",
       "      <th>Citation Offset</th>\n",
       "      <th>Citation Text</th>\n",
       "      <th>Citation Text Clean</th>\n",
       "      <th>Reference Offset</th>\n",
       "      <th>Reference Text</th>\n",
       "      <th>Discourse Facet</th>\n",
       "    </tr>\n",
       "  </thead>\n",
       "  <tbody>\n",
       "    <tr>\n",
       "      <th>0</th>\n",
       "      <td>2</td>\n",
       "      <td>A00-2018</td>\n",
       "      <td>N10-1002</td>\n",
       "      <td>0</td>\n",
       "      <td>Charniak, 2000</td>\n",
       "      <td>0</td>\n",
       "      <td>As a benchmark VPC extraction system, we use t...</td>\n",
       "      <td>As a benchmark VPC extraction system, we use t...</td>\n",
       "      <td>NaN</td>\n",
       "      <td>NaN</td>\n",
       "      <td>NaN</td>\n",
       "    </tr>\n",
       "    <tr>\n",
       "      <th>1</th>\n",
       "      <td>3</td>\n",
       "      <td>A00-2018</td>\n",
       "      <td>W11-0610</td>\n",
       "      <td>0</td>\n",
       "      <td>Charniak, 2000</td>\n",
       "      <td>0</td>\n",
       "      <td>Each of these scores can be calculated from a ...</td>\n",
       "      <td>Each of these scores can be calculated from a ...</td>\n",
       "      <td>NaN</td>\n",
       "      <td>NaN</td>\n",
       "      <td>NaN</td>\n",
       "    </tr>\n",
       "    <tr>\n",
       "      <th>2</th>\n",
       "      <td>4</td>\n",
       "      <td>A00-2018</td>\n",
       "      <td>W06-3119</td>\n",
       "      <td>0</td>\n",
       "      <td>Charniak, 2000</td>\n",
       "      <td>0</td>\n",
       "      <td>We then use Charniak? s parser (Charniak, 2000...</td>\n",
       "      <td>We then use Charniak's parser (Charniak, 2000)...</td>\n",
       "      <td>NaN</td>\n",
       "      <td>NaN</td>\n",
       "      <td>NaN</td>\n",
       "    </tr>\n",
       "    <tr>\n",
       "      <th>3</th>\n",
       "      <td>5</td>\n",
       "      <td>A00-2018</td>\n",
       "      <td>N03-2024</td>\n",
       "      <td>0</td>\n",
       "      <td>Charniak, 2000</td>\n",
       "      <td>0</td>\n",
       "      <td>We were interested in the occurrence of featur...</td>\n",
       "      <td>We were interested in the occurrence of featur...</td>\n",
       "      <td>NaN</td>\n",
       "      <td>NaN</td>\n",
       "      <td>NaN</td>\n",
       "    </tr>\n",
       "    <tr>\n",
       "      <th>4</th>\n",
       "      <td>6</td>\n",
       "      <td>A00-2018</td>\n",
       "      <td>N06-1039</td>\n",
       "      <td>0</td>\n",
       "      <td>Charniak, 2000</td>\n",
       "      <td>0</td>\n",
       "      <td>After getting a set of basic clusters, we pass...</td>\n",
       "      <td>After getting a set of basic clusters, we pass...</td>\n",
       "      <td>NaN</td>\n",
       "      <td>NaN</td>\n",
       "      <td>NaN</td>\n",
       "    </tr>\n",
       "  </tbody>\n",
       "</table>\n",
       "</div>"
      ],
      "text/plain": [
       "   Citance Number Reference Article Citing Article  Citation Marker Offset  \\\n",
       "0               2          A00-2018       N10-1002                       0   \n",
       "1               3          A00-2018       W11-0610                       0   \n",
       "2               4          A00-2018       W06-3119                       0   \n",
       "3               5          A00-2018       N03-2024                       0   \n",
       "4               6          A00-2018       N06-1039                       0   \n",
       "\n",
       "  Citation Marker  Citation Offset  \\\n",
       "0  Charniak, 2000                0   \n",
       "1  Charniak, 2000                0   \n",
       "2  Charniak, 2000                0   \n",
       "3  Charniak, 2000                0   \n",
       "4  Charniak, 2000                0   \n",
       "\n",
       "                                       Citation Text  \\\n",
       "0  As a benchmark VPC extraction system, we use t...   \n",
       "1  Each of these scores can be calculated from a ...   \n",
       "2  We then use Charniak? s parser (Charniak, 2000...   \n",
       "3  We were interested in the occurrence of featur...   \n",
       "4  After getting a set of basic clusters, we pass...   \n",
       "\n",
       "                                 Citation Text Clean  Reference Offset  \\\n",
       "0  As a benchmark VPC extraction system, we use t...               NaN   \n",
       "1  Each of these scores can be calculated from a ...               NaN   \n",
       "2  We then use Charniak's parser (Charniak, 2000)...               NaN   \n",
       "3  We were interested in the occurrence of featur...               NaN   \n",
       "4  After getting a set of basic clusters, we pass...               NaN   \n",
       "\n",
       "   Reference Text  Discourse Facet  \n",
       "0             NaN              NaN  \n",
       "1             NaN              NaN  \n",
       "2             NaN              NaN  \n",
       "3             NaN              NaN  \n",
       "4             NaN              NaN  "
      ]
     },
     "execution_count": 193,
     "metadata": {},
     "output_type": "execute_result"
    }
   ],
   "source": [
    "csv_anot.head()"
   ]
  },
  {
   "cell_type": "code",
   "execution_count": 211,
   "metadata": {},
   "outputs": [
    {
     "name": "stdout",
     "output_type": "stream",
     "text": [
      "0 Citance Number\n",
      "1 Reference Article\n",
      "2 Citing Article\n",
      "3 Citation Marker Offset\n",
      "4 Citation Marker\n",
      "5 Citation Offset\n",
      "6 Citation Text\n",
      "7 Citation Text Clean\n",
      "8 Reference Offset\n",
      "9 Reference Text\n",
      "10 Discourse Facet\n",
      "11 string\n"
     ]
    }
   ],
   "source": [
    "for i, j in zip(csv_anot.columns,range(12)):\n",
    "    print(j, i)"
   ]
  },
  {
   "cell_type": "code",
   "execution_count": 206,
   "metadata": {},
   "outputs": [
    {
     "data": {
      "text/plain": [
       "0     A00-2018\n",
       "1     A00-2018\n",
       "2     A00-2018\n",
       "3     A00-2018\n",
       "4     A00-2018\n",
       "5     A00-2018\n",
       "6     A00-2018\n",
       "7     A00-2018\n",
       "8     A00-2018\n",
       "9     A00-2018\n",
       "10    A00-2018\n",
       "11    A00-2018\n",
       "12    A00-2018\n",
       "13    A00-2018\n",
       "14    A00-2018\n",
       "15    A00-2018\n",
       "Name: Reference Article, dtype: object"
      ]
     },
     "execution_count": 206,
     "metadata": {},
     "output_type": "execute_result"
    }
   ],
   "source": [
    "csv_anot.iloc[:,1]"
   ]
  },
  {
   "cell_type": "code",
   "execution_count": 216,
   "metadata": {},
   "outputs": [],
   "source": [
    "csv_anot['string'] = 'Citance Number: '+ csv_anot['Citance Number'].astype(str)+' | ' \\\n",
    "                   + 'Reference Article: ' + csv_anot['Reference Article'].astype(str)+' | ' \\\n",
    "                   + 'Citing Article: ' + csv_anot['Citing Article'].astype(str)+' | ' \\\n",
    "                   + 'Citation Marker Offset: ' + csv_anot['Citation Marker Offset'].astype(str)+' | ' \\\n",
    "                   + 'Citation Marker: ' + csv_anot['Citation Marker'].astype(str)+' | ' \\\n",
    "                   + 'Citation Offset: ' + csv_anot['Citation Offset'].astype(str)+' | ' \\\n",
    "                   + 'Citation Text: ' + csv_anot['Citation Text'].astype(str)+' | ' \\\n",
    "                   + 'Citation Text Clean: ' + csv_anot['Citation Text Clean'].astype(str)+' | ' \\\n",
    "                   + 'Reference Offset: ' + csv_anot['Reference Offset'].astype(str)+' | ' \\\n",
    "                   + 'Reference Text: ' + csv_anot['Reference Text'].astype(str)+' | ' \\\n",
    "                   + 'Discourse Facet: ' + csv_anot['Discourse Facet'].astype(str)+' | '"
   ]
  },
  {
   "cell_type": "code",
   "execution_count": 220,
   "metadata": {},
   "outputs": [
    {
     "data": {
      "text/plain": [
       "'Citance Number: 2 | Reference Article: A00-2018 | Citing Article: N10-1002 | Citation Marker Offset: 0 | Citation Marker: Charniak, 2000 | Citation Offset: 0 | Citation Text: As a benchmark VPC extraction system, we use the Charniak parser (Charniak, 2000) | Citation Text Clean: As a benchmark VPC extraction system, we use the Charniak parser (Charniak, 2000) | Reference Offset: nan | Reference Text: nan | Discourse Facet: nan | '"
      ]
     },
     "execution_count": 220,
     "metadata": {},
     "output_type": "execute_result"
    }
   ],
   "source": [
    "csv_anot.string.values[0]"
   ]
  },
  {
   "cell_type": "markdown",
   "metadata": {},
   "source": [
    "### Evaluation"
   ]
  },
  {
   "cell_type": "markdown",
   "metadata": {},
   "source": [
    "https://github.com/pltrdy/rouge"
   ]
  },
  {
   "cell_type": "code",
   "execution_count": 180,
   "metadata": {},
   "outputs": [],
   "source": [
    "from rouge import Rouge "
   ]
  },
  {
   "cell_type": "code",
   "execution_count": 181,
   "metadata": {},
   "outputs": [],
   "source": [
    "rouge = Rouge()"
   ]
  },
  {
   "cell_type": "code",
   "execution_count": 182,
   "metadata": {
    "scrolled": false
   },
   "outputs": [
    {
     "name": "stdout",
     "output_type": "stream",
     "text": [
      "W11-0815.system.txt\n",
      "D09-1023.system.txt\n",
      "P00-1025.system.txt\n",
      "N09-1025.system.txt\n",
      "W06-3909.system.txt\n",
      "C98-1097.system.txt\n",
      "N09-1001.system.txt\n",
      "D10-1058.system.txt\n",
      "W09-0621.system.txt\n",
      "P07-1040.system.txt\n"
     ]
    }
   ],
   "source": [
    "my_summary = dict()\n",
    "summary_dir_path = 'summary/'\n",
    "for directory in listdir(summary_dir_path):\n",
    "    with open(summary_dir_path+directory) as f:\n",
    "        content = f.read()\n",
    "        print(directory)\n",
    "        key = directory.split('.')[0]\n",
    "        my_summary[key]=content"
   ]
  },
  {
   "cell_type": "code",
   "execution_count": 183,
   "metadata": {},
   "outputs": [
    {
     "data": {
      "text/plain": [
       "'Recently, confusion network decoding has been applied in machine translation system combination. Recently, confusion network decoding for MT system combination has been proposed (Bangalore et al., 2001). In (Bangalore et al., 2001), Levenshtein alignment was used to generate the network. A modified Levenshtein alignment allowing shifts as in computation of the translation edit rate (TER) (Snover et al., 2006) was used to align hy Proceedings of the 45th Annual Meeting of the Association of Computational Linguistics, pages 312–319, Prague, Czech Republic, June 2007. Qc 2007 Association for Computational Linguistics potheses in (Sim et al., 2007). This work was extended in (Rosti et al., 2007) by introducing system weights for word confidences. In this work, confusion networks are generated by using the -best output from each system as the skeleton, and prior probabilities for each network are estimated from the average TER scores between the skeleton and other hypotheses. In (Rosti et al., 2007), simple score was assigned to the word coming from the th- best hypothesis. The improved system combination method was compared to a simple confusion network decoding without system weights and the method proposed in (Rosti et al., 2007) on the Arabic to English and Chinese to English NIST MT05 tasks. Compared to the baseline from (Rosti et al., 2007), the new method improves the BLEU scores significantly.'"
      ]
     },
     "execution_count": 183,
     "metadata": {},
     "output_type": "execute_result"
    }
   ],
   "source": [
    "my_summary['P07-1040']"
   ]
  },
  {
   "cell_type": "code",
   "execution_count": 184,
   "metadata": {},
   "outputs": [],
   "source": [
    "gold_dir_path = 'Gold/'\n",
    "summary_abstract = dict()\n",
    "summary_combined = dict()\n",
    "summary_community = dict()\n",
    "summary_human = dict()\n",
    "for directory in listdir(gold_dir_path):\n",
    "    with open(gold_dir_path+directory) as f:\n",
    "        content = f.read()\n",
    "        key = directory.split('.')[0]\n",
    "        if directory.endswith(\"abstract.summary.txt\"):\n",
    "            summary_abstract[key]=content\n",
    "        elif directory.endswith(\"community.summary.txt\"):\n",
    "            summary_community[key]=content\n",
    "        elif directory.endswith(\"combined.summary.txt\"):\n",
    "            summary_combined[key]=content\n",
    "        elif directory.endswith(\"human.summary.txt\"):\n",
    "            summary_human[key]=content\n",
    "        else:\n",
    "            print('WARNING!')\n",
    "            break"
   ]
  },
  {
   "cell_type": "code",
   "execution_count": 185,
   "metadata": {},
   "outputs": [
    {
     "data": {
      "text/plain": [
       "'Text Segmentation Using Reiteration and Collocation A method is presented for segmenting text into subtopic areas. The proportion of related pairwise words is calculated between adjacent windows of text to determine their lexical similarity. The lexical cohesion relations of reiteration and collocation are used to identify related words. These relations are automatically located using a combination of three linguistic features: word repetition, collocation and relation weights. This method is shown to successfully detect known subject changes in text and corresponds well to the segmentations placed by test subjects. '"
      ]
     },
     "execution_count": 185,
     "metadata": {},
     "output_type": "execute_result"
    }
   ],
   "source": [
    "summary_abstract['C98-1097']"
   ]
  },
  {
   "cell_type": "code",
   "execution_count": 186,
   "metadata": {},
   "outputs": [
    {
     "data": {
      "text/plain": [
       "\"The paper 'Text Segmentation Using Reiteration and Collocation'  by Amanda C. Jobbins and Lindsay J. Evett presentes a method for segmenting a text into subtopics using Lexical cohesion.Lexical cohesion is expressed through the vocabulary used in text and the semantic relations between those words.For automatic detection of lexical cohesion  ties between pairwise words, three linguistic features were considered: word repetition, collocation and relation weights.The proposed segmentation algorithm compares adjacent windows of sentences and determines their lexical similarity. In first investigation word repetition alone achieved better results than using either collocation or relation weights individually. The combination of word repetition with another linguistic feature improved on its individual result, where less troughs were placed per text.In second investigation, recall rates tended to be lower than precision rates because the algorithm identified fewer segments than the test subjects. Each text was only 500 words in length and was related to a specific subject area.These factors limited the degree of subject change that occurred. Consequently, the test subjects tended to identify subject changes that were more subtle than the algorithm could detect.The combination of features word repetition and relation weights produced the best precision and recall rates of 0.80 and 0.69. When used in isolation, the performance of each feature was inferior to a combined approach. This fact provides evidence that  different lexical relations are detected by each linguistic feature considered. \""
      ]
     },
     "execution_count": 186,
     "metadata": {},
     "output_type": "execute_result"
    }
   ],
   "source": [
    "summary_human['C98-1097']"
   ]
  },
  {
   "cell_type": "code",
   "execution_count": 187,
   "metadata": {},
   "outputs": [],
   "source": [
    "scores_abstract = dict()\n",
    "scores_community = dict()\n",
    "scores_human = dict()\n",
    "for key in summary_human.keys():\n",
    "    scores_abstract[key] = rouge.get_scores(my_summary[key], summary_abstract[key])[0]\n",
    "    scores_community[key] = rouge.get_scores(my_summary[key], summary_community[key])[0]\n",
    "    scores_human[key] = rouge.get_scores(my_summary[key], summary_human[key])[0]"
   ]
  },
  {
   "cell_type": "code",
   "execution_count": 188,
   "metadata": {},
   "outputs": [
    {
     "data": {
      "text/plain": [
       "{'rouge-1': {'f': 0.6488294264990325,\n",
       "  'p': 0.7293233082706767,\n",
       "  'r': 0.5843373493975904},\n",
       " 'rouge-2': {'f': 0.4957264907882242,\n",
       "  'p': 0.5576923076923077,\n",
       "  'r': 0.4461538461538462},\n",
       " 'rouge-l': {'f': 0.6205163237464864,\n",
       "  'p': 0.7142857142857143,\n",
       "  'r': 0.572289156626506}}"
      ]
     },
     "execution_count": 188,
     "metadata": {},
     "output_type": "execute_result"
    }
   ],
   "source": [
    "scores_community['W11-0815']"
   ]
  },
  {
   "cell_type": "code",
   "execution_count": 189,
   "metadata": {},
   "outputs": [],
   "source": [
    "def average_rouge(scores,rouge='rouge-2',metric='f'):\n",
    "    rouges = []\n",
    "    for value in scores.values():\n",
    "        rouges.append(value[rouge][metric])\n",
    "    return rouges"
   ]
  },
  {
   "cell_type": "code",
   "execution_count": 190,
   "metadata": {},
   "outputs": [],
   "source": [
    "abstract_r2 = average_rouge(scores_abstract,rouge='rouge-2',metric='f')\n",
    "community_r2 = average_rouge(scores_community,rouge='rouge-2',metric='f')\n",
    "human_r2 = average_rouge(scores_human,rouge='rouge-2',metric='f')"
   ]
  },
  {
   "cell_type": "markdown",
   "metadata": {},
   "source": []
  },
  {
   "cell_type": "markdown",
   "metadata": {},
   "source": []
  },
  {
   "cell_type": "markdown",
   "metadata": {},
   "source": [
    "SVM with rbf"
   ]
  },
  {
   "cell_type": "code",
   "execution_count": 62,
   "metadata": {},
   "outputs": [
    {
     "data": {
      "text/plain": [
       "(0.07787471817756389, 0.14078694078267812, 0.10140411466064743)"
      ]
     },
     "execution_count": 62,
     "metadata": {},
     "output_type": "execute_result"
    }
   ],
   "source": [
    "np.mean(abstract_r2),np.mean(community_r2),np.mean(human_r2)"
   ]
  },
  {
   "cell_type": "markdown",
   "metadata": {},
   "source": [
    "CatBoost"
   ]
  },
  {
   "cell_type": "code",
   "execution_count": 133,
   "metadata": {},
   "outputs": [
    {
     "data": {
      "text/plain": [
       "(0.24975778386411546, 0.32898824520173875, 0.20797752277229575)"
      ]
     },
     "execution_count": 133,
     "metadata": {},
     "output_type": "execute_result"
    }
   ],
   "source": [
    "#with_hdp_lda\n",
    "np.mean(abstract_r2),np.mean(community_r2),np.mean(human_r2)"
   ]
  },
  {
   "cell_type": "code",
   "execution_count": 50,
   "metadata": {},
   "outputs": [
    {
     "data": {
      "text/plain": [
       "(0.24286631832422448, 0.32015983370924594, 0.19824910801274004)"
      ]
     },
     "execution_count": 50,
     "metadata": {},
     "output_type": "execute_result"
    }
   ],
   "source": [
    "#with_hdp\n",
    "np.mean(abstract_r2),np.mean(community_r2),np.mean(human_r2)"
   ]
  },
  {
   "cell_type": "code",
   "execution_count": 270,
   "metadata": {},
   "outputs": [
    {
     "data": {
      "text/plain": [
       "(0.24591310678310588, 0.30130490782111224, 0.18286560271292993)"
      ]
     },
     "execution_count": 270,
     "metadata": {},
     "output_type": "execute_result"
    }
   ],
   "source": [
    "#with_lda\n",
    "np.mean(abstract_r2),np.mean(community_r2),np.mean(human_r2)"
   ]
  },
  {
   "cell_type": "code",
   "execution_count": 209,
   "metadata": {},
   "outputs": [
    {
     "data": {
      "text/plain": [
       "(0.19420697343739707, 0.27979162434216764, 0.1526580795590468)"
      ]
     },
     "execution_count": 209,
     "metadata": {},
     "output_type": "execute_result"
    }
   ],
   "source": [
    "# jaccard\n",
    "np.mean(abstract_r2),np.mean(community_r2),np.mean(human_r2)"
   ]
  },
  {
   "cell_type": "markdown",
   "metadata": {},
   "source": [
    "XGBOOST 100 estimators"
   ]
  },
  {
   "cell_type": "code",
   "execution_count": 191,
   "metadata": {},
   "outputs": [
    {
     "data": {
      "text/plain": [
       "(0.19662945624424172, 0.32426136179171317, 0.15410472639000478)"
      ]
     },
     "execution_count": 191,
     "metadata": {},
     "output_type": "execute_result"
    }
   ],
   "source": [
    "#with_hdp_lda\n",
    "np.mean(abstract_r2),np.mean(community_r2),np.mean(human_r2)"
   ]
  },
  {
   "cell_type": "code",
   "execution_count": 35,
   "metadata": {},
   "outputs": [
    {
     "data": {
      "text/plain": [
       "(0.20291673197138813, 0.3060764146373976, 0.17352097059644137)"
      ]
     },
     "execution_count": 35,
     "metadata": {},
     "output_type": "execute_result"
    }
   ],
   "source": [
    "#with_hdp\n",
    "np.mean(abstract_r2),np.mean(community_r2),np.mean(human_r2)"
   ]
  },
  {
   "cell_type": "code",
   "execution_count": 287,
   "metadata": {},
   "outputs": [
    {
     "data": {
      "text/plain": [
       "(0.1947858153472447, 0.3096493178154836, 0.16517953946560632)"
      ]
     },
     "execution_count": 287,
     "metadata": {},
     "output_type": "execute_result"
    }
   ],
   "source": [
    "#with_lda\n",
    "np.mean(abstract_r2),np.mean(community_r2),np.mean(human_r2)"
   ]
  },
  {
   "cell_type": "code",
   "execution_count": 192,
   "metadata": {},
   "outputs": [
    {
     "data": {
      "text/plain": [
       "(0.2179759324593234, 0.30681668646050453, 0.17877269627840794)"
      ]
     },
     "execution_count": 192,
     "metadata": {},
     "output_type": "execute_result"
    }
   ],
   "source": [
    "# jaccard\n",
    "np.mean(abstract_r2),np.mean(community_r2),np.mean(human_r2)"
   ]
  },
  {
   "cell_type": "code",
   "execution_count": 75,
   "metadata": {},
   "outputs": [
    {
     "data": {
      "text/plain": [
       "(0.22951831953767093, 0.3110868759978951, 0.17520002466856807)"
      ]
     },
     "execution_count": 75,
     "metadata": {},
     "output_type": "execute_result"
    }
   ],
   "source": [
    "np.mean(abstract_r2),np.mean(community_r2),np.mean(human_r2)"
   ]
  },
  {
   "cell_type": "markdown",
   "metadata": {},
   "source": [
    "MLPClassifier"
   ]
  },
  {
   "cell_type": "code",
   "execution_count": 149,
   "metadata": {},
   "outputs": [
    {
     "data": {
      "text/plain": [
       "(0.30600373616405746, 0.31834343132677434, 0.22430687418319506)"
      ]
     },
     "execution_count": 149,
     "metadata": {},
     "output_type": "execute_result"
    }
   ],
   "source": [
    "#with_hdp_lda\n",
    "np.mean(abstract_r2),np.mean(community_r2),np.mean(human_r2)"
   ]
  },
  {
   "cell_type": "code",
   "execution_count": 66,
   "metadata": {},
   "outputs": [
    {
     "data": {
      "text/plain": [
       "(0.29837009283880433, 0.33578335345737853, 0.18129473949889643)"
      ]
     },
     "execution_count": 66,
     "metadata": {},
     "output_type": "execute_result"
    }
   ],
   "source": [
    "#with_hdp\n",
    "np.mean(abstract_r2),np.mean(community_r2),np.mean(human_r2)"
   ]
  },
  {
   "cell_type": "code",
   "execution_count": 303,
   "metadata": {},
   "outputs": [
    {
     "data": {
      "text/plain": [
       "(0.27280657818100984, 0.31921975917920653, 0.17620671453840597)"
      ]
     },
     "execution_count": 303,
     "metadata": {},
     "output_type": "execute_result"
    }
   ],
   "source": [
    "#with_lda\n",
    "np.mean(abstract_r2),np.mean(community_r2),np.mean(human_r2)"
   ]
  },
  {
   "cell_type": "code",
   "execution_count": 223,
   "metadata": {},
   "outputs": [
    {
     "data": {
      "text/plain": [
       "(0.21971719889722582, 0.2822074493460799, 0.13555569664438108)"
      ]
     },
     "execution_count": 223,
     "metadata": {},
     "output_type": "execute_result"
    }
   ],
   "source": [
    "# jaccard\n",
    "np.mean(abstract_r2),np.mean(community_r2),np.mean(human_r2)"
   ]
  },
  {
   "cell_type": "code",
   "execution_count": 67,
   "metadata": {},
   "outputs": [
    {
     "data": {
      "text/plain": [
       "(0.26870249097141874, 0.3203938411164929, 0.17075949648590674)"
      ]
     },
     "execution_count": 67,
     "metadata": {},
     "output_type": "execute_result"
    }
   ],
   "source": [
    "np.mean(abstract_r2),np.mean(community_r2),np.mean(human_r2)"
   ]
  },
  {
   "cell_type": "markdown",
   "metadata": {},
   "source": [
    "Все норм"
   ]
  }
 ],
 "metadata": {
  "kernelspec": {
   "display_name": "Python 3",
   "language": "python",
   "name": "python3"
  },
  "language_info": {
   "codemirror_mode": {
    "name": "ipython",
    "version": 3
   },
   "file_extension": ".py",
   "mimetype": "text/x-python",
   "name": "python",
   "nbconvert_exporter": "python",
   "pygments_lexer": "ipython3",
   "version": "3.7.4"
  }
 },
 "nbformat": 4,
 "nbformat_minor": 2
}
