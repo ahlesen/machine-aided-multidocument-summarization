{
 "cells": [
  {
   "cell_type": "markdown",
   "metadata": {},
   "source": [
    "# Citation based summarization\n",
    "\n",
    "The `scisumm-corpus` directory contains the corpus of papers published in the context of the [CL-SciSumm 2017](http://wing.comp.nus.edu.sg/~cl-scisumm2017/) challenge."
   ]
  },
  {
   "cell_type": "markdown",
   "metadata": {},
   "source": [
    "## Терминология\n",
    "\n",
    "Статьи, которые необходимо обобщить, называются **reference papers**. Каждый справочный документ связан с набором **citing papers**. Предложения цитирующей статьи, в которых цитируется соответствующий справочный документ, называются **citances**. Соответствующие предложения в справочном документе называются **provenances**. **Аннотация** - это отношение между набором цитирований цитирующей статьи и набором источников соответствующей справочной статьи.\n"
   ]
  },
  {
   "cell_type": "code",
   "execution_count": 110,
   "metadata": {},
   "outputs": [
    {
     "name": "stderr",
     "output_type": "stream",
     "text": [
      "[nltk_data] Downloading package stopwords to /home/andrey/nltk_data...\n",
      "[nltk_data]   Package stopwords is already up-to-date!\n"
     ]
    }
   ],
   "source": [
    "import re\n",
    "from os import listdir\n",
    "from os.path import join\n",
    "\n",
    "import numpy as np\n",
    "from sklearn import neural_network\n",
    "from sklearn.metrics import confusion_matrix\n",
    "\n",
    "import scisummgen\n",
    "\n",
    "import time\n",
    "from sklearn import ensemble\n",
    "from sklearn import svm\n",
    "import pandas as pd\n",
    "import xgboost as xgb\n",
    "\n",
    "from gensim.models.word2vec import Word2Vec\n",
    "from multiprocessing import cpu_count\n",
    "import gensim.downloader as api\n",
    "import re\n",
    "import nltk \n",
    "nltk.download('stopwords')\n",
    "from nltk.corpus import stopwords\n",
    "from nltk.corpus import wordnet\n",
    "stopWords = set(stopwords.words('english'))\n",
    "from rouge import Rouge \n",
    "rouge = Rouge()\n",
    "\n",
    "from difflib import SequenceMatcher\n",
    "from itertools import product \n",
    "\n",
    "from catboost import CatBoostClassifier"
   ]
  },
  {
   "cell_type": "code",
   "execution_count": 111,
   "metadata": {},
   "outputs": [],
   "source": [
    "training_path = 'scisumm-corpus/Training-Set-2017'\n",
    "test_path = 'scisumm-corpus/Test-Set-2017'"
   ]
  },
  {
   "cell_type": "code",
   "execution_count": 3,
   "metadata": {},
   "outputs": [
    {
     "name": "stdout",
     "output_type": "stream",
     "text": [
      "CPU times: user 2 µs, sys: 1e+03 ns, total: 3 µs\n",
      "Wall time: 5.25 µs\n"
     ]
    }
   ],
   "source": [
    "%time\n",
    "fasttext_model300 = api.load('fasttext-wiki-news-subwords-300')\n"
   ]
  },
  {
   "cell_type": "code",
   "execution_count": 4,
   "metadata": {},
   "outputs": [],
   "source": [
    "index2word_fasttext = set(fasttext_model300.index2word)"
   ]
  },
  {
   "cell_type": "code",
   "execution_count": 5,
   "metadata": {},
   "outputs": [],
   "source": [
    "def tokenize(string):\n",
    "        # МБ стоит попробовать ламматизацию данных???\n",
    "        raw_tokens = re.findall('\\w+', string.lower())\n",
    "        tokens = []\n",
    "        for token in raw_tokens:\n",
    "            if token not in stopWords:\n",
    "                tokens.append(token)\n",
    "        return tokens"
   ]
  },
  {
   "cell_type": "code",
   "execution_count": 6,
   "metadata": {},
   "outputs": [],
   "source": [
    "def avg_sentence_vector(words, model, num_features, index2word_set):\n",
    "    #function to average all words vectors in a given paragraph\n",
    "    featureVec = np.zeros((num_features,), dtype=\"float32\")\n",
    "    nwords = 0\n",
    "\n",
    "    for word in words:\n",
    "        if word in index2word_set:\n",
    "            nwords = nwords+1\n",
    "            featureVec = np.add(featureVec, model[word])\n",
    "\n",
    "    if nwords>0:\n",
    "        featureVec = np.divide(featureVec, nwords)\n",
    "    return featureVec"
   ]
  },
  {
   "cell_type": "code",
   "execution_count": 7,
   "metadata": {},
   "outputs": [],
   "source": [
    "def change_1_most_similar(words, model,index2word_set=set(fasttext_model300.index2word)):\n",
    "    changed_words = \"\"\n",
    "    for word in words:\n",
    "        if word in index2word_set:\n",
    "            changed_words+= model.most_similar(word)[0][0]+ \" \"\n",
    "    return changed_words"
   ]
  },
  {
   "cell_type": "code",
   "execution_count": 14,
   "metadata": {},
   "outputs": [
    {
     "data": {
      "text/plain": [
       "(0.06666666168888927, 0.0, 0.06608187134441518)"
      ]
     },
     "execution_count": 14,
     "metadata": {},
     "output_type": "execute_result"
    }
   ],
   "source": [
    "hypothesis = \"In such cases, neither global features (Chieu and Ng, 2002) nor aggregated contexts (Chieu and Ng, 2003) can help.\"\n",
    "\n",
    "reference = \"Global features are extracted from other occurrences of the same token in the whole document.\"\n",
    "\n",
    "def calc_Rouge(hypothesis,reference):\n",
    "    rouge = Rouge()\n",
    "    scores = rouge.get_scores(hypothesis,reference)\n",
    "\n",
    "    rougelist = []\n",
    "    r1_f = scores[0]['rouge-1']['f']\n",
    "    rougelist.append(r1_f)\n",
    "    rougelist.append(scores[0]['rouge-2']['f'])\n",
    "    rougelist.append(scores[0]['rouge-l']['f'])\n",
    "\n",
    "    return tuple(rougelist)\n",
    "calc_Rouge(hypothesis,reference)"
   ]
  },
  {
   "cell_type": "code",
   "execution_count": 112,
   "metadata": {},
   "outputs": [],
   "source": [
    "def create_features(path,with_1_most=False):\n",
    "    X = []\n",
    "    y = []\n",
    "\n",
    "    # For all the papers\n",
    "    for num,directory in enumerate(listdir(path)):\n",
    "        print('num = ',num,' directory',directory)\n",
    "        paper = scisummgen.Paper(join(path, directory))\n",
    "        similarity = scisummgen.Similarity(paper)\n",
    "\n",
    "        # For all the citances\n",
    "        for citance in paper.annotation.citances:\n",
    "            # For all the sentences of the reference paper\n",
    "            for sentence_sid, sentence in paper.reference.sentences.items():\n",
    "                citance_text = paper.get_citance_text(citance)\n",
    "                sentence_text = sentence['text']\n",
    "                \n",
    "                tfidf = similarity.tfidf_similarity(sentence_text, citance_text)\n",
    "                lsi = similarity.lsi_similarity(sentence_text, citance_text)\n",
    "                lda = similarity.lda_similarity(sentence['text'], citance_text)\n",
    "                hdp = similarity.hdp_similarity(sentence['text'], citance_text)\n",
    "                bigrams = similarity.count_bigrams(sentence_text, citance_text)\n",
    "\n",
    "                try:\n",
    "                    sid_pos = sentence['sid'] / sentence['sid_max']\n",
    "                except ZeroDivisionError:\n",
    "                    sid_pos = 0\n",
    "\n",
    "                try:\n",
    "                    ssid_pos = sentence['ssid'] / sentence['ssid_max']\n",
    "                except ZeroDivisionError:\n",
    "                    ssid_pos = 0\n",
    "\n",
    "                try:\n",
    "                    section_pos = sentence['section'] / sentence['section_max']\n",
    "                except ZeroDivisionError:\n",
    "                    section_pos = 0\n",
    "                # calcRouge\n",
    "                r1_f, r2_f, rl_f = calc_Rouge(sentence_text,citance_text)\n",
    "                # SequenceMatcher\n",
    "                seq_match = SequenceMatcher(None, sentence_text, citance_text).ratio()\n",
    "                # w2v features\n",
    "                sentence_tok = tokenize(sentence_text)\n",
    "                citance_tok = tokenize(citance_text)\n",
    "                \n",
    "                if len(sentence_tok) <= 2:\n",
    "                    wmdistance = 0\n",
    "                    w2v_cos_sim = 0\n",
    "                else:\n",
    "                    wmdistance = fasttext_model300.wmdistance(sentence_tok,citance_tok)\n",
    "                    if np.isinf(wmdistance):\n",
    "                        wmdistance = 0\n",
    "                        print(type(sentence_tok))\n",
    "                        print(citance_text)\n",
    "                        print('_'*50)\n",
    "                    sentence_tok_avg = avg_sentence_vector(sentence_tok, model=fasttext_model300, num_features=300,index2word_set=index2word_fasttext)\n",
    "                    citance_tok_avg = avg_sentence_vector(citance_tok, model=fasttext_model300, num_features=300,index2word_set=index2word_fasttext)\n",
    "      \n",
    "                    w2v_cos_sim = fasttext_model300.cosine_similarities(sentence_tok_avg,[citance_tok_avg])[0]\n",
    "                    \n",
    "                if with_1_most:\n",
    "                    if len(sentence_tok) <= 2:\n",
    "                        w2v_1_most_cos_sim = 0\n",
    "                    else:\n",
    "                        sentence_tok_sim = change_1_most_similar(sentence_tok,model=fasttext_model300)\n",
    "                        citance_tok_sim = change_1_most_similar(citance_tok,model=fasttext_model300)\n",
    "                        \n",
    "                        sentence_avg_sim = avg_sentence_vector(sentence_tok_sim, model=fasttext_model300, num_features=300,index2word_set=set(fasttext_model300.index2word))\n",
    "                        citance_avg_sim = avg_sentence_vector(citance_tok_sim, model=fasttext_model300, num_features=300,index2word_set=set(fasttext_model300.index2word))\n",
    "                        w2v_1_most_cos_sim = fasttext_model300.cosine_similarities(sentence_avg_sim,[citance_avg_sim])[0]\n",
    "                \n",
    "                #  check the similarity between each words in the two list and find out the maximum similarity\n",
    "                # get_wordnet_based_similarity\n",
    "#                 allsyns1 = set(ss for word in sentence_tok for ss in wordnet.synsets(word))\n",
    "#                 allsyns2 = set(ss for word in citance_tok for ss in wordnet.synsets(word))\n",
    "#                 try:\n",
    "#                     best = max((wordnet.wup_similarity(s1, s2) or 0, s1, s2) for s1, s2 in \n",
    "#                         product(allsyns1, allsyns2))\n",
    "#                     wordnet_sc =  best[0]\n",
    "#                 except:\n",
    "#                     wordnet_sc =  0 \n",
    "                    \n",
    "                X.append([tfidf, lsi, lda, hdp, bigrams, sid_pos, ssid_pos, section_pos, seq_match, wmdistance,w2v_cos_sim,r1_f, r2_f, rl_f])\n",
    "                if with_1_most:\n",
    "                    X.append([tfidf, lsi, bigrams, sid_pos, ssid_pos, section_pos, wmdistance,w2v_cos_sim, w2v_1_most_cos_sim])\n",
    "                # Check if this sentence is also a provenance\n",
    "                if sentence_sid in citance['RO']:\n",
    "                    y.append(1)\n",
    "                else:\n",
    "                    y.append(-1)\n",
    "\n",
    "    return X, y"
   ]
  },
  {
   "cell_type": "code",
   "execution_count": 4,
   "metadata": {},
   "outputs": [
    {
     "data": {
      "text/plain": [
       "(14, 14)"
      ]
     },
     "execution_count": 4,
     "metadata": {},
     "output_type": "execute_result"
    }
   ],
   "source": [
    "len([1, 1, 1, 1, 1, 1, 1, 1, 1, 1,1,1, 1, 1]),len([0.09661177, 0.10026853, 0.07010722, 0.01624012, 0.01915178,\n",
    "0.09136614, 0.08223378, 0.03783819, 0.09495141, 0.09158937,\n",
    "       0.09194491, 0.07627548, 0.04469802, 0.08672328])"
   ]
  },
  {
   "cell_type": "code",
   "execution_count": null,
   "metadata": {},
   "outputs": [],
   "source": [
    "[tfidf, lsi, lda, hdp, bigrams, \n",
    " sid_pos, ssid_pos, section_pos, seq_match, wmdistance,\n",
    " w2v_cos_sim,r1_f, r2_f, rl_f]"
   ]
  },
  {
   "cell_type": "code",
   "execution_count": 1,
   "metadata": {
    "scrolled": true
   },
   "outputs": [
    {
     "data": {
      "text/plain": [
       "[0.09661177,\n",
       " 0.10026853,\n",
       " 0.07010722,\n",
       " 0.01624012,\n",
       " 0.01915178,\n",
       " 0.09136614,\n",
       " 0.08223378,\n",
       " 0.03783819,\n",
       " 0.09495141,\n",
       " 0.09158937,\n",
       " 0.09194491,\n",
       " 0.07627548,\n",
       " 0.04469802,\n",
       " 0.08672328]"
      ]
     },
     "execution_count": 1,
     "metadata": {},
     "output_type": "execute_result"
    }
   ],
   "source": [
    "[0.09661177, 0.10026853, 0.07010722, 0.01624012, 0.01915178,\n",
    "0.09136614, 0.08223378, 0.03783819, 0.09495141, 0.09158937,\n",
    "       0.09194491, 0.07627548, 0.04469802, 0.08672328]"
   ]
  },
  {
   "cell_type": "code",
   "execution_count": 113,
   "metadata": {},
   "outputs": [],
   "source": [
    "def create_summaries(path, y_probability):\n",
    "    y_index = 0\n",
    "\n",
    "    # For all the test papers\n",
    "    for directory in listdir(path):\n",
    "        print('Creating summary for paper', directory)\n",
    "        paper = scisummgen.Paper(join(path, directory))\n",
    "        sentence_scores = np.zeros(next(iter(paper.reference.sentences.values()))['sid_max'] + 1)\n",
    "\n",
    "        # For all the citances\n",
    "        for citance in paper.annotation.citances:\n",
    "            # For all the sentences of the reference paper\n",
    "            for sentence_sid, sentence in paper.reference.sentences.items():\n",
    "                # The probability of being a provenance\n",
    "                sentence_scores[sentence_sid] += y_probability[y_index][1]\n",
    "                y_index += 1\n",
    "\n",
    "        # Find the sentences with the highest scores\n",
    "        sentence_sid_sorted = sentence_scores.argsort()[::-1]\n",
    "        summary_sentences = []\n",
    "        tot_words = 0\n",
    "\n",
    "        for sid in sentence_sid_sorted:\n",
    "            sentence = paper.reference.sentences[sid]\n",
    "            # Avoid considering the title\n",
    "            if sentence['sid'] == 0:\n",
    "                continue\n",
    "            # Count the number of words\n",
    "            words = len(re.findall('\\w+', sentence['text'].lower()))\n",
    "            tot_words += words\n",
    "            if tot_words <= 250:\n",
    "                summary_sentences.append(sentence)\n",
    "            else:\n",
    "                break\n",
    "\n",
    "        # Sort sentences by sid\n",
    "        summary_sentences.sort(key=lambda x: x['sid'])\n",
    "\n",
    "        # Create the summary\n",
    "        summary = ''\n",
    "        for sentence in summary_sentences:\n",
    "            summary += sentence['text'] + ' '\n",
    "        summary = summary.strip(' ')\n",
    "\n",
    "        with open(join('summary', directory + '.system.txt'), 'w', encoding='utf-8') as file:\n",
    "            file.write(summary)"
   ]
  },
  {
   "cell_type": "code",
   "execution_count": 186,
   "metadata": {},
   "outputs": [],
   "source": [
    "def create_summaries_top_k(path, y_probability,k=3):\n",
    "    y_index = 0\n",
    "\n",
    "    # For all the test papers\n",
    "    for directory in listdir(path):\n",
    "        print('Creating summary for paper', directory)\n",
    "        paper = scisummgen.Paper(join(path, directory))\n",
    "        sentence_scores = np.zeros(next(iter(paper.reference.sentences.values()))['sid_max'] + 1)\n",
    "\n",
    "        # For all the citances\n",
    "        for citance in paper.annotation.citances:\n",
    "            # For all the sentences of the reference paper\n",
    "            for sentence_sid, sentence in paper.reference.sentences.items():\n",
    "                # The probability of being a provenance\n",
    "                sentence_scores[sentence_sid] += y_probability[y_index][1]\n",
    "                y_index += 1\n",
    "\n",
    "        # Find the sentences with the highest scores\n",
    "        sentence_sid_sorted = sentence_scores.argsort()[::-1]\n",
    "        \n",
    "        for num in range(1,k+1):\n",
    "            summary_sentences = []\n",
    "            tot_words = 0\n",
    "            del_sids = []\n",
    "            for sid in sentence_sid_sorted:\n",
    "                del_sids.append(sid)\n",
    "                sentence = paper.reference.sentences[sid]\n",
    "                # Avoid considering the title\n",
    "                if sentence['sid'] == 0:\n",
    "                    continue\n",
    "                # Count the number of words\n",
    "                words = len(re.findall('\\w+', sentence['text'].lower()))\n",
    "                tot_words += words\n",
    "                if tot_words <= 250:\n",
    "                    summary_sentences.append(sentence)\n",
    "                else:\n",
    "                    break\n",
    "                    \n",
    "            sentence_sid_sorted = sentence_sid_sorted[~np.isin(sentence_sid_sorted,del_sids)]\n",
    "            # Sort sentences by sid\n",
    "            summary_sentences.sort(key=lambda x: x['sid'])\n",
    "\n",
    "            # Create the summary\n",
    "            summary = ''\n",
    "            for sentence in summary_sentences:\n",
    "                summary += sentence['text'] + ' '\n",
    "            summary = summary.strip(' ')\n",
    "\n",
    "            with open(join('summary', directory +f'-{str(num)}' +'.system.txt'), 'w', encoding='utf-8') as file:\n",
    "                file.write(summary)"
   ]
  },
  {
   "cell_type": "markdown",
   "metadata": {},
   "source": [
    "\n",
    "### Подготовка текста\n",
    "\n",
    "Каждый reference paper представлен классом ***Paper class***. Этот класс *содержит reference paper, соответствующие цитирующие документы и соответствующие аннотации*. Документы представлены классом ***Document***, который *содержит фактические предложения*. *Список аннотаций* представлен классом  ***Annotation***.\n",
    "\n",
    "Предложения:\n",
    "- переводятся в нижний регистр\n",
    "- и затем токенизируется с помощью регулярного выражения `\\w+`. Токены, перечисленные в файле `stopwords.txt`, игнорируются."
   ]
  },
  {
   "cell_type": "markdown",
   "metadata": {},
   "source": [
    "### Предсказание provenance \n",
    "\n",
    "For each reference paper, for each citance, and for each sentence of the reference paper, it is possible to compute a set of features. These features are used to train an MLP classifier with the goal of predicting if a sentence of the reference paper is a provenance or not. The features considered are the following:\n",
    "\n",
    "* **tfidf**: the TF-IDF similarity between the two sentences as computed by `gensim`;\n",
    "* **lsi**: the LSI similarity between the two sentences, as computed by `gensim` considering 50 topics;\n",
    "* **bigrams**: the number of common bigrams between the two sentences;\n",
    "* **sid_pos**: the position of the sentence in the reference paper;\n",
    "* **ssid_pos**: the position of the sentence in the local section of the reference paper;\n",
    "* **section_pos**: the position of the local section in the reference paper.\n",
    "\n",
    "The corpus of documents used for computing the TF-IDF similarity and the LSI similarity includes all the sentences of the reference paper and all the sentences of all its citing papers.\n",
    "\n",
    "The classifier is trained to predict the probability for a sentence of being a provenance given a particular citance. Please note that a citance, in practice, may include several sentences of the citing paper. These probabilities are predicted for each pair composed of a sentence of the reference paper and a citance of all its citing papers.\n",
    "\n",
    "### Прогноз provenance\n",
    "\n",
    "Для каждого reference paper, для каждого цитирования и для каждого предложения reference paper можно вычислить набор функций. Эти функции используются для обучения классификаторов с целью прогнозирования, является ли предложение reference paper provenance или нет. Рассматриваются следующие функции:\n",
    "\n",
    "* **tfidf**: сходство TF-IDF между двумя предложениями, вычисленное с помощью `gensim`;\n",
    "* **lsi**: сходство LSI между двумя предложениями, вычисленное `gensim` с учетом 50 тем;\n",
    "* **биграммы**: количество общих биграмм между двумя предложениями;\n",
    "* **sid_pos**: позиция предложения в справочном документе;\n",
    "* **ssid_pos**: позиция предложения в локальном разделе справочного документа;\n",
    "* **section_pos**: положение локального раздела в справочном документе.\n",
    "\n",
    "Корпус документов, используемых для вычисления подобия TF-IDF и подобия LSI, включает все предложения справочного документа и все предложения всех цитирующих документов.\n",
    "\n",
    "Классификатор обучен предсказывать вероятность того, что предложение будет провенансом для конкретного случая. Обратите внимание, что на практике цитата может включать несколько предложений цитирующей статьи. Эти вероятности предсказываются для каждой пары, состоящей из предложения reference paper и цитирования всех цитирующих документов."
   ]
  },
  {
   "cell_type": "code",
   "execution_count": 114,
   "metadata": {
    "scrolled": true
   },
   "outputs": [
    {
     "name": "stdout",
     "output_type": "stream",
     "text": [
      "Creating features for the training set\n",
      "num =  0  directory W08-2222\n",
      "num =  1  directory W03-0410\n",
      "num =  2  directory W04-0213\n",
      "num =  3  directory E03-1020\n",
      "num =  4  directory N01-1011\n",
      "num =  5  directory P98-1046\n",
      "num =  6  directory I05-5011\n",
      "num =  7  directory P05-1004\n",
      "num =  8  directory P06-2124\n",
      "num =  9  directory N04-1038\n",
      "num =  10  directory D10-1083\n",
      "num =  11  directory J98-2005\n",
      "num =  12  directory J00-3003\n",
      "num =  13  directory X96-1048\n",
      "num =  14  directory J96-3004\n",
      "num =  15  directory C02-1025\n",
      "num =  16  directory P98-1081\n",
      "num =  17  directory C00-2123\n",
      "num =  18  directory C04-1089\n",
      "num =  19  directory H89-2014\n",
      "num =  20  directory C08-1098\n",
      "num =  21  directory H05-1115\n",
      "num =  22  directory C94-2154\n",
      "num =  23  directory E09-2008\n",
      "num =  24  directory P98-2143\n",
      "num =  25  directory N06-2049\n",
      "num =  26  directory C90-2039\n",
      "num =  27  directory C10-1045\n",
      "num =  28  directory P05-1053\n",
      "num =  29  directory W95-0104\n",
      "Time of creating: 1784.7404243946075\n"
     ]
    }
   ],
   "source": [
    "start_time = time.time()\n",
    "print('Creating features for the training set')\n",
    "X_training, y_training = create_features(training_path)\n",
    "print(f\"Time of creating: {time.time()-start_time}\")"
   ]
  },
  {
   "cell_type": "code",
   "execution_count": 115,
   "metadata": {},
   "outputs": [],
   "source": [
    "def lists2txt(dataset,name='file'):\n",
    "    with open(f'{name}.txt', 'w+', encoding='utf-8') as file:\n",
    "        for res in dataset:\n",
    "            try:\n",
    "                line = \"|\".join(map(str, res))\n",
    "#             print(line)\n",
    "                file.write(line+ '\\n')\n",
    "            except:\n",
    "                line = str(res)\n",
    "                file.write(line+ '\\n')"
   ]
  },
  {
   "cell_type": "code",
   "execution_count": 116,
   "metadata": {},
   "outputs": [],
   "source": [
    "lists2txt(X_training,name='X_training_ALL')\n",
    "# lists2txt(y_training,name='y_training_new')"
   ]
  },
  {
   "cell_type": "code",
   "execution_count": 117,
   "metadata": {},
   "outputs": [
    {
     "data": {
      "text/plain": [
       "(147885, 147885)"
      ]
     },
     "execution_count": 117,
     "metadata": {},
     "output_type": "execute_result"
    }
   ],
   "source": [
    "len(X_training),len(y_training)"
   ]
  },
  {
   "cell_type": "code",
   "execution_count": 118,
   "metadata": {},
   "outputs": [
    {
     "data": {
      "text/plain": [
       "[0.09107501196704412,\n",
       " 0.4870091174665887,\n",
       " 0.4517682313836073,\n",
       " 0.0,\n",
       " 0,\n",
       " 0.006097560975609756,\n",
       " 0.08333333333333333,\n",
       " 0.2,\n",
       " 0.3178294573643411,\n",
       " 0.8542434272016185,\n",
       " 0.8698474,\n",
       " 0.10810810328707107,\n",
       " 0.0,\n",
       " 0.10111958924554615]"
      ]
     },
     "execution_count": 118,
     "metadata": {},
     "output_type": "execute_result"
    }
   ],
   "source": [
    "X_training[0]"
   ]
  },
  {
   "cell_type": "code",
   "execution_count": 38,
   "metadata": {},
   "outputs": [
    {
     "data": {
      "text/plain": [
       "[0.09107501196704412,\n",
       " 0.4565450292731724,\n",
       " 0,\n",
       " 0.006097560975609756,\n",
       " 0.08333333333333333,\n",
       " 0.2,\n",
       " 0.8542434272016185,\n",
       " 0.8698474]"
      ]
     },
     "execution_count": 38,
     "metadata": {},
     "output_type": "execute_result"
    }
   ],
   "source": [
    "X_training[0]"
   ]
  },
  {
   "cell_type": "code",
   "execution_count": 39,
   "metadata": {},
   "outputs": [
    {
     "data": {
      "text/plain": [
       "False"
      ]
     },
     "execution_count": 39,
     "metadata": {},
     "output_type": "execute_result"
    }
   ],
   "source": [
    "np.isnan(X_training[22428][-1])"
   ]
  },
  {
   "cell_type": "code",
   "execution_count": 40,
   "metadata": {},
   "outputs": [
    {
     "data": {
      "text/plain": [
       "False"
      ]
     },
     "execution_count": 40,
     "metadata": {},
     "output_type": "execute_result"
    }
   ],
   "source": [
    "np.isinf(X_training[22428][-2])"
   ]
  },
  {
   "cell_type": "code",
   "execution_count": 41,
   "metadata": {},
   "outputs": [
    {
     "data": {
      "text/plain": [
       "[0.0,\n",
       " 0.0,\n",
       " 0,\n",
       " 0.7439024390243902,\n",
       " 0.48695652173913045,\n",
       " 0.8333333333333334,\n",
       " 0,\n",
       " 0]"
      ]
     },
     "execution_count": 41,
     "metadata": {},
     "output_type": "execute_result"
    }
   ],
   "source": [
    "X_training[22674]"
   ]
  },
  {
   "cell_type": "code",
   "execution_count": 42,
   "metadata": {},
   "outputs": [
    {
     "data": {
      "text/plain": [
       "[0.0,\n",
       " 0.0,\n",
       " 0,\n",
       " 0.7439024390243902,\n",
       " 0.48695652173913045,\n",
       " 0.8333333333333334,\n",
       " 0,\n",
       " 0]"
      ]
     },
     "execution_count": 42,
     "metadata": {},
     "output_type": "execute_result"
    }
   ],
   "source": [
    "X_training[22674]"
   ]
  },
  {
   "cell_type": "code",
   "execution_count": 43,
   "metadata": {},
   "outputs": [
    {
     "data": {
      "text/plain": [
       "(array([], dtype=int64),)"
      ]
     },
     "execution_count": 43,
     "metadata": {},
     "output_type": "execute_result"
    }
   ],
   "source": [
    "np.where(np.isnan(np.array(X_training)[:,-1]))"
   ]
  },
  {
   "cell_type": "code",
   "execution_count": 6,
   "metadata": {},
   "outputs": [
    {
     "data": {
      "text/plain": [
       "(147885, 147885)"
      ]
     },
     "execution_count": 6,
     "metadata": {},
     "output_type": "execute_result"
    }
   ],
   "source": [
    "len(X_training),len(y_training)"
   ]
  },
  {
   "cell_type": "code",
   "execution_count": 7,
   "metadata": {},
   "outputs": [
    {
     "data": {
      "text/plain": [
       "[0.09107501196704412,\n",
       " 0.4670766223405552,\n",
       " 0,\n",
       " 0.006097560975609756,\n",
       " 0.08333333333333333,\n",
       " 0.2]"
      ]
     },
     "execution_count": 7,
     "metadata": {},
     "output_type": "execute_result"
    }
   ],
   "source": [
    "X_training[0]"
   ]
  },
  {
   "cell_type": "code",
   "execution_count": 8,
   "metadata": {},
   "outputs": [
    {
     "data": {
      "text/plain": [
       "{-1, 1}"
      ]
     },
     "execution_count": 8,
     "metadata": {},
     "output_type": "execute_result"
    }
   ],
   "source": [
    "set(y_training)"
   ]
  },
  {
   "cell_type": "code",
   "execution_count": 119,
   "metadata": {
    "scrolled": true
   },
   "outputs": [
    {
     "name": "stdout",
     "output_type": "stream",
     "text": [
      "Creating features for the test set\n",
      "num =  0  directory W09-0621\n",
      "num =  1  directory D10-1058\n",
      "num =  2  directory C98-1097\n",
      "num =  3  directory W11-0815\n",
      "num =  4  directory D09-1023\n",
      "num =  5  directory P00-1025\n",
      "num =  6  directory N09-1001\n",
      "num =  7  directory W06-3909\n",
      "num =  8  directory P07-1040\n",
      "num =  9  directory N09-1025\n",
      "Time of creating: 314.6532452106476\n"
     ]
    }
   ],
   "source": [
    "start_time = time.time()\n",
    "print('Creating features for the test set')\n",
    "X_test, y_test = create_features(test_path)\n",
    "print(f\"Time of creating: {time.time()-start_time}\")"
   ]
  },
  {
   "cell_type": "code",
   "execution_count": 120,
   "metadata": {},
   "outputs": [],
   "source": [
    "lists2txt(X_test,name='X_test_ALL')\n",
    "# lists2txt(y_training,name='y_training_new')"
   ]
  },
  {
   "cell_type": "code",
   "execution_count": 121,
   "metadata": {},
   "outputs": [
    {
     "data": {
      "text/plain": [
       "(32410, 32410)"
      ]
     },
     "execution_count": 121,
     "metadata": {},
     "output_type": "execute_result"
    }
   ],
   "source": [
    "len(X_test),len(y_test)"
   ]
  },
  {
   "cell_type": "code",
   "execution_count": 122,
   "metadata": {},
   "outputs": [
    {
     "data": {
      "text/plain": [
       "[0.0,\n",
       " 0.18963097657912117,\n",
       " 0.0,\n",
       " 0.0,\n",
       " 0,\n",
       " 0.010101010101010102,\n",
       " 0.0625,\n",
       " 0.25,\n",
       " 0.291970802919708,\n",
       " 1.117975920350416,\n",
       " 0.65321326,\n",
       " 0.0,\n",
       " 0.0,\n",
       " 0.0]"
      ]
     },
     "execution_count": 122,
     "metadata": {},
     "output_type": "execute_result"
    }
   ],
   "source": [
    "X_test[0]"
   ]
  },
  {
   "cell_type": "code",
   "execution_count": 103,
   "metadata": {},
   "outputs": [
    {
     "data": {
      "text/plain": [
       "[0.0,\n",
       " 0.16843295939527933,\n",
       " 0,\n",
       " 0.010101010101010102,\n",
       " 0.0625,\n",
       " 0.25,\n",
       " 1.117975920350416,\n",
       " 0.65321326]"
      ]
     },
     "execution_count": 103,
     "metadata": {},
     "output_type": "execute_result"
    }
   ],
   "source": [
    "X_test[0]"
   ]
  },
  {
   "cell_type": "code",
   "execution_count": 104,
   "metadata": {},
   "outputs": [
    {
     "data": {
      "text/plain": [
       "{-1, 1}"
      ]
     },
     "execution_count": 104,
     "metadata": {},
     "output_type": "execute_result"
    }
   ],
   "source": [
    "set(y_test)"
   ]
  },
  {
   "cell_type": "markdown",
   "metadata": {},
   "source": [
    "#### Look at balanced of classes"
   ]
  },
  {
   "cell_type": "code",
   "execution_count": 13,
   "metadata": {},
   "outputs": [],
   "source": [
    "y_tr = pd.Series(y_training)"
   ]
  },
  {
   "cell_type": "code",
   "execution_count": 14,
   "metadata": {},
   "outputs": [
    {
     "data": {
      "text/plain": [
       "-1    146962\n",
       " 1       923\n",
       "dtype: int64"
      ]
     },
     "execution_count": 14,
     "metadata": {},
     "output_type": "execute_result"
    }
   ],
   "source": [
    "y_tr.value_counts()"
   ]
  },
  {
   "cell_type": "code",
   "execution_count": 15,
   "metadata": {},
   "outputs": [
    {
     "data": {
      "text/plain": [
       "0.006241336173377962"
      ]
     },
     "execution_count": 15,
     "metadata": {},
     "output_type": "execute_result"
    }
   ],
   "source": [
    "923/len(y_training)"
   ]
  },
  {
   "cell_type": "code",
   "execution_count": 16,
   "metadata": {},
   "outputs": [
    {
     "data": {
      "text/plain": [
       "-1    32179\n",
       " 1      231\n",
       "dtype: int64"
      ]
     },
     "execution_count": 16,
     "metadata": {},
     "output_type": "execute_result"
    }
   ],
   "source": [
    "y_ts = pd.Series(y_test)\n",
    "y_ts.value_counts()"
   ]
  },
  {
   "cell_type": "code",
   "execution_count": 17,
   "metadata": {},
   "outputs": [
    {
     "data": {
      "text/plain": [
       "0.007127429805615551"
      ]
     },
     "execution_count": 17,
     "metadata": {},
     "output_type": "execute_result"
    }
   ],
   "source": [
    "231/len(y_test)"
   ]
  },
  {
   "cell_type": "code",
   "execution_count": 18,
   "metadata": {},
   "outputs": [],
   "source": [
    "sum_wpos = sum( 1 for i in range(len(y_training)) if y_training[i] == 1.0  )\n",
    "sum_wneg = sum( 1 for i in range(len(y_training)) if y_training[i] == -1.0  )"
   ]
  },
  {
   "cell_type": "code",
   "execution_count": 19,
   "metadata": {},
   "outputs": [
    {
     "data": {
      "text/plain": [
       "146962"
      ]
     },
     "execution_count": 19,
     "metadata": {},
     "output_type": "execute_result"
    }
   ],
   "source": [
    "sum_wneg"
   ]
  },
  {
   "cell_type": "markdown",
   "metadata": {},
   "source": [
    "## Train"
   ]
  },
  {
   "cell_type": "markdown",
   "metadata": {},
   "source": [
    "### RF"
   ]
  },
  {
   "cell_type": "code",
   "execution_count": 123,
   "metadata": {},
   "outputs": [
    {
     "name": "stdout",
     "output_type": "stream",
     "text": [
      "Training the classifier\n"
     ]
    },
    {
     "name": "stderr",
     "output_type": "stream",
     "text": [
      "[Parallel(n_jobs=-1)]: Using backend ThreadingBackend with 12 concurrent workers.\n",
      "[Parallel(n_jobs=-1)]: Done  26 tasks      | elapsed:    2.0s\n",
      "[Parallel(n_jobs=-1)]: Done 176 tasks      | elapsed:   10.6s\n",
      "[Parallel(n_jobs=-1)]: Done 426 tasks      | elapsed:   25.2s\n",
      "[Parallel(n_jobs=-1)]: Done 776 tasks      | elapsed:   45.7s\n",
      "[Parallel(n_jobs=-1)]: Done 1000 out of 1000 | elapsed:   58.5s finished\n",
      "[Parallel(n_jobs=12)]: Using backend ThreadingBackend with 12 concurrent workers.\n",
      "[Parallel(n_jobs=12)]: Done  26 tasks      | elapsed:    0.0s\n"
     ]
    },
    {
     "name": "stdout",
     "output_type": "stream",
     "text": [
      "Time of fit: 58.94253444671631\n"
     ]
    },
    {
     "name": "stderr",
     "output_type": "stream",
     "text": [
      "[Parallel(n_jobs=12)]: Done 176 tasks      | elapsed:    0.1s\n",
      "[Parallel(n_jobs=12)]: Done 426 tasks      | elapsed:    0.3s\n",
      "[Parallel(n_jobs=12)]: Done 776 tasks      | elapsed:    0.5s\n",
      "[Parallel(n_jobs=12)]: Done 1000 out of 1000 | elapsed:    0.6s finished\n",
      "[Parallel(n_jobs=12)]: Using backend ThreadingBackend with 12 concurrent workers.\n",
      "[Parallel(n_jobs=12)]: Done  26 tasks      | elapsed:    0.1s\n",
      "[Parallel(n_jobs=12)]: Done 176 tasks      | elapsed:    0.4s\n",
      "[Parallel(n_jobs=12)]: Done 426 tasks      | elapsed:    0.9s\n",
      "[Parallel(n_jobs=12)]: Done 776 tasks      | elapsed:    1.7s\n"
     ]
    },
    {
     "name": "stdout",
     "output_type": "stream",
     "text": [
      "Time of prediction: 3.2429749965667725\n"
     ]
    },
    {
     "name": "stderr",
     "output_type": "stream",
     "text": [
      "[Parallel(n_jobs=12)]: Done 1000 out of 1000 | elapsed:    2.2s finished\n"
     ]
    }
   ],
   "source": [
    "print('Training the classifier')\n",
    "start_time = time.time()\n",
    "clf = ensemble.RandomForestClassifier(n_estimators=1000,verbose=True,n_jobs=-1)\n",
    "clf = clf.fit(X_training, y_training)\n",
    "print(f\"Time of fit: {time.time()-start_time}\")\n",
    "start_time = time.time()\n",
    "y_prediction = clf.predict(X_test)\n",
    "y_pred_train = clf.predict(X_training)\n",
    "print(f\"Time of prediction: {time.time()-start_time}\")"
   ]
  },
  {
   "cell_type": "code",
   "execution_count": 125,
   "metadata": {},
   "outputs": [
    {
     "data": {
      "text/plain": [
       "array([0.09661177, 0.10026853, 0.07010722, 0.01624012, 0.01915178,\n",
       "       0.09136614, 0.08223378, 0.03783819, 0.09495141, 0.09158937,\n",
       "       0.09194491, 0.07627548, 0.04469802, 0.08672328])"
      ]
     },
     "execution_count": 125,
     "metadata": {},
     "output_type": "execute_result"
    }
   ],
   "source": [
    "clf.feature_importances_"
   ]
  },
  {
   "cell_type": "code",
   "execution_count": 24,
   "metadata": {},
   "outputs": [
    {
     "data": {
      "text/plain": [
       "array([0.10567189, 0.11066879, 0.02007297, 0.09956031, 0.09023367,\n",
       "       0.03927619, 0.10588974, 0.10133567, 0.10174596, 0.08206379,\n",
       "       0.047983  , 0.09549802])"
      ]
     },
     "execution_count": 24,
     "metadata": {},
     "output_type": "execute_result"
    }
   ],
   "source": [
    "clf.feature_importances_"
   ]
  },
  {
   "cell_type": "code",
   "execution_count": 46,
   "metadata": {},
   "outputs": [
    {
     "data": {
      "text/plain": [
       "array([0.1595748 , 0.17167978, 0.02948181, 0.13758435, 0.12518599,\n",
       "       0.04893513, 0.16448418, 0.16307396])"
      ]
     },
     "execution_count": 46,
     "metadata": {},
     "output_type": "execute_result"
    }
   ],
   "source": [
    "clf.feature_importances_"
   ]
  },
  {
   "cell_type": "code",
   "execution_count": 126,
   "metadata": {},
   "outputs": [
    {
     "name": "stdout",
     "output_type": "stream",
     "text": [
      "Confusion matrix on train set\n",
      "[[146962      0]\n",
      " [     3    920]]\n"
     ]
    }
   ],
   "source": [
    "conf_mat = confusion_matrix(y_training, y_pred_train)\n",
    "print('Confusion matrix on train set')\n",
    "print(conf_mat)"
   ]
  },
  {
   "cell_type": "code",
   "execution_count": 127,
   "metadata": {},
   "outputs": [
    {
     "name": "stdout",
     "output_type": "stream",
     "text": [
      "Confusion matrix on test set\n",
      "[[32169    10]\n",
      " [  227     4]]\n"
     ]
    }
   ],
   "source": [
    "#all\n",
    "conf_mat = confusion_matrix(y_test, y_prediction)\n",
    "print('Confusion matrix on test set')\n",
    "print(conf_mat)"
   ]
  },
  {
   "cell_type": "code",
   "execution_count": 26,
   "metadata": {},
   "outputs": [
    {
     "name": "stdout",
     "output_type": "stream",
     "text": [
      "Confusion matrix on test set\n",
      "[[32167    12]\n",
      " [  227     4]]\n"
     ]
    }
   ],
   "source": [
    "conf_mat = confusion_matrix(y_test, y_prediction)\n",
    "print('Confusion matrix on test set')\n",
    "print(conf_mat)"
   ]
  },
  {
   "cell_type": "code",
   "execution_count": 106,
   "metadata": {},
   "outputs": [
    {
     "name": "stdout",
     "output_type": "stream",
     "text": [
      "Confusion matrix on test set\n",
      "[[32171     8]\n",
      " [  229     2]]\n"
     ]
    }
   ],
   "source": [
    "conf_mat = confusion_matrix(y_test, y_prediction)\n",
    "print('Confusion matrix on test set')\n",
    "print(conf_mat)"
   ]
  },
  {
   "cell_type": "code",
   "execution_count": 19,
   "metadata": {
    "scrolled": true
   },
   "outputs": [
    {
     "data": {
      "text/plain": [
       "array([0.24051745, 0.32530681, 0.03390778, 0.18367122, 0.16302121,\n",
       "       0.05357554])"
      ]
     },
     "execution_count": 19,
     "metadata": {},
     "output_type": "execute_result"
    }
   ],
   "source": [
    "clf.feature_importances_"
   ]
  },
  {
   "cell_type": "markdown",
   "metadata": {},
   "source": [
    "### SVM"
   ]
  },
  {
   "cell_type": "code",
   "execution_count": 63,
   "metadata": {},
   "outputs": [
    {
     "name": "stdout",
     "output_type": "stream",
     "text": [
      "Training the classifier\n"
     ]
    },
    {
     "name": "stderr",
     "output_type": "stream",
     "text": [
      "/home/andrey/anaconda3/lib/python3.7/site-packages/sklearn/svm/base.py:193: FutureWarning: The default value of gamma will change from 'auto' to 'scale' in version 0.22 to account better for unscaled features. Set gamma explicitly to 'auto' or 'scale' to avoid this warning.\n",
      "  \"avoid this warning.\", FutureWarning)\n"
     ]
    },
    {
     "name": "stdout",
     "output_type": "stream",
     "text": [
      "Time of fit: 1451.1102449893951\n",
      "Time of prediction: 6.75842547416687\n"
     ]
    }
   ],
   "source": [
    "print('Training the classifier')\n",
    "start_time = time.time()\n",
    "clf = svm.SVC(kernel='rbf',probability=True,class_weight={1: 10},tol=1e-3)# class_weight={1: 10}, kernel='polynomial'\n",
    "clf = clf.fit(np.array(X_training), np.array(y_training))\n",
    "print(f\"Time of fit: {time.time()-start_time}\")\n",
    "start_time = time.time()\n",
    "y_prediction = clf.predict(np.array(X_test))\n",
    "print(f\"Time of prediction: {time.time()-start_time}\")"
   ]
  },
  {
   "cell_type": "code",
   "execution_count": 48,
   "metadata": {},
   "outputs": [
    {
     "name": "stdout",
     "output_type": "stream",
     "text": [
      "Confusion matrix on test set\n",
      "[[32173     6]\n",
      " [  231     0]]\n"
     ]
    }
   ],
   "source": [
    "conf_mat = confusion_matrix(y_test, y_prediction)\n",
    "print('Confusion matrix on test set')\n",
    "print(conf_mat)"
   ]
  },
  {
   "cell_type": "code",
   "execution_count": 64,
   "metadata": {},
   "outputs": [
    {
     "name": "stdout",
     "output_type": "stream",
     "text": [
      "Confusion matrix on test set\n",
      "[[32048   131]\n",
      " [  211    20]]\n"
     ]
    }
   ],
   "source": [
    "# kernel='rbf',probability=True,class_weight={1: 10}\n",
    "conf_mat = confusion_matrix(y_test, y_prediction)\n",
    "print('Confusion matrix on test set')\n",
    "print(conf_mat)"
   ]
  },
  {
   "cell_type": "markdown",
   "metadata": {},
   "source": [
    "### XGBoost"
   ]
  },
  {
   "cell_type": "code",
   "execution_count": 217,
   "metadata": {},
   "outputs": [
    {
     "name": "stdout",
     "output_type": "stream",
     "text": [
      "Training the classifier\n",
      "Time of fit: 7.5019166469573975\n",
      "Time of prediction: 0.1635732650756836\n"
     ]
    }
   ],
   "source": [
    "print('Training the classifier')\n",
    "start_time = time.time()\n",
    "clf = xgb.XGBClassifier(n_estimators=100,early_stopping_rounds=10,\n",
    "                        eval_set=[(X_test, y_test)])\n",
    "#                         objective='binary:hinge'\n",
    "clf = clf.fit(np.array(X_training), np.array(y_training) )\n",
    "print(f\"Time of fit: {time.time()-start_time}\")\n",
    "start_time = time.time()\n",
    "y_prediction = clf.predict(X_test)\n",
    "print(f\"Time of prediction: {time.time()-start_time}\")"
   ]
  },
  {
   "cell_type": "code",
   "execution_count": 218,
   "metadata": {},
   "outputs": [
    {
     "name": "stdout",
     "output_type": "stream",
     "text": [
      "Confusion matrix on test set\n",
      "[[32173     6]\n",
      " [  228     3]]\n"
     ]
    }
   ],
   "source": [
    "#all\n",
    "conf_mat = confusion_matrix(y_test, y_prediction)\n",
    "print('Confusion matrix on test set')\n",
    "print(conf_mat)"
   ]
  },
  {
   "cell_type": "code",
   "execution_count": 28,
   "metadata": {},
   "outputs": [
    {
     "name": "stdout",
     "output_type": "stream",
     "text": [
      "Confusion matrix on test set\n",
      "[[32170     9]\n",
      " [  228     3]]\n"
     ]
    }
   ],
   "source": [
    "conf_mat = confusion_matrix(y_test, y_prediction)\n",
    "print('Confusion matrix on test set')\n",
    "print(conf_mat)"
   ]
  },
  {
   "cell_type": "code",
   "execution_count": 59,
   "metadata": {
    "scrolled": true
   },
   "outputs": [
    {
     "name": "stdout",
     "output_type": "stream",
     "text": [
      "Confusion matrix on test set\n",
      "[[32175     4]\n",
      " [  230     1]]\n"
     ]
    }
   ],
   "source": [
    "conf_mat = confusion_matrix(y_test, y_prediction)\n",
    "print('Confusion matrix on test set')\n",
    "print(conf_mat)"
   ]
  },
  {
   "cell_type": "markdown",
   "metadata": {},
   "source": [
    "### CatBoost"
   ]
  },
  {
   "cell_type": "code",
   "execution_count": 200,
   "metadata": {},
   "outputs": [
    {
     "name": "stdout",
     "output_type": "stream",
     "text": [
      "Training the classifier\n",
      "0:\tlearn: 0.4471809\ttotal: 15.1ms\tremaining: 15.1s\n",
      "1:\tlearn: 0.2930305\ttotal: 31.2ms\tremaining: 15.5s\n",
      "2:\tlearn: 0.2012458\ttotal: 47.4ms\tremaining: 15.8s\n",
      "3:\tlearn: 0.1440891\ttotal: 65.1ms\tremaining: 16.2s\n",
      "4:\tlearn: 0.1079130\ttotal: 82.1ms\tremaining: 16.3s\n",
      "5:\tlearn: 0.0848382\ttotal: 103ms\tremaining: 17.1s\n",
      "6:\tlearn: 0.0693590\ttotal: 120ms\tremaining: 17s\n",
      "7:\tlearn: 0.0582994\ttotal: 150ms\tremaining: 18.6s\n",
      "8:\tlearn: 0.0511471\ttotal: 182ms\tremaining: 20.1s\n",
      "9:\tlearn: 0.0460086\ttotal: 199ms\tremaining: 19.7s\n",
      "10:\tlearn: 0.0421718\ttotal: 225ms\tremaining: 20.3s\n",
      "11:\tlearn: 0.0395404\ttotal: 247ms\tremaining: 20.4s\n",
      "12:\tlearn: 0.0374653\ttotal: 264ms\tremaining: 20s\n",
      "13:\tlearn: 0.0359406\ttotal: 281ms\tremaining: 19.8s\n",
      "14:\tlearn: 0.0347300\ttotal: 297ms\tremaining: 19.5s\n",
      "15:\tlearn: 0.0337293\ttotal: 321ms\tremaining: 19.7s\n",
      "16:\tlearn: 0.0330433\ttotal: 344ms\tremaining: 19.9s\n",
      "17:\tlearn: 0.0324910\ttotal: 376ms\tremaining: 20.5s\n",
      "18:\tlearn: 0.0319936\ttotal: 396ms\tremaining: 20.4s\n",
      "19:\tlearn: 0.0316394\ttotal: 412ms\tremaining: 20.2s\n",
      "20:\tlearn: 0.0312710\ttotal: 429ms\tremaining: 20s\n",
      "21:\tlearn: 0.0311116\ttotal: 445ms\tremaining: 19.8s\n",
      "22:\tlearn: 0.0309122\ttotal: 463ms\tremaining: 19.7s\n",
      "23:\tlearn: 0.0307471\ttotal: 482ms\tremaining: 19.6s\n",
      "24:\tlearn: 0.0306442\ttotal: 499ms\tremaining: 19.4s\n",
      "25:\tlearn: 0.0305416\ttotal: 516ms\tremaining: 19.3s\n",
      "26:\tlearn: 0.0304519\ttotal: 532ms\tremaining: 19.2s\n",
      "27:\tlearn: 0.0303247\ttotal: 549ms\tremaining: 19.1s\n",
      "28:\tlearn: 0.0301528\ttotal: 568ms\tremaining: 19s\n",
      "29:\tlearn: 0.0300307\ttotal: 598ms\tremaining: 19.3s\n",
      "30:\tlearn: 0.0299322\ttotal: 619ms\tremaining: 19.3s\n",
      "31:\tlearn: 0.0298456\ttotal: 637ms\tremaining: 19.3s\n",
      "32:\tlearn: 0.0297378\ttotal: 655ms\tremaining: 19.2s\n",
      "33:\tlearn: 0.0296567\ttotal: 671ms\tremaining: 19.1s\n",
      "34:\tlearn: 0.0295715\ttotal: 687ms\tremaining: 19s\n",
      "35:\tlearn: 0.0294730\ttotal: 704ms\tremaining: 18.9s\n",
      "36:\tlearn: 0.0294224\ttotal: 719ms\tremaining: 18.7s\n",
      "37:\tlearn: 0.0293540\ttotal: 736ms\tremaining: 18.6s\n",
      "38:\tlearn: 0.0292970\ttotal: 752ms\tremaining: 18.5s\n",
      "39:\tlearn: 0.0292342\ttotal: 768ms\tremaining: 18.4s\n",
      "40:\tlearn: 0.0291722\ttotal: 784ms\tremaining: 18.3s\n",
      "41:\tlearn: 0.0291421\ttotal: 806ms\tremaining: 18.4s\n",
      "42:\tlearn: 0.0290768\ttotal: 835ms\tremaining: 18.6s\n",
      "43:\tlearn: 0.0290459\ttotal: 851ms\tremaining: 18.5s\n",
      "44:\tlearn: 0.0289511\ttotal: 868ms\tremaining: 18.4s\n",
      "45:\tlearn: 0.0288978\ttotal: 884ms\tremaining: 18.3s\n",
      "46:\tlearn: 0.0288473\ttotal: 901ms\tremaining: 18.3s\n",
      "47:\tlearn: 0.0288021\ttotal: 916ms\tremaining: 18.2s\n",
      "48:\tlearn: 0.0287562\ttotal: 937ms\tremaining: 18.2s\n",
      "49:\tlearn: 0.0286885\ttotal: 953ms\tremaining: 18.1s\n",
      "50:\tlearn: 0.0286433\ttotal: 968ms\tremaining: 18s\n",
      "51:\tlearn: 0.0286048\ttotal: 985ms\tremaining: 18s\n",
      "52:\tlearn: 0.0285558\ttotal: 1.01s\tremaining: 18s\n",
      "53:\tlearn: 0.0285175\ttotal: 1.04s\tremaining: 18.2s\n",
      "54:\tlearn: 0.0284730\ttotal: 1.06s\tremaining: 18.3s\n",
      "55:\tlearn: 0.0284324\ttotal: 1.08s\tremaining: 18.2s\n",
      "56:\tlearn: 0.0283896\ttotal: 1.09s\tremaining: 18.1s\n",
      "57:\tlearn: 0.0283584\ttotal: 1.11s\tremaining: 18.1s\n",
      "58:\tlearn: 0.0283219\ttotal: 1.14s\tremaining: 18.1s\n",
      "59:\tlearn: 0.0282873\ttotal: 1.15s\tremaining: 18.1s\n",
      "60:\tlearn: 0.0282393\ttotal: 1.17s\tremaining: 18s\n",
      "61:\tlearn: 0.0281928\ttotal: 1.19s\tremaining: 18s\n",
      "62:\tlearn: 0.0281629\ttotal: 1.2s\tremaining: 17.9s\n",
      "63:\tlearn: 0.0281238\ttotal: 1.24s\tremaining: 18.1s\n",
      "64:\tlearn: 0.0280832\ttotal: 1.27s\tremaining: 18.2s\n",
      "65:\tlearn: 0.0280379\ttotal: 1.28s\tremaining: 18.2s\n",
      "66:\tlearn: 0.0280049\ttotal: 1.3s\tremaining: 18.1s\n",
      "67:\tlearn: 0.0279635\ttotal: 1.32s\tremaining: 18.1s\n",
      "68:\tlearn: 0.0279334\ttotal: 1.34s\tremaining: 18s\n",
      "69:\tlearn: 0.0278878\ttotal: 1.35s\tremaining: 18s\n",
      "70:\tlearn: 0.0278456\ttotal: 1.37s\tremaining: 17.9s\n",
      "71:\tlearn: 0.0278149\ttotal: 1.39s\tremaining: 17.9s\n",
      "72:\tlearn: 0.0277788\ttotal: 1.4s\tremaining: 17.8s\n",
      "73:\tlearn: 0.0277282\ttotal: 1.43s\tremaining: 17.9s\n",
      "74:\tlearn: 0.0277055\ttotal: 1.45s\tremaining: 17.9s\n",
      "75:\tlearn: 0.0276820\ttotal: 1.48s\tremaining: 18s\n",
      "76:\tlearn: 0.0276528\ttotal: 1.5s\tremaining: 18s\n",
      "77:\tlearn: 0.0276057\ttotal: 1.51s\tremaining: 17.9s\n",
      "78:\tlearn: 0.0275848\ttotal: 1.53s\tremaining: 17.9s\n",
      "79:\tlearn: 0.0275563\ttotal: 1.55s\tremaining: 17.9s\n",
      "80:\tlearn: 0.0275264\ttotal: 1.57s\tremaining: 17.8s\n",
      "81:\tlearn: 0.0274955\ttotal: 1.59s\tremaining: 17.8s\n",
      "82:\tlearn: 0.0274550\ttotal: 1.6s\tremaining: 17.7s\n",
      "83:\tlearn: 0.0274372\ttotal: 1.63s\tremaining: 17.8s\n",
      "84:\tlearn: 0.0273948\ttotal: 1.67s\tremaining: 18s\n",
      "85:\tlearn: 0.0273610\ttotal: 1.7s\tremaining: 18.1s\n",
      "86:\tlearn: 0.0273316\ttotal: 1.74s\tremaining: 18.3s\n",
      "87:\tlearn: 0.0273131\ttotal: 1.76s\tremaining: 18.3s\n",
      "88:\tlearn: 0.0272777\ttotal: 1.78s\tremaining: 18.2s\n",
      "89:\tlearn: 0.0272261\ttotal: 1.8s\tremaining: 18.2s\n",
      "90:\tlearn: 0.0271913\ttotal: 1.81s\tremaining: 18.1s\n",
      "91:\tlearn: 0.0271550\ttotal: 1.83s\tremaining: 18.1s\n",
      "92:\tlearn: 0.0271247\ttotal: 1.85s\tremaining: 18s\n",
      "93:\tlearn: 0.0270964\ttotal: 1.86s\tremaining: 18s\n",
      "94:\tlearn: 0.0270543\ttotal: 1.89s\tremaining: 18s\n",
      "95:\tlearn: 0.0270311\ttotal: 1.92s\tremaining: 18.1s\n",
      "96:\tlearn: 0.0270148\ttotal: 1.93s\tremaining: 18s\n",
      "97:\tlearn: 0.0269881\ttotal: 1.95s\tremaining: 17.9s\n",
      "98:\tlearn: 0.0269385\ttotal: 1.97s\tremaining: 18s\n",
      "99:\tlearn: 0.0268966\ttotal: 1.99s\tremaining: 17.9s\n",
      "100:\tlearn: 0.0268685\ttotal: 2.01s\tremaining: 17.9s\n",
      "101:\tlearn: 0.0268532\ttotal: 2.03s\tremaining: 17.9s\n",
      "102:\tlearn: 0.0268216\ttotal: 2.05s\tremaining: 17.8s\n",
      "103:\tlearn: 0.0267895\ttotal: 2.06s\tremaining: 17.8s\n",
      "104:\tlearn: 0.0267649\ttotal: 2.08s\tremaining: 17.7s\n",
      "105:\tlearn: 0.0267473\ttotal: 2.1s\tremaining: 17.7s\n",
      "106:\tlearn: 0.0267392\ttotal: 2.13s\tremaining: 17.8s\n",
      "107:\tlearn: 0.0267081\ttotal: 2.15s\tremaining: 17.7s\n",
      "108:\tlearn: 0.0266992\ttotal: 2.18s\tremaining: 17.8s\n",
      "109:\tlearn: 0.0266787\ttotal: 2.2s\tremaining: 17.8s\n",
      "110:\tlearn: 0.0266400\ttotal: 2.21s\tremaining: 17.7s\n",
      "111:\tlearn: 0.0266181\ttotal: 2.23s\tremaining: 17.7s\n",
      "112:\tlearn: 0.0265747\ttotal: 2.25s\tremaining: 17.6s\n",
      "113:\tlearn: 0.0265518\ttotal: 2.27s\tremaining: 17.6s\n",
      "114:\tlearn: 0.0265227\ttotal: 2.28s\tremaining: 17.6s\n",
      "115:\tlearn: 0.0265098\ttotal: 2.3s\tremaining: 17.5s\n",
      "116:\tlearn: 0.0264885\ttotal: 2.33s\tremaining: 17.6s\n",
      "117:\tlearn: 0.0264466\ttotal: 2.34s\tremaining: 17.5s\n",
      "118:\tlearn: 0.0264311\ttotal: 2.36s\tremaining: 17.5s\n",
      "119:\tlearn: 0.0264102\ttotal: 2.38s\tremaining: 17.4s\n",
      "120:\tlearn: 0.0263741\ttotal: 2.4s\tremaining: 17.4s\n",
      "121:\tlearn: 0.0263599\ttotal: 2.41s\tremaining: 17.4s\n",
      "122:\tlearn: 0.0263313\ttotal: 2.43s\tremaining: 17.3s\n",
      "123:\tlearn: 0.0262848\ttotal: 2.45s\tremaining: 17.3s\n",
      "124:\tlearn: 0.0262684\ttotal: 2.47s\tremaining: 17.3s\n",
      "125:\tlearn: 0.0262493\ttotal: 2.48s\tremaining: 17.2s\n",
      "126:\tlearn: 0.0262254\ttotal: 2.51s\tremaining: 17.3s\n",
      "127:\tlearn: 0.0261835\ttotal: 2.53s\tremaining: 17.3s\n",
      "128:\tlearn: 0.0261712\ttotal: 2.55s\tremaining: 17.2s\n",
      "129:\tlearn: 0.0261501\ttotal: 2.56s\tremaining: 17.2s\n",
      "130:\tlearn: 0.0261361\ttotal: 2.58s\tremaining: 17.1s\n",
      "131:\tlearn: 0.0261093\ttotal: 2.6s\tremaining: 17.1s\n",
      "132:\tlearn: 0.0260709\ttotal: 2.62s\tremaining: 17.1s\n",
      "133:\tlearn: 0.0260481\ttotal: 2.63s\tremaining: 17s\n",
      "134:\tlearn: 0.0260279\ttotal: 2.65s\tremaining: 17s\n",
      "135:\tlearn: 0.0259949\ttotal: 2.66s\tremaining: 16.9s\n",
      "136:\tlearn: 0.0259625\ttotal: 2.68s\tremaining: 16.9s\n",
      "137:\tlearn: 0.0259103\ttotal: 2.7s\tremaining: 16.8s\n",
      "138:\tlearn: 0.0258854\ttotal: 2.72s\tremaining: 16.9s\n",
      "139:\tlearn: 0.0258426\ttotal: 2.75s\tremaining: 16.9s\n",
      "140:\tlearn: 0.0258064\ttotal: 2.77s\tremaining: 16.8s\n",
      "141:\tlearn: 0.0257950\ttotal: 2.78s\tremaining: 16.8s\n",
      "142:\tlearn: 0.0257859\ttotal: 2.8s\tremaining: 16.8s\n",
      "143:\tlearn: 0.0257446\ttotal: 2.82s\tremaining: 16.7s\n",
      "144:\tlearn: 0.0257130\ttotal: 2.83s\tremaining: 16.7s\n",
      "145:\tlearn: 0.0256934\ttotal: 2.85s\tremaining: 16.7s\n",
      "146:\tlearn: 0.0256584\ttotal: 2.87s\tremaining: 16.6s\n",
      "147:\tlearn: 0.0256265\ttotal: 2.88s\tremaining: 16.6s\n",
      "148:\tlearn: 0.0256038\ttotal: 2.9s\tremaining: 16.6s\n",
      "149:\tlearn: 0.0255985\ttotal: 2.92s\tremaining: 16.5s\n",
      "150:\tlearn: 0.0255443\ttotal: 2.95s\tremaining: 16.6s\n",
      "151:\tlearn: 0.0255106\ttotal: 2.96s\tremaining: 16.5s\n",
      "152:\tlearn: 0.0255012\ttotal: 2.98s\tremaining: 16.5s\n",
      "153:\tlearn: 0.0254671\ttotal: 3s\tremaining: 16.5s\n",
      "154:\tlearn: 0.0254498\ttotal: 3.01s\tremaining: 16.4s\n",
      "155:\tlearn: 0.0254227\ttotal: 3.03s\tremaining: 16.4s\n",
      "156:\tlearn: 0.0253928\ttotal: 3.04s\tremaining: 16.3s\n",
      "157:\tlearn: 0.0253812\ttotal: 3.06s\tremaining: 16.3s\n",
      "158:\tlearn: 0.0253708\ttotal: 3.07s\tremaining: 16.3s\n",
      "159:\tlearn: 0.0253555\ttotal: 3.09s\tremaining: 16.2s\n",
      "160:\tlearn: 0.0253426\ttotal: 3.11s\tremaining: 16.2s\n",
      "161:\tlearn: 0.0253222\ttotal: 3.12s\tremaining: 16.2s\n",
      "162:\tlearn: 0.0252784\ttotal: 3.14s\tremaining: 16.1s\n"
     ]
    },
    {
     "name": "stdout",
     "output_type": "stream",
     "text": [
      "163:\tlearn: 0.0252564\ttotal: 3.17s\tremaining: 16.2s\n",
      "164:\tlearn: 0.0252246\ttotal: 3.19s\tremaining: 16.1s\n",
      "165:\tlearn: 0.0252153\ttotal: 3.2s\tremaining: 16.1s\n",
      "166:\tlearn: 0.0251782\ttotal: 3.22s\tremaining: 16.1s\n",
      "167:\tlearn: 0.0251577\ttotal: 3.24s\tremaining: 16s\n",
      "168:\tlearn: 0.0251294\ttotal: 3.27s\tremaining: 16.1s\n",
      "169:\tlearn: 0.0251128\ttotal: 3.3s\tremaining: 16.1s\n",
      "170:\tlearn: 0.0250771\ttotal: 3.33s\tremaining: 16.1s\n",
      "171:\tlearn: 0.0250624\ttotal: 3.35s\tremaining: 16.1s\n",
      "172:\tlearn: 0.0250540\ttotal: 3.38s\tremaining: 16.2s\n",
      "173:\tlearn: 0.0250439\ttotal: 3.41s\tremaining: 16.2s\n",
      "174:\tlearn: 0.0250286\ttotal: 3.43s\tremaining: 16.2s\n",
      "175:\tlearn: 0.0250202\ttotal: 3.46s\tremaining: 16.2s\n",
      "176:\tlearn: 0.0249718\ttotal: 3.49s\tremaining: 16.2s\n",
      "177:\tlearn: 0.0249689\ttotal: 3.52s\tremaining: 16.3s\n",
      "178:\tlearn: 0.0249524\ttotal: 3.55s\tremaining: 16.3s\n",
      "179:\tlearn: 0.0249437\ttotal: 3.58s\tremaining: 16.3s\n",
      "180:\tlearn: 0.0249167\ttotal: 3.61s\tremaining: 16.3s\n",
      "181:\tlearn: 0.0248876\ttotal: 3.64s\tremaining: 16.4s\n",
      "182:\tlearn: 0.0248584\ttotal: 3.67s\tremaining: 16.4s\n",
      "183:\tlearn: 0.0248166\ttotal: 3.69s\tremaining: 16.4s\n",
      "184:\tlearn: 0.0247904\ttotal: 3.73s\tremaining: 16.4s\n",
      "185:\tlearn: 0.0247655\ttotal: 3.75s\tremaining: 16.4s\n",
      "186:\tlearn: 0.0247540\ttotal: 3.78s\tremaining: 16.4s\n",
      "187:\tlearn: 0.0247292\ttotal: 3.8s\tremaining: 16.4s\n",
      "188:\tlearn: 0.0247032\ttotal: 3.83s\tremaining: 16.4s\n",
      "189:\tlearn: 0.0246954\ttotal: 3.86s\tremaining: 16.4s\n",
      "190:\tlearn: 0.0246574\ttotal: 3.89s\tremaining: 16.5s\n",
      "191:\tlearn: 0.0246302\ttotal: 3.92s\tremaining: 16.5s\n",
      "192:\tlearn: 0.0246136\ttotal: 3.95s\tremaining: 16.5s\n",
      "193:\tlearn: 0.0246114\ttotal: 3.98s\tremaining: 16.5s\n",
      "194:\tlearn: 0.0245832\ttotal: 4.01s\tremaining: 16.5s\n",
      "195:\tlearn: 0.0245772\ttotal: 4.05s\tremaining: 16.6s\n",
      "196:\tlearn: 0.0245728\ttotal: 4.08s\tremaining: 16.6s\n",
      "197:\tlearn: 0.0245606\ttotal: 4.1s\tremaining: 16.6s\n",
      "198:\tlearn: 0.0245408\ttotal: 4.12s\tremaining: 16.6s\n",
      "199:\tlearn: 0.0245127\ttotal: 4.14s\tremaining: 16.6s\n",
      "200:\tlearn: 0.0244815\ttotal: 4.16s\tremaining: 16.5s\n",
      "201:\tlearn: 0.0244387\ttotal: 4.18s\tremaining: 16.5s\n",
      "202:\tlearn: 0.0244259\ttotal: 4.19s\tremaining: 16.5s\n",
      "203:\tlearn: 0.0244048\ttotal: 4.21s\tremaining: 16.4s\n",
      "204:\tlearn: 0.0243704\ttotal: 4.22s\tremaining: 16.4s\n",
      "205:\tlearn: 0.0243459\ttotal: 4.24s\tremaining: 16.4s\n",
      "206:\tlearn: 0.0243423\ttotal: 4.26s\tremaining: 16.3s\n",
      "207:\tlearn: 0.0243215\ttotal: 4.28s\tremaining: 16.3s\n",
      "208:\tlearn: 0.0242994\ttotal: 4.3s\tremaining: 16.3s\n",
      "209:\tlearn: 0.0242717\ttotal: 4.32s\tremaining: 16.3s\n",
      "210:\tlearn: 0.0242636\ttotal: 4.34s\tremaining: 16.2s\n",
      "211:\tlearn: 0.0242383\ttotal: 4.36s\tremaining: 16.2s\n",
      "212:\tlearn: 0.0242304\ttotal: 4.37s\tremaining: 16.2s\n",
      "213:\tlearn: 0.0242148\ttotal: 4.39s\tremaining: 16.1s\n",
      "214:\tlearn: 0.0242039\ttotal: 4.4s\tremaining: 16.1s\n",
      "215:\tlearn: 0.0241848\ttotal: 4.42s\tremaining: 16.1s\n",
      "216:\tlearn: 0.0241377\ttotal: 4.44s\tremaining: 16s\n",
      "217:\tlearn: 0.0240886\ttotal: 4.46s\tremaining: 16s\n",
      "218:\tlearn: 0.0240610\ttotal: 4.49s\tremaining: 16s\n",
      "219:\tlearn: 0.0240332\ttotal: 4.51s\tremaining: 16s\n",
      "220:\tlearn: 0.0240125\ttotal: 4.52s\tremaining: 15.9s\n",
      "221:\tlearn: 0.0239949\ttotal: 4.54s\tremaining: 15.9s\n",
      "222:\tlearn: 0.0239688\ttotal: 4.56s\tremaining: 15.9s\n",
      "223:\tlearn: 0.0239568\ttotal: 4.57s\tremaining: 15.8s\n",
      "224:\tlearn: 0.0239343\ttotal: 4.59s\tremaining: 15.8s\n",
      "225:\tlearn: 0.0239116\ttotal: 4.61s\tremaining: 15.8s\n",
      "226:\tlearn: 0.0238909\ttotal: 4.63s\tremaining: 15.8s\n",
      "227:\tlearn: 0.0238788\ttotal: 4.64s\tremaining: 15.7s\n",
      "228:\tlearn: 0.0238532\ttotal: 4.66s\tremaining: 15.7s\n",
      "229:\tlearn: 0.0238179\ttotal: 4.68s\tremaining: 15.7s\n",
      "230:\tlearn: 0.0237855\ttotal: 4.7s\tremaining: 15.6s\n",
      "231:\tlearn: 0.0237594\ttotal: 4.72s\tremaining: 15.6s\n",
      "232:\tlearn: 0.0237250\ttotal: 4.74s\tremaining: 15.6s\n",
      "233:\tlearn: 0.0236977\ttotal: 4.76s\tremaining: 15.6s\n",
      "234:\tlearn: 0.0236908\ttotal: 4.77s\tremaining: 15.5s\n",
      "235:\tlearn: 0.0236853\ttotal: 4.79s\tremaining: 15.5s\n",
      "236:\tlearn: 0.0236794\ttotal: 4.81s\tremaining: 15.5s\n",
      "237:\tlearn: 0.0236616\ttotal: 4.82s\tremaining: 15.4s\n",
      "238:\tlearn: 0.0236587\ttotal: 4.84s\tremaining: 15.4s\n",
      "239:\tlearn: 0.0236344\ttotal: 4.86s\tremaining: 15.4s\n",
      "240:\tlearn: 0.0236191\ttotal: 4.87s\tremaining: 15.3s\n",
      "241:\tlearn: 0.0236054\ttotal: 4.89s\tremaining: 15.3s\n",
      "242:\tlearn: 0.0235854\ttotal: 4.92s\tremaining: 15.3s\n",
      "243:\tlearn: 0.0235721\ttotal: 4.94s\tremaining: 15.3s\n",
      "244:\tlearn: 0.0235622\ttotal: 4.97s\tremaining: 15.3s\n",
      "245:\tlearn: 0.0235530\ttotal: 4.98s\tremaining: 15.3s\n",
      "246:\tlearn: 0.0235375\ttotal: 5s\tremaining: 15.2s\n",
      "247:\tlearn: 0.0235061\ttotal: 5.02s\tremaining: 15.2s\n",
      "248:\tlearn: 0.0234645\ttotal: 5.04s\tremaining: 15.2s\n",
      "249:\tlearn: 0.0234260\ttotal: 5.06s\tremaining: 15.2s\n",
      "250:\tlearn: 0.0233970\ttotal: 5.09s\tremaining: 15.2s\n",
      "251:\tlearn: 0.0233902\ttotal: 5.11s\tremaining: 15.2s\n",
      "252:\tlearn: 0.0233691\ttotal: 5.12s\tremaining: 15.1s\n",
      "253:\tlearn: 0.0233461\ttotal: 5.15s\tremaining: 15.1s\n",
      "254:\tlearn: 0.0233190\ttotal: 5.17s\tremaining: 15.1s\n",
      "255:\tlearn: 0.0232906\ttotal: 5.19s\tremaining: 15.1s\n",
      "256:\tlearn: 0.0232564\ttotal: 5.21s\tremaining: 15.1s\n",
      "257:\tlearn: 0.0232317\ttotal: 5.23s\tremaining: 15s\n",
      "258:\tlearn: 0.0232036\ttotal: 5.25s\tremaining: 15s\n",
      "259:\tlearn: 0.0231788\ttotal: 5.26s\tremaining: 15s\n",
      "260:\tlearn: 0.0231518\ttotal: 5.28s\tremaining: 15s\n",
      "261:\tlearn: 0.0231469\ttotal: 5.3s\tremaining: 14.9s\n",
      "262:\tlearn: 0.0231265\ttotal: 5.32s\tremaining: 14.9s\n",
      "263:\tlearn: 0.0231024\ttotal: 5.36s\tremaining: 14.9s\n",
      "264:\tlearn: 0.0230755\ttotal: 5.38s\tremaining: 14.9s\n",
      "265:\tlearn: 0.0230616\ttotal: 5.39s\tremaining: 14.9s\n",
      "266:\tlearn: 0.0230426\ttotal: 5.41s\tremaining: 14.9s\n",
      "267:\tlearn: 0.0230220\ttotal: 5.43s\tremaining: 14.8s\n",
      "268:\tlearn: 0.0230143\ttotal: 5.45s\tremaining: 14.8s\n",
      "269:\tlearn: 0.0229937\ttotal: 5.47s\tremaining: 14.8s\n",
      "270:\tlearn: 0.0229791\ttotal: 5.49s\tremaining: 14.8s\n",
      "271:\tlearn: 0.0229539\ttotal: 5.51s\tremaining: 14.7s\n",
      "272:\tlearn: 0.0229349\ttotal: 5.54s\tremaining: 14.8s\n",
      "273:\tlearn: 0.0229113\ttotal: 5.56s\tremaining: 14.7s\n",
      "274:\tlearn: 0.0228835\ttotal: 5.59s\tremaining: 14.7s\n",
      "275:\tlearn: 0.0228770\ttotal: 5.61s\tremaining: 14.7s\n",
      "276:\tlearn: 0.0228663\ttotal: 5.62s\tremaining: 14.7s\n",
      "277:\tlearn: 0.0228575\ttotal: 5.64s\tremaining: 14.7s\n",
      "278:\tlearn: 0.0228332\ttotal: 5.66s\tremaining: 14.6s\n",
      "279:\tlearn: 0.0228283\ttotal: 5.68s\tremaining: 14.6s\n",
      "280:\tlearn: 0.0227920\ttotal: 5.7s\tremaining: 14.6s\n",
      "281:\tlearn: 0.0227745\ttotal: 5.71s\tremaining: 14.5s\n",
      "282:\tlearn: 0.0227509\ttotal: 5.73s\tremaining: 14.5s\n",
      "283:\tlearn: 0.0227322\ttotal: 5.75s\tremaining: 14.5s\n",
      "284:\tlearn: 0.0227082\ttotal: 5.76s\tremaining: 14.5s\n",
      "285:\tlearn: 0.0226925\ttotal: 5.79s\tremaining: 14.5s\n",
      "286:\tlearn: 0.0226762\ttotal: 5.81s\tremaining: 14.4s\n",
      "287:\tlearn: 0.0226564\ttotal: 5.82s\tremaining: 14.4s\n",
      "288:\tlearn: 0.0226373\ttotal: 5.84s\tremaining: 14.4s\n",
      "289:\tlearn: 0.0225987\ttotal: 5.86s\tremaining: 14.4s\n",
      "290:\tlearn: 0.0225744\ttotal: 5.88s\tremaining: 14.3s\n",
      "291:\tlearn: 0.0225392\ttotal: 5.9s\tremaining: 14.3s\n",
      "292:\tlearn: 0.0225163\ttotal: 5.91s\tremaining: 14.3s\n",
      "293:\tlearn: 0.0225008\ttotal: 5.93s\tremaining: 14.2s\n",
      "294:\tlearn: 0.0224793\ttotal: 5.95s\tremaining: 14.2s\n",
      "295:\tlearn: 0.0224623\ttotal: 5.96s\tremaining: 14.2s\n",
      "296:\tlearn: 0.0224442\ttotal: 6s\tremaining: 14.2s\n",
      "297:\tlearn: 0.0224421\ttotal: 6.01s\tremaining: 14.2s\n",
      "298:\tlearn: 0.0224186\ttotal: 6.03s\tremaining: 14.1s\n",
      "299:\tlearn: 0.0224111\ttotal: 6.04s\tremaining: 14.1s\n",
      "300:\tlearn: 0.0224081\ttotal: 6.06s\tremaining: 14.1s\n",
      "301:\tlearn: 0.0223980\ttotal: 6.08s\tremaining: 14s\n",
      "302:\tlearn: 0.0223825\ttotal: 6.09s\tremaining: 14s\n",
      "303:\tlearn: 0.0223554\ttotal: 6.11s\tremaining: 14s\n",
      "304:\tlearn: 0.0223513\ttotal: 6.12s\tremaining: 14s\n",
      "305:\tlearn: 0.0223323\ttotal: 6.14s\tremaining: 13.9s\n",
      "306:\tlearn: 0.0223191\ttotal: 6.16s\tremaining: 13.9s\n",
      "307:\tlearn: 0.0223135\ttotal: 6.19s\tremaining: 13.9s\n",
      "308:\tlearn: 0.0222873\ttotal: 6.21s\tremaining: 13.9s\n",
      "309:\tlearn: 0.0222602\ttotal: 6.23s\tremaining: 13.9s\n",
      "310:\tlearn: 0.0222558\ttotal: 6.24s\tremaining: 13.8s\n",
      "311:\tlearn: 0.0222420\ttotal: 6.26s\tremaining: 13.8s\n",
      "312:\tlearn: 0.0222200\ttotal: 6.28s\tremaining: 13.8s\n",
      "313:\tlearn: 0.0222143\ttotal: 6.29s\tremaining: 13.8s\n",
      "314:\tlearn: 0.0221763\ttotal: 6.32s\tremaining: 13.7s\n",
      "315:\tlearn: 0.0221459\ttotal: 6.34s\tremaining: 13.7s\n",
      "316:\tlearn: 0.0221341\ttotal: 6.37s\tremaining: 13.7s\n",
      "317:\tlearn: 0.0221198\ttotal: 6.4s\tremaining: 13.7s\n",
      "318:\tlearn: 0.0221035\ttotal: 6.42s\tremaining: 13.7s\n",
      "319:\tlearn: 0.0220840\ttotal: 6.44s\tremaining: 13.7s\n",
      "320:\tlearn: 0.0220774\ttotal: 6.46s\tremaining: 13.7s\n",
      "321:\tlearn: 0.0220669\ttotal: 6.47s\tremaining: 13.6s\n",
      "322:\tlearn: 0.0220597\ttotal: 6.5s\tremaining: 13.6s\n",
      "323:\tlearn: 0.0220531\ttotal: 6.52s\tremaining: 13.6s\n",
      "324:\tlearn: 0.0220366\ttotal: 6.54s\tremaining: 13.6s\n",
      "325:\tlearn: 0.0220258\ttotal: 6.56s\tremaining: 13.6s\n",
      "326:\tlearn: 0.0220122\ttotal: 6.58s\tremaining: 13.5s\n"
     ]
    },
    {
     "name": "stdout",
     "output_type": "stream",
     "text": [
      "327:\tlearn: 0.0219964\ttotal: 6.6s\tremaining: 13.5s\n",
      "328:\tlearn: 0.0219427\ttotal: 6.63s\tremaining: 13.5s\n",
      "329:\tlearn: 0.0219302\ttotal: 6.65s\tremaining: 13.5s\n",
      "330:\tlearn: 0.0219130\ttotal: 6.67s\tremaining: 13.5s\n",
      "331:\tlearn: 0.0219038\ttotal: 6.69s\tremaining: 13.5s\n",
      "332:\tlearn: 0.0218993\ttotal: 6.7s\tremaining: 13.4s\n",
      "333:\tlearn: 0.0218950\ttotal: 6.72s\tremaining: 13.4s\n",
      "334:\tlearn: 0.0218652\ttotal: 6.74s\tremaining: 13.4s\n",
      "335:\tlearn: 0.0218564\ttotal: 6.76s\tremaining: 13.4s\n",
      "336:\tlearn: 0.0218359\ttotal: 6.78s\tremaining: 13.3s\n",
      "337:\tlearn: 0.0218209\ttotal: 6.79s\tremaining: 13.3s\n",
      "338:\tlearn: 0.0218081\ttotal: 6.82s\tremaining: 13.3s\n",
      "339:\tlearn: 0.0217940\ttotal: 6.84s\tremaining: 13.3s\n",
      "340:\tlearn: 0.0217705\ttotal: 6.86s\tremaining: 13.3s\n",
      "341:\tlearn: 0.0217664\ttotal: 6.88s\tremaining: 13.2s\n",
      "342:\tlearn: 0.0217410\ttotal: 6.9s\tremaining: 13.2s\n",
      "343:\tlearn: 0.0217283\ttotal: 6.92s\tremaining: 13.2s\n",
      "344:\tlearn: 0.0217180\ttotal: 6.94s\tremaining: 13.2s\n",
      "345:\tlearn: 0.0217084\ttotal: 6.96s\tremaining: 13.2s\n",
      "346:\tlearn: 0.0216956\ttotal: 6.97s\tremaining: 13.1s\n",
      "347:\tlearn: 0.0216856\ttotal: 6.99s\tremaining: 13.1s\n",
      "348:\tlearn: 0.0216724\ttotal: 7.01s\tremaining: 13.1s\n",
      "349:\tlearn: 0.0216581\ttotal: 7.03s\tremaining: 13.1s\n",
      "350:\tlearn: 0.0216556\ttotal: 7.05s\tremaining: 13s\n",
      "351:\tlearn: 0.0216454\ttotal: 7.07s\tremaining: 13s\n",
      "352:\tlearn: 0.0216298\ttotal: 7.08s\tremaining: 13s\n",
      "353:\tlearn: 0.0216227\ttotal: 7.1s\tremaining: 13s\n",
      "354:\tlearn: 0.0216165\ttotal: 7.12s\tremaining: 12.9s\n",
      "355:\tlearn: 0.0216082\ttotal: 7.13s\tremaining: 12.9s\n",
      "356:\tlearn: 0.0215962\ttotal: 7.15s\tremaining: 12.9s\n",
      "357:\tlearn: 0.0215817\ttotal: 7.17s\tremaining: 12.9s\n",
      "358:\tlearn: 0.0215684\ttotal: 7.18s\tremaining: 12.8s\n",
      "359:\tlearn: 0.0215592\ttotal: 7.2s\tremaining: 12.8s\n",
      "360:\tlearn: 0.0215502\ttotal: 7.22s\tremaining: 12.8s\n",
      "361:\tlearn: 0.0215394\ttotal: 7.25s\tremaining: 12.8s\n",
      "362:\tlearn: 0.0215334\ttotal: 7.26s\tremaining: 12.7s\n",
      "363:\tlearn: 0.0215194\ttotal: 7.28s\tremaining: 12.7s\n",
      "364:\tlearn: 0.0214943\ttotal: 7.3s\tremaining: 12.7s\n",
      "365:\tlearn: 0.0214633\ttotal: 7.32s\tremaining: 12.7s\n",
      "366:\tlearn: 0.0214457\ttotal: 7.33s\tremaining: 12.6s\n",
      "367:\tlearn: 0.0214342\ttotal: 7.35s\tremaining: 12.6s\n",
      "368:\tlearn: 0.0214209\ttotal: 7.37s\tremaining: 12.6s\n",
      "369:\tlearn: 0.0214101\ttotal: 7.39s\tremaining: 12.6s\n",
      "370:\tlearn: 0.0214030\ttotal: 7.41s\tremaining: 12.6s\n",
      "371:\tlearn: 0.0213775\ttotal: 7.43s\tremaining: 12.6s\n",
      "372:\tlearn: 0.0213666\ttotal: 7.46s\tremaining: 12.5s\n",
      "373:\tlearn: 0.0213608\ttotal: 7.49s\tremaining: 12.5s\n",
      "374:\tlearn: 0.0213475\ttotal: 7.52s\tremaining: 12.5s\n",
      "375:\tlearn: 0.0213277\ttotal: 7.56s\tremaining: 12.5s\n",
      "376:\tlearn: 0.0213174\ttotal: 7.58s\tremaining: 12.5s\n",
      "377:\tlearn: 0.0213090\ttotal: 7.6s\tremaining: 12.5s\n",
      "378:\tlearn: 0.0213008\ttotal: 7.62s\tremaining: 12.5s\n",
      "379:\tlearn: 0.0212671\ttotal: 7.64s\tremaining: 12.5s\n",
      "380:\tlearn: 0.0212611\ttotal: 7.66s\tremaining: 12.4s\n",
      "381:\tlearn: 0.0212458\ttotal: 7.68s\tremaining: 12.4s\n",
      "382:\tlearn: 0.0212331\ttotal: 7.7s\tremaining: 12.4s\n",
      "383:\tlearn: 0.0212209\ttotal: 7.72s\tremaining: 12.4s\n",
      "384:\tlearn: 0.0211977\ttotal: 7.74s\tremaining: 12.4s\n",
      "385:\tlearn: 0.0211874\ttotal: 7.75s\tremaining: 12.3s\n",
      "386:\tlearn: 0.0211807\ttotal: 7.77s\tremaining: 12.3s\n",
      "387:\tlearn: 0.0211637\ttotal: 7.79s\tremaining: 12.3s\n",
      "388:\tlearn: 0.0211517\ttotal: 7.81s\tremaining: 12.3s\n",
      "389:\tlearn: 0.0211408\ttotal: 7.82s\tremaining: 12.2s\n",
      "390:\tlearn: 0.0211121\ttotal: 7.84s\tremaining: 12.2s\n",
      "391:\tlearn: 0.0210741\ttotal: 7.86s\tremaining: 12.2s\n",
      "392:\tlearn: 0.0210610\ttotal: 7.88s\tremaining: 12.2s\n",
      "393:\tlearn: 0.0210510\ttotal: 7.9s\tremaining: 12.1s\n",
      "394:\tlearn: 0.0210311\ttotal: 7.92s\tremaining: 12.1s\n",
      "395:\tlearn: 0.0210044\ttotal: 7.94s\tremaining: 12.1s\n",
      "396:\tlearn: 0.0209953\ttotal: 7.96s\tremaining: 12.1s\n",
      "397:\tlearn: 0.0209868\ttotal: 7.98s\tremaining: 12.1s\n",
      "398:\tlearn: 0.0209750\ttotal: 8s\tremaining: 12s\n",
      "399:\tlearn: 0.0209656\ttotal: 8.01s\tremaining: 12s\n",
      "400:\tlearn: 0.0209642\ttotal: 8.03s\tremaining: 12s\n",
      "401:\tlearn: 0.0209564\ttotal: 8.06s\tremaining: 12s\n",
      "402:\tlearn: 0.0209335\ttotal: 8.07s\tremaining: 12s\n",
      "403:\tlearn: 0.0209263\ttotal: 8.09s\tremaining: 11.9s\n",
      "404:\tlearn: 0.0208956\ttotal: 8.12s\tremaining: 11.9s\n",
      "405:\tlearn: 0.0208427\ttotal: 8.14s\tremaining: 11.9s\n",
      "406:\tlearn: 0.0208246\ttotal: 8.16s\tremaining: 11.9s\n",
      "407:\tlearn: 0.0208000\ttotal: 8.18s\tremaining: 11.9s\n",
      "408:\tlearn: 0.0207941\ttotal: 8.19s\tremaining: 11.8s\n",
      "409:\tlearn: 0.0207657\ttotal: 8.21s\tremaining: 11.8s\n",
      "410:\tlearn: 0.0207476\ttotal: 8.23s\tremaining: 11.8s\n",
      "411:\tlearn: 0.0207242\ttotal: 8.24s\tremaining: 11.8s\n",
      "412:\tlearn: 0.0206949\ttotal: 8.27s\tremaining: 11.8s\n",
      "413:\tlearn: 0.0206708\ttotal: 8.29s\tremaining: 11.7s\n",
      "414:\tlearn: 0.0206361\ttotal: 8.31s\tremaining: 11.7s\n",
      "415:\tlearn: 0.0206228\ttotal: 8.34s\tremaining: 11.7s\n",
      "416:\tlearn: 0.0205956\ttotal: 8.35s\tremaining: 11.7s\n",
      "417:\tlearn: 0.0205753\ttotal: 8.37s\tremaining: 11.7s\n",
      "418:\tlearn: 0.0205549\ttotal: 8.4s\tremaining: 11.7s\n",
      "419:\tlearn: 0.0205493\ttotal: 8.42s\tremaining: 11.6s\n",
      "420:\tlearn: 0.0205366\ttotal: 8.44s\tremaining: 11.6s\n",
      "421:\tlearn: 0.0205206\ttotal: 8.46s\tremaining: 11.6s\n",
      "422:\tlearn: 0.0205031\ttotal: 8.47s\tremaining: 11.6s\n",
      "423:\tlearn: 0.0204911\ttotal: 8.49s\tremaining: 11.5s\n",
      "424:\tlearn: 0.0204797\ttotal: 8.51s\tremaining: 11.5s\n",
      "425:\tlearn: 0.0204768\ttotal: 8.53s\tremaining: 11.5s\n",
      "426:\tlearn: 0.0204663\ttotal: 8.55s\tremaining: 11.5s\n",
      "427:\tlearn: 0.0204614\ttotal: 8.58s\tremaining: 11.5s\n",
      "428:\tlearn: 0.0204521\ttotal: 8.61s\tremaining: 11.5s\n",
      "429:\tlearn: 0.0204369\ttotal: 8.63s\tremaining: 11.4s\n",
      "430:\tlearn: 0.0204288\ttotal: 8.65s\tremaining: 11.4s\n",
      "431:\tlearn: 0.0203980\ttotal: 8.67s\tremaining: 11.4s\n",
      "432:\tlearn: 0.0203755\ttotal: 8.69s\tremaining: 11.4s\n",
      "433:\tlearn: 0.0203700\ttotal: 8.71s\tremaining: 11.4s\n",
      "434:\tlearn: 0.0203543\ttotal: 8.73s\tremaining: 11.3s\n",
      "435:\tlearn: 0.0203292\ttotal: 8.75s\tremaining: 11.3s\n",
      "436:\tlearn: 0.0203252\ttotal: 8.77s\tremaining: 11.3s\n",
      "437:\tlearn: 0.0203156\ttotal: 8.79s\tremaining: 11.3s\n",
      "438:\tlearn: 0.0202882\ttotal: 8.81s\tremaining: 11.3s\n",
      "439:\tlearn: 0.0202771\ttotal: 8.83s\tremaining: 11.2s\n",
      "440:\tlearn: 0.0202600\ttotal: 8.85s\tremaining: 11.2s\n",
      "441:\tlearn: 0.0202547\ttotal: 8.87s\tremaining: 11.2s\n",
      "442:\tlearn: 0.0202494\ttotal: 8.88s\tremaining: 11.2s\n",
      "443:\tlearn: 0.0202429\ttotal: 8.9s\tremaining: 11.1s\n",
      "444:\tlearn: 0.0202271\ttotal: 8.92s\tremaining: 11.1s\n",
      "445:\tlearn: 0.0202208\ttotal: 8.94s\tremaining: 11.1s\n",
      "446:\tlearn: 0.0202156\ttotal: 8.96s\tremaining: 11.1s\n",
      "447:\tlearn: 0.0201936\ttotal: 8.98s\tremaining: 11.1s\n",
      "448:\tlearn: 0.0201791\ttotal: 9.01s\tremaining: 11.1s\n",
      "449:\tlearn: 0.0201729\ttotal: 9.03s\tremaining: 11s\n",
      "450:\tlearn: 0.0201688\ttotal: 9.05s\tremaining: 11s\n",
      "451:\tlearn: 0.0201398\ttotal: 9.08s\tremaining: 11s\n",
      "452:\tlearn: 0.0201339\ttotal: 9.1s\tremaining: 11s\n",
      "453:\tlearn: 0.0201244\ttotal: 9.12s\tremaining: 11s\n",
      "454:\tlearn: 0.0201169\ttotal: 9.15s\tremaining: 11s\n",
      "455:\tlearn: 0.0201048\ttotal: 9.17s\tremaining: 10.9s\n",
      "456:\tlearn: 0.0201012\ttotal: 9.2s\tremaining: 10.9s\n",
      "457:\tlearn: 0.0200863\ttotal: 9.23s\tremaining: 10.9s\n",
      "458:\tlearn: 0.0200685\ttotal: 9.26s\tremaining: 10.9s\n",
      "459:\tlearn: 0.0200563\ttotal: 9.28s\tremaining: 10.9s\n",
      "460:\tlearn: 0.0200234\ttotal: 9.31s\tremaining: 10.9s\n",
      "461:\tlearn: 0.0200062\ttotal: 9.33s\tremaining: 10.9s\n",
      "462:\tlearn: 0.0199982\ttotal: 9.36s\tremaining: 10.9s\n",
      "463:\tlearn: 0.0199666\ttotal: 9.37s\tremaining: 10.8s\n",
      "464:\tlearn: 0.0199324\ttotal: 9.39s\tremaining: 10.8s\n",
      "465:\tlearn: 0.0199176\ttotal: 9.42s\tremaining: 10.8s\n",
      "466:\tlearn: 0.0199064\ttotal: 9.45s\tremaining: 10.8s\n",
      "467:\tlearn: 0.0198833\ttotal: 9.47s\tremaining: 10.8s\n",
      "468:\tlearn: 0.0198758\ttotal: 9.49s\tremaining: 10.7s\n",
      "469:\tlearn: 0.0198668\ttotal: 9.51s\tremaining: 10.7s\n",
      "470:\tlearn: 0.0198500\ttotal: 9.52s\tremaining: 10.7s\n",
      "471:\tlearn: 0.0198302\ttotal: 9.54s\tremaining: 10.7s\n",
      "472:\tlearn: 0.0198024\ttotal: 9.56s\tremaining: 10.6s\n",
      "473:\tlearn: 0.0197999\ttotal: 9.57s\tremaining: 10.6s\n",
      "474:\tlearn: 0.0197777\ttotal: 9.59s\tremaining: 10.6s\n",
      "475:\tlearn: 0.0197557\ttotal: 9.62s\tremaining: 10.6s\n",
      "476:\tlearn: 0.0197419\ttotal: 9.67s\tremaining: 10.6s\n",
      "477:\tlearn: 0.0197296\ttotal: 9.69s\tremaining: 10.6s\n",
      "478:\tlearn: 0.0197264\ttotal: 9.7s\tremaining: 10.6s\n",
      "479:\tlearn: 0.0197191\ttotal: 9.72s\tremaining: 10.5s\n",
      "480:\tlearn: 0.0197072\ttotal: 9.74s\tremaining: 10.5s\n",
      "481:\tlearn: 0.0196906\ttotal: 9.76s\tremaining: 10.5s\n",
      "482:\tlearn: 0.0196804\ttotal: 9.78s\tremaining: 10.5s\n",
      "483:\tlearn: 0.0196641\ttotal: 9.8s\tremaining: 10.4s\n",
      "484:\tlearn: 0.0196560\ttotal: 9.81s\tremaining: 10.4s\n",
      "485:\tlearn: 0.0196416\ttotal: 9.83s\tremaining: 10.4s\n",
      "486:\tlearn: 0.0196224\ttotal: 9.85s\tremaining: 10.4s\n",
      "487:\tlearn: 0.0196111\ttotal: 9.86s\tremaining: 10.3s\n"
     ]
    },
    {
     "name": "stdout",
     "output_type": "stream",
     "text": [
      "488:\tlearn: 0.0195932\ttotal: 9.9s\tremaining: 10.3s\n",
      "489:\tlearn: 0.0195904\ttotal: 9.91s\tremaining: 10.3s\n",
      "490:\tlearn: 0.0195652\ttotal: 9.93s\tremaining: 10.3s\n",
      "491:\tlearn: 0.0195549\ttotal: 9.95s\tremaining: 10.3s\n",
      "492:\tlearn: 0.0195394\ttotal: 9.96s\tremaining: 10.2s\n",
      "493:\tlearn: 0.0195162\ttotal: 9.99s\tremaining: 10.2s\n",
      "494:\tlearn: 0.0194996\ttotal: 10s\tremaining: 10.2s\n",
      "495:\tlearn: 0.0194921\ttotal: 10s\tremaining: 10.2s\n",
      "496:\tlearn: 0.0194806\ttotal: 10.1s\tremaining: 10.2s\n",
      "497:\tlearn: 0.0194719\ttotal: 10.1s\tremaining: 10.1s\n",
      "498:\tlearn: 0.0194616\ttotal: 10.1s\tremaining: 10.1s\n",
      "499:\tlearn: 0.0194559\ttotal: 10.1s\tremaining: 10.1s\n",
      "500:\tlearn: 0.0194460\ttotal: 10.1s\tremaining: 10.1s\n",
      "501:\tlearn: 0.0194348\ttotal: 10.1s\tremaining: 10.1s\n",
      "502:\tlearn: 0.0194303\ttotal: 10.2s\tremaining: 10s\n",
      "503:\tlearn: 0.0194267\ttotal: 10.2s\tremaining: 10s\n",
      "504:\tlearn: 0.0194076\ttotal: 10.2s\tremaining: 9.99s\n",
      "505:\tlearn: 0.0194045\ttotal: 10.2s\tremaining: 9.96s\n",
      "506:\tlearn: 0.0193751\ttotal: 10.2s\tremaining: 9.94s\n",
      "507:\tlearn: 0.0193437\ttotal: 10.2s\tremaining: 9.92s\n",
      "508:\tlearn: 0.0193166\ttotal: 10.3s\tremaining: 9.9s\n",
      "509:\tlearn: 0.0192962\ttotal: 10.3s\tremaining: 9.88s\n",
      "510:\tlearn: 0.0192778\ttotal: 10.3s\tremaining: 9.86s\n",
      "511:\tlearn: 0.0192739\ttotal: 10.3s\tremaining: 9.84s\n",
      "512:\tlearn: 0.0192617\ttotal: 10.3s\tremaining: 9.82s\n",
      "513:\tlearn: 0.0192547\ttotal: 10.4s\tremaining: 9.8s\n",
      "514:\tlearn: 0.0192206\ttotal: 10.4s\tremaining: 9.78s\n",
      "515:\tlearn: 0.0192127\ttotal: 10.4s\tremaining: 9.75s\n",
      "516:\tlearn: 0.0191950\ttotal: 10.4s\tremaining: 9.73s\n",
      "517:\tlearn: 0.0191931\ttotal: 10.4s\tremaining: 9.71s\n",
      "518:\tlearn: 0.0191844\ttotal: 10.5s\tremaining: 9.69s\n",
      "519:\tlearn: 0.0191737\ttotal: 10.5s\tremaining: 9.67s\n",
      "520:\tlearn: 0.0191571\ttotal: 10.5s\tremaining: 9.65s\n",
      "521:\tlearn: 0.0191430\ttotal: 10.5s\tremaining: 9.62s\n",
      "522:\tlearn: 0.0191306\ttotal: 10.5s\tremaining: 9.6s\n",
      "523:\tlearn: 0.0191259\ttotal: 10.6s\tremaining: 9.58s\n",
      "524:\tlearn: 0.0190944\ttotal: 10.6s\tremaining: 9.56s\n",
      "525:\tlearn: 0.0190786\ttotal: 10.6s\tremaining: 9.54s\n",
      "526:\tlearn: 0.0190593\ttotal: 10.6s\tremaining: 9.52s\n",
      "527:\tlearn: 0.0190536\ttotal: 10.6s\tremaining: 9.49s\n",
      "528:\tlearn: 0.0190496\ttotal: 10.6s\tremaining: 9.47s\n",
      "529:\tlearn: 0.0190397\ttotal: 10.7s\tremaining: 9.45s\n",
      "530:\tlearn: 0.0190127\ttotal: 10.7s\tremaining: 9.43s\n",
      "531:\tlearn: 0.0189926\ttotal: 10.7s\tremaining: 9.4s\n",
      "532:\tlearn: 0.0189882\ttotal: 10.7s\tremaining: 9.38s\n",
      "533:\tlearn: 0.0189858\ttotal: 10.7s\tremaining: 9.36s\n",
      "534:\tlearn: 0.0189543\ttotal: 10.7s\tremaining: 9.34s\n",
      "535:\tlearn: 0.0189411\ttotal: 10.8s\tremaining: 9.32s\n",
      "536:\tlearn: 0.0189139\ttotal: 10.8s\tremaining: 9.3s\n",
      "537:\tlearn: 0.0188857\ttotal: 10.8s\tremaining: 9.27s\n",
      "538:\tlearn: 0.0188716\ttotal: 10.8s\tremaining: 9.25s\n",
      "539:\tlearn: 0.0188463\ttotal: 10.8s\tremaining: 9.23s\n",
      "540:\tlearn: 0.0188441\ttotal: 10.9s\tremaining: 9.21s\n",
      "541:\tlearn: 0.0188384\ttotal: 10.9s\tremaining: 9.18s\n",
      "542:\tlearn: 0.0188207\ttotal: 10.9s\tremaining: 9.16s\n",
      "543:\tlearn: 0.0188039\ttotal: 10.9s\tremaining: 9.14s\n",
      "544:\tlearn: 0.0187957\ttotal: 10.9s\tremaining: 9.12s\n",
      "545:\tlearn: 0.0187810\ttotal: 10.9s\tremaining: 9.1s\n",
      "546:\tlearn: 0.0187669\ttotal: 11s\tremaining: 9.09s\n",
      "547:\tlearn: 0.0187495\ttotal: 11s\tremaining: 9.07s\n",
      "548:\tlearn: 0.0187424\ttotal: 11s\tremaining: 9.06s\n",
      "549:\tlearn: 0.0187218\ttotal: 11s\tremaining: 9.04s\n",
      "550:\tlearn: 0.0187156\ttotal: 11.1s\tremaining: 9.01s\n",
      "551:\tlearn: 0.0187015\ttotal: 11.1s\tremaining: 8.99s\n",
      "552:\tlearn: 0.0186903\ttotal: 11.1s\tremaining: 8.97s\n",
      "553:\tlearn: 0.0186743\ttotal: 11.1s\tremaining: 8.95s\n",
      "554:\tlearn: 0.0186566\ttotal: 11.1s\tremaining: 8.93s\n",
      "555:\tlearn: 0.0186500\ttotal: 11.2s\tremaining: 8.91s\n",
      "556:\tlearn: 0.0186404\ttotal: 11.2s\tremaining: 8.89s\n",
      "557:\tlearn: 0.0186291\ttotal: 11.2s\tremaining: 8.87s\n",
      "558:\tlearn: 0.0186199\ttotal: 11.2s\tremaining: 8.85s\n",
      "559:\tlearn: 0.0186095\ttotal: 11.2s\tremaining: 8.83s\n",
      "560:\tlearn: 0.0185854\ttotal: 11.3s\tremaining: 8.8s\n",
      "561:\tlearn: 0.0185778\ttotal: 11.3s\tremaining: 8.78s\n",
      "562:\tlearn: 0.0185722\ttotal: 11.3s\tremaining: 8.76s\n",
      "563:\tlearn: 0.0185536\ttotal: 11.3s\tremaining: 8.74s\n",
      "564:\tlearn: 0.0185407\ttotal: 11.3s\tremaining: 8.72s\n",
      "565:\tlearn: 0.0185309\ttotal: 11.3s\tremaining: 8.7s\n",
      "566:\tlearn: 0.0185282\ttotal: 11.4s\tremaining: 8.68s\n",
      "567:\tlearn: 0.0185162\ttotal: 11.4s\tremaining: 8.66s\n",
      "568:\tlearn: 0.0184874\ttotal: 11.4s\tremaining: 8.64s\n",
      "569:\tlearn: 0.0184626\ttotal: 11.4s\tremaining: 8.62s\n",
      "570:\tlearn: 0.0184538\ttotal: 11.4s\tremaining: 8.6s\n",
      "571:\tlearn: 0.0184443\ttotal: 11.5s\tremaining: 8.58s\n",
      "572:\tlearn: 0.0184378\ttotal: 11.5s\tremaining: 8.56s\n",
      "573:\tlearn: 0.0184303\ttotal: 11.5s\tremaining: 8.54s\n",
      "574:\tlearn: 0.0184270\ttotal: 11.5s\tremaining: 8.51s\n",
      "575:\tlearn: 0.0184201\ttotal: 11.5s\tremaining: 8.49s\n",
      "576:\tlearn: 0.0184170\ttotal: 11.6s\tremaining: 8.47s\n",
      "577:\tlearn: 0.0184112\ttotal: 11.6s\tremaining: 8.44s\n",
      "578:\tlearn: 0.0184095\ttotal: 11.6s\tremaining: 8.43s\n",
      "579:\tlearn: 0.0184024\ttotal: 11.6s\tremaining: 8.41s\n",
      "580:\tlearn: 0.0183844\ttotal: 11.6s\tremaining: 8.39s\n",
      "581:\tlearn: 0.0183609\ttotal: 11.7s\tremaining: 8.37s\n",
      "582:\tlearn: 0.0183435\ttotal: 11.7s\tremaining: 8.35s\n",
      "583:\tlearn: 0.0183290\ttotal: 11.7s\tremaining: 8.32s\n",
      "584:\tlearn: 0.0183128\ttotal: 11.7s\tremaining: 8.3s\n",
      "585:\tlearn: 0.0182935\ttotal: 11.7s\tremaining: 8.28s\n",
      "586:\tlearn: 0.0182791\ttotal: 11.7s\tremaining: 8.26s\n",
      "587:\tlearn: 0.0182628\ttotal: 11.8s\tremaining: 8.24s\n",
      "588:\tlearn: 0.0182491\ttotal: 11.8s\tremaining: 8.21s\n",
      "589:\tlearn: 0.0182351\ttotal: 11.8s\tremaining: 8.19s\n",
      "590:\tlearn: 0.0182229\ttotal: 11.8s\tremaining: 8.17s\n",
      "591:\tlearn: 0.0182127\ttotal: 11.8s\tremaining: 8.16s\n",
      "592:\tlearn: 0.0181725\ttotal: 11.9s\tremaining: 8.13s\n",
      "593:\tlearn: 0.0181625\ttotal: 11.9s\tremaining: 8.11s\n",
      "594:\tlearn: 0.0181582\ttotal: 11.9s\tremaining: 8.09s\n",
      "595:\tlearn: 0.0181464\ttotal: 11.9s\tremaining: 8.08s\n",
      "596:\tlearn: 0.0181367\ttotal: 11.9s\tremaining: 8.05s\n",
      "597:\tlearn: 0.0181327\ttotal: 11.9s\tremaining: 8.03s\n",
      "598:\tlearn: 0.0181239\ttotal: 12s\tremaining: 8.01s\n",
      "599:\tlearn: 0.0181155\ttotal: 12s\tremaining: 7.99s\n",
      "600:\tlearn: 0.0181022\ttotal: 12s\tremaining: 7.97s\n",
      "601:\tlearn: 0.0180894\ttotal: 12s\tremaining: 7.96s\n",
      "602:\tlearn: 0.0180795\ttotal: 12.1s\tremaining: 7.94s\n",
      "603:\tlearn: 0.0180758\ttotal: 12.1s\tremaining: 7.92s\n",
      "604:\tlearn: 0.0180719\ttotal: 12.1s\tremaining: 7.89s\n",
      "605:\tlearn: 0.0180505\ttotal: 12.1s\tremaining: 7.87s\n",
      "606:\tlearn: 0.0180283\ttotal: 12.1s\tremaining: 7.85s\n",
      "607:\tlearn: 0.0180246\ttotal: 12.1s\tremaining: 7.83s\n",
      "608:\tlearn: 0.0180113\ttotal: 12.2s\tremaining: 7.81s\n",
      "609:\tlearn: 0.0180078\ttotal: 12.2s\tremaining: 7.79s\n",
      "610:\tlearn: 0.0179960\ttotal: 12.2s\tremaining: 7.76s\n",
      "611:\tlearn: 0.0179870\ttotal: 12.2s\tremaining: 7.74s\n",
      "612:\tlearn: 0.0179729\ttotal: 12.2s\tremaining: 7.72s\n",
      "613:\tlearn: 0.0179427\ttotal: 12.3s\tremaining: 7.71s\n",
      "614:\tlearn: 0.0179184\ttotal: 12.3s\tremaining: 7.69s\n",
      "615:\tlearn: 0.0179110\ttotal: 12.3s\tremaining: 7.67s\n",
      "616:\tlearn: 0.0179073\ttotal: 12.3s\tremaining: 7.65s\n",
      "617:\tlearn: 0.0178934\ttotal: 12.3s\tremaining: 7.63s\n",
      "618:\tlearn: 0.0178717\ttotal: 12.4s\tremaining: 7.61s\n",
      "619:\tlearn: 0.0178632\ttotal: 12.4s\tremaining: 7.58s\n",
      "620:\tlearn: 0.0178509\ttotal: 12.4s\tremaining: 7.56s\n",
      "621:\tlearn: 0.0178443\ttotal: 12.4s\tremaining: 7.54s\n",
      "622:\tlearn: 0.0178281\ttotal: 12.4s\tremaining: 7.52s\n",
      "623:\tlearn: 0.0178112\ttotal: 12.5s\tremaining: 7.5s\n",
      "624:\tlearn: 0.0177989\ttotal: 12.5s\tremaining: 7.49s\n",
      "625:\tlearn: 0.0177943\ttotal: 12.5s\tremaining: 7.47s\n",
      "626:\tlearn: 0.0177900\ttotal: 12.5s\tremaining: 7.45s\n",
      "627:\tlearn: 0.0177643\ttotal: 12.5s\tremaining: 7.42s\n",
      "628:\tlearn: 0.0177596\ttotal: 12.6s\tremaining: 7.4s\n",
      "629:\tlearn: 0.0177566\ttotal: 12.6s\tremaining: 7.38s\n",
      "630:\tlearn: 0.0177391\ttotal: 12.6s\tremaining: 7.36s\n",
      "631:\tlearn: 0.0177152\ttotal: 12.6s\tremaining: 7.34s\n",
      "632:\tlearn: 0.0177058\ttotal: 12.6s\tremaining: 7.32s\n",
      "633:\tlearn: 0.0176966\ttotal: 12.6s\tremaining: 7.29s\n",
      "634:\tlearn: 0.0176837\ttotal: 12.7s\tremaining: 7.27s\n",
      "635:\tlearn: 0.0176697\ttotal: 12.7s\tremaining: 7.25s\n",
      "636:\tlearn: 0.0176618\ttotal: 12.7s\tremaining: 7.24s\n",
      "637:\tlearn: 0.0176544\ttotal: 12.7s\tremaining: 7.22s\n",
      "638:\tlearn: 0.0176450\ttotal: 12.7s\tremaining: 7.2s\n",
      "639:\tlearn: 0.0176351\ttotal: 12.8s\tremaining: 7.18s\n",
      "640:\tlearn: 0.0176106\ttotal: 12.8s\tremaining: 7.16s\n",
      "641:\tlearn: 0.0175927\ttotal: 12.8s\tremaining: 7.13s\n",
      "642:\tlearn: 0.0175712\ttotal: 12.8s\tremaining: 7.12s\n",
      "643:\tlearn: 0.0175523\ttotal: 12.8s\tremaining: 7.09s\n",
      "644:\tlearn: 0.0175467\ttotal: 12.8s\tremaining: 7.07s\n",
      "645:\tlearn: 0.0175386\ttotal: 12.9s\tremaining: 7.05s\n",
      "646:\tlearn: 0.0175261\ttotal: 12.9s\tremaining: 7.03s\n",
      "647:\tlearn: 0.0175062\ttotal: 12.9s\tremaining: 7.01s\n"
     ]
    },
    {
     "name": "stdout",
     "output_type": "stream",
     "text": [
      "648:\tlearn: 0.0174919\ttotal: 12.9s\tremaining: 6.99s\n",
      "649:\tlearn: 0.0174871\ttotal: 12.9s\tremaining: 6.97s\n",
      "650:\tlearn: 0.0174783\ttotal: 13s\tremaining: 6.95s\n",
      "651:\tlearn: 0.0174745\ttotal: 13s\tremaining: 6.92s\n",
      "652:\tlearn: 0.0174727\ttotal: 13s\tremaining: 6.9s\n",
      "653:\tlearn: 0.0174583\ttotal: 13s\tremaining: 6.88s\n",
      "654:\tlearn: 0.0174528\ttotal: 13s\tremaining: 6.86s\n",
      "655:\tlearn: 0.0174492\ttotal: 13s\tremaining: 6.84s\n",
      "656:\tlearn: 0.0174339\ttotal: 13.1s\tremaining: 6.82s\n",
      "657:\tlearn: 0.0174229\ttotal: 13.1s\tremaining: 6.79s\n",
      "658:\tlearn: 0.0174168\ttotal: 13.1s\tremaining: 6.77s\n",
      "659:\tlearn: 0.0173979\ttotal: 13.1s\tremaining: 6.75s\n",
      "660:\tlearn: 0.0173740\ttotal: 13.1s\tremaining: 6.74s\n",
      "661:\tlearn: 0.0173544\ttotal: 13.2s\tremaining: 6.71s\n",
      "662:\tlearn: 0.0173399\ttotal: 13.2s\tremaining: 6.7s\n",
      "663:\tlearn: 0.0173203\ttotal: 13.2s\tremaining: 6.67s\n",
      "664:\tlearn: 0.0173140\ttotal: 13.2s\tremaining: 6.65s\n",
      "665:\tlearn: 0.0173024\ttotal: 13.2s\tremaining: 6.63s\n",
      "666:\tlearn: 0.0172951\ttotal: 13.2s\tremaining: 6.61s\n",
      "667:\tlearn: 0.0172864\ttotal: 13.3s\tremaining: 6.59s\n",
      "668:\tlearn: 0.0172811\ttotal: 13.3s\tremaining: 6.57s\n",
      "669:\tlearn: 0.0172772\ttotal: 13.3s\tremaining: 6.55s\n",
      "670:\tlearn: 0.0172744\ttotal: 13.3s\tremaining: 6.53s\n",
      "671:\tlearn: 0.0172719\ttotal: 13.3s\tremaining: 6.5s\n",
      "672:\tlearn: 0.0172654\ttotal: 13.4s\tremaining: 6.49s\n",
      "673:\tlearn: 0.0172603\ttotal: 13.4s\tremaining: 6.47s\n",
      "674:\tlearn: 0.0172483\ttotal: 13.4s\tremaining: 6.45s\n",
      "675:\tlearn: 0.0172265\ttotal: 13.4s\tremaining: 6.43s\n",
      "676:\tlearn: 0.0172241\ttotal: 13.4s\tremaining: 6.41s\n",
      "677:\tlearn: 0.0172202\ttotal: 13.4s\tremaining: 6.38s\n",
      "678:\tlearn: 0.0172105\ttotal: 13.5s\tremaining: 6.36s\n",
      "679:\tlearn: 0.0171946\ttotal: 13.5s\tremaining: 6.34s\n",
      "680:\tlearn: 0.0171910\ttotal: 13.5s\tremaining: 6.32s\n",
      "681:\tlearn: 0.0171856\ttotal: 13.5s\tremaining: 6.3s\n",
      "682:\tlearn: 0.0171790\ttotal: 13.5s\tremaining: 6.28s\n",
      "683:\tlearn: 0.0171653\ttotal: 13.5s\tremaining: 6.26s\n",
      "684:\tlearn: 0.0171420\ttotal: 13.6s\tremaining: 6.24s\n",
      "685:\tlearn: 0.0171325\ttotal: 13.6s\tremaining: 6.22s\n",
      "686:\tlearn: 0.0171236\ttotal: 13.6s\tremaining: 6.2s\n",
      "687:\tlearn: 0.0171131\ttotal: 13.6s\tremaining: 6.17s\n",
      "688:\tlearn: 0.0170953\ttotal: 13.6s\tremaining: 6.15s\n",
      "689:\tlearn: 0.0170824\ttotal: 13.7s\tremaining: 6.13s\n",
      "690:\tlearn: 0.0170763\ttotal: 13.7s\tremaining: 6.11s\n",
      "691:\tlearn: 0.0170612\ttotal: 13.7s\tremaining: 6.09s\n",
      "692:\tlearn: 0.0170460\ttotal: 13.7s\tremaining: 6.07s\n",
      "693:\tlearn: 0.0170313\ttotal: 13.7s\tremaining: 6.05s\n",
      "694:\tlearn: 0.0170194\ttotal: 13.7s\tremaining: 6.03s\n",
      "695:\tlearn: 0.0170008\ttotal: 13.8s\tremaining: 6.01s\n",
      "696:\tlearn: 0.0169832\ttotal: 13.8s\tremaining: 6s\n",
      "697:\tlearn: 0.0169818\ttotal: 13.8s\tremaining: 5.97s\n",
      "698:\tlearn: 0.0169801\ttotal: 13.8s\tremaining: 5.96s\n",
      "699:\tlearn: 0.0169476\ttotal: 13.9s\tremaining: 5.94s\n",
      "700:\tlearn: 0.0169283\ttotal: 13.9s\tremaining: 5.92s\n",
      "701:\tlearn: 0.0169151\ttotal: 13.9s\tremaining: 5.89s\n",
      "702:\tlearn: 0.0169063\ttotal: 13.9s\tremaining: 5.88s\n",
      "703:\tlearn: 0.0169003\ttotal: 13.9s\tremaining: 5.86s\n",
      "704:\tlearn: 0.0168988\ttotal: 14s\tremaining: 5.84s\n",
      "705:\tlearn: 0.0168940\ttotal: 14s\tremaining: 5.82s\n",
      "706:\tlearn: 0.0168845\ttotal: 14s\tremaining: 5.8s\n",
      "707:\tlearn: 0.0168701\ttotal: 14s\tremaining: 5.78s\n",
      "708:\tlearn: 0.0168608\ttotal: 14s\tremaining: 5.76s\n",
      "709:\tlearn: 0.0168596\ttotal: 14.1s\tremaining: 5.74s\n",
      "710:\tlearn: 0.0168499\ttotal: 14.1s\tremaining: 5.72s\n",
      "711:\tlearn: 0.0168334\ttotal: 14.1s\tremaining: 5.7s\n",
      "712:\tlearn: 0.0168184\ttotal: 14.1s\tremaining: 5.68s\n",
      "713:\tlearn: 0.0168137\ttotal: 14.1s\tremaining: 5.66s\n",
      "714:\tlearn: 0.0168030\ttotal: 14.1s\tremaining: 5.64s\n",
      "715:\tlearn: 0.0167954\ttotal: 14.2s\tremaining: 5.62s\n",
      "716:\tlearn: 0.0167930\ttotal: 14.2s\tremaining: 5.6s\n",
      "717:\tlearn: 0.0167691\ttotal: 14.2s\tremaining: 5.58s\n",
      "718:\tlearn: 0.0167514\ttotal: 14.2s\tremaining: 5.56s\n",
      "719:\tlearn: 0.0167296\ttotal: 14.2s\tremaining: 5.54s\n",
      "720:\tlearn: 0.0167146\ttotal: 14.3s\tremaining: 5.52s\n",
      "721:\tlearn: 0.0167117\ttotal: 14.3s\tremaining: 5.5s\n",
      "722:\tlearn: 0.0166775\ttotal: 14.3s\tremaining: 5.48s\n",
      "723:\tlearn: 0.0166665\ttotal: 14.3s\tremaining: 5.46s\n",
      "724:\tlearn: 0.0166586\ttotal: 14.3s\tremaining: 5.44s\n",
      "725:\tlearn: 0.0166527\ttotal: 14.4s\tremaining: 5.42s\n",
      "726:\tlearn: 0.0166420\ttotal: 14.4s\tremaining: 5.4s\n",
      "727:\tlearn: 0.0166360\ttotal: 14.4s\tremaining: 5.38s\n",
      "728:\tlearn: 0.0166236\ttotal: 14.4s\tremaining: 5.36s\n",
      "729:\tlearn: 0.0166174\ttotal: 14.4s\tremaining: 5.34s\n",
      "730:\tlearn: 0.0166011\ttotal: 14.5s\tremaining: 5.32s\n",
      "731:\tlearn: 0.0165919\ttotal: 14.5s\tremaining: 5.3s\n",
      "732:\tlearn: 0.0165786\ttotal: 14.5s\tremaining: 5.28s\n",
      "733:\tlearn: 0.0165736\ttotal: 14.5s\tremaining: 5.26s\n",
      "734:\tlearn: 0.0165641\ttotal: 14.5s\tremaining: 5.24s\n",
      "735:\tlearn: 0.0165591\ttotal: 14.6s\tremaining: 5.22s\n",
      "736:\tlearn: 0.0165498\ttotal: 14.6s\tremaining: 5.2s\n",
      "737:\tlearn: 0.0165477\ttotal: 14.6s\tremaining: 5.18s\n",
      "738:\tlearn: 0.0165387\ttotal: 14.6s\tremaining: 5.16s\n",
      "739:\tlearn: 0.0165350\ttotal: 14.6s\tremaining: 5.14s\n",
      "740:\tlearn: 0.0165059\ttotal: 14.6s\tremaining: 5.12s\n",
      "741:\tlearn: 0.0164971\ttotal: 14.7s\tremaining: 5.1s\n",
      "742:\tlearn: 0.0164929\ttotal: 14.7s\tremaining: 5.08s\n",
      "743:\tlearn: 0.0164859\ttotal: 14.7s\tremaining: 5.06s\n",
      "744:\tlearn: 0.0164618\ttotal: 14.7s\tremaining: 5.04s\n",
      "745:\tlearn: 0.0164566\ttotal: 14.7s\tremaining: 5.02s\n",
      "746:\tlearn: 0.0164473\ttotal: 14.8s\tremaining: 5s\n",
      "747:\tlearn: 0.0164455\ttotal: 14.8s\tremaining: 4.98s\n",
      "748:\tlearn: 0.0164300\ttotal: 14.8s\tremaining: 4.96s\n",
      "749:\tlearn: 0.0164195\ttotal: 14.8s\tremaining: 4.94s\n",
      "750:\tlearn: 0.0164109\ttotal: 14.8s\tremaining: 4.92s\n",
      "751:\tlearn: 0.0164087\ttotal: 14.9s\tremaining: 4.9s\n",
      "752:\tlearn: 0.0163993\ttotal: 14.9s\tremaining: 4.88s\n",
      "753:\tlearn: 0.0163894\ttotal: 14.9s\tremaining: 4.86s\n",
      "754:\tlearn: 0.0163885\ttotal: 14.9s\tremaining: 4.84s\n",
      "755:\tlearn: 0.0163688\ttotal: 14.9s\tremaining: 4.82s\n",
      "756:\tlearn: 0.0163646\ttotal: 15s\tremaining: 4.8s\n",
      "757:\tlearn: 0.0163493\ttotal: 15s\tremaining: 4.78s\n",
      "758:\tlearn: 0.0163368\ttotal: 15s\tremaining: 4.76s\n",
      "759:\tlearn: 0.0163328\ttotal: 15s\tremaining: 4.74s\n",
      "760:\tlearn: 0.0163248\ttotal: 15s\tremaining: 4.72s\n",
      "761:\tlearn: 0.0163158\ttotal: 15s\tremaining: 4.7s\n",
      "762:\tlearn: 0.0163054\ttotal: 15.1s\tremaining: 4.68s\n",
      "763:\tlearn: 0.0162940\ttotal: 15.1s\tremaining: 4.66s\n",
      "764:\tlearn: 0.0162766\ttotal: 15.1s\tremaining: 4.64s\n",
      "765:\tlearn: 0.0162685\ttotal: 15.1s\tremaining: 4.62s\n",
      "766:\tlearn: 0.0162619\ttotal: 15.2s\tremaining: 4.61s\n",
      "767:\tlearn: 0.0162575\ttotal: 15.2s\tremaining: 4.58s\n",
      "768:\tlearn: 0.0162439\ttotal: 15.2s\tremaining: 4.56s\n",
      "769:\tlearn: 0.0162406\ttotal: 15.2s\tremaining: 4.54s\n",
      "770:\tlearn: 0.0162214\ttotal: 15.2s\tremaining: 4.52s\n",
      "771:\tlearn: 0.0162162\ttotal: 15.3s\tremaining: 4.5s\n",
      "772:\tlearn: 0.0162099\ttotal: 15.3s\tremaining: 4.49s\n",
      "773:\tlearn: 0.0161939\ttotal: 15.3s\tremaining: 4.47s\n",
      "774:\tlearn: 0.0161720\ttotal: 15.4s\tremaining: 4.46s\n",
      "775:\tlearn: 0.0161539\ttotal: 15.4s\tremaining: 4.44s\n",
      "776:\tlearn: 0.0161468\ttotal: 15.4s\tremaining: 4.42s\n",
      "777:\tlearn: 0.0161369\ttotal: 15.4s\tremaining: 4.4s\n",
      "778:\tlearn: 0.0161311\ttotal: 15.4s\tremaining: 4.38s\n",
      "779:\tlearn: 0.0161280\ttotal: 15.5s\tremaining: 4.36s\n",
      "780:\tlearn: 0.0161134\ttotal: 15.5s\tremaining: 4.34s\n",
      "781:\tlearn: 0.0160991\ttotal: 15.5s\tremaining: 4.32s\n",
      "782:\tlearn: 0.0160870\ttotal: 15.5s\tremaining: 4.3s\n",
      "783:\tlearn: 0.0160840\ttotal: 15.5s\tremaining: 4.28s\n",
      "784:\tlearn: 0.0160737\ttotal: 15.6s\tremaining: 4.26s\n",
      "785:\tlearn: 0.0160685\ttotal: 15.6s\tremaining: 4.24s\n",
      "786:\tlearn: 0.0160536\ttotal: 15.6s\tremaining: 4.22s\n",
      "787:\tlearn: 0.0160438\ttotal: 15.6s\tremaining: 4.2s\n",
      "788:\tlearn: 0.0160305\ttotal: 15.6s\tremaining: 4.18s\n",
      "789:\tlearn: 0.0160265\ttotal: 15.6s\tremaining: 4.16s\n",
      "790:\tlearn: 0.0160179\ttotal: 15.7s\tremaining: 4.14s\n",
      "791:\tlearn: 0.0160008\ttotal: 15.7s\tremaining: 4.12s\n",
      "792:\tlearn: 0.0160000\ttotal: 15.7s\tremaining: 4.1s\n",
      "793:\tlearn: 0.0159883\ttotal: 15.7s\tremaining: 4.08s\n",
      "794:\tlearn: 0.0159772\ttotal: 15.7s\tremaining: 4.06s\n",
      "795:\tlearn: 0.0159713\ttotal: 15.8s\tremaining: 4.04s\n",
      "796:\tlearn: 0.0159632\ttotal: 15.8s\tremaining: 4.02s\n",
      "797:\tlearn: 0.0159561\ttotal: 15.8s\tremaining: 4s\n",
      "798:\tlearn: 0.0159525\ttotal: 15.8s\tremaining: 3.98s\n",
      "799:\tlearn: 0.0159417\ttotal: 15.8s\tremaining: 3.96s\n",
      "800:\tlearn: 0.0159395\ttotal: 15.9s\tremaining: 3.94s\n",
      "801:\tlearn: 0.0159252\ttotal: 15.9s\tremaining: 3.92s\n",
      "802:\tlearn: 0.0159136\ttotal: 15.9s\tremaining: 3.9s\n",
      "803:\tlearn: 0.0159051\ttotal: 15.9s\tremaining: 3.88s\n",
      "804:\tlearn: 0.0159007\ttotal: 15.9s\tremaining: 3.86s\n",
      "805:\tlearn: 0.0158953\ttotal: 16s\tremaining: 3.84s\n",
      "806:\tlearn: 0.0158792\ttotal: 16s\tremaining: 3.82s\n",
      "807:\tlearn: 0.0158759\ttotal: 16s\tremaining: 3.8s\n",
      "808:\tlearn: 0.0158593\ttotal: 16s\tremaining: 3.78s\n",
      "809:\tlearn: 0.0158502\ttotal: 16s\tremaining: 3.76s\n",
      "810:\tlearn: 0.0158389\ttotal: 16s\tremaining: 3.74s\n",
      "811:\tlearn: 0.0158363\ttotal: 16.1s\tremaining: 3.72s\n",
      "812:\tlearn: 0.0158290\ttotal: 16.1s\tremaining: 3.7s\n",
      "813:\tlearn: 0.0158044\ttotal: 16.1s\tremaining: 3.68s\n",
      "814:\tlearn: 0.0157986\ttotal: 16.1s\tremaining: 3.66s\n"
     ]
    },
    {
     "name": "stdout",
     "output_type": "stream",
     "text": [
      "815:\tlearn: 0.0157862\ttotal: 16.1s\tremaining: 3.64s\n",
      "816:\tlearn: 0.0157662\ttotal: 16.2s\tremaining: 3.62s\n",
      "817:\tlearn: 0.0157562\ttotal: 16.2s\tremaining: 3.6s\n",
      "818:\tlearn: 0.0157533\ttotal: 16.2s\tremaining: 3.58s\n",
      "819:\tlearn: 0.0157456\ttotal: 16.2s\tremaining: 3.56s\n",
      "820:\tlearn: 0.0157414\ttotal: 16.2s\tremaining: 3.54s\n",
      "821:\tlearn: 0.0157363\ttotal: 16.3s\tremaining: 3.52s\n",
      "822:\tlearn: 0.0157305\ttotal: 16.3s\tremaining: 3.51s\n",
      "823:\tlearn: 0.0157048\ttotal: 16.3s\tremaining: 3.49s\n",
      "824:\tlearn: 0.0156911\ttotal: 16.4s\tremaining: 3.48s\n",
      "825:\tlearn: 0.0156751\ttotal: 16.4s\tremaining: 3.46s\n",
      "826:\tlearn: 0.0156521\ttotal: 16.4s\tremaining: 3.44s\n",
      "827:\tlearn: 0.0156459\ttotal: 16.4s\tremaining: 3.41s\n",
      "828:\tlearn: 0.0156301\ttotal: 16.5s\tremaining: 3.39s\n",
      "829:\tlearn: 0.0156029\ttotal: 16.5s\tremaining: 3.37s\n",
      "830:\tlearn: 0.0155859\ttotal: 16.5s\tremaining: 3.35s\n",
      "831:\tlearn: 0.0155811\ttotal: 16.5s\tremaining: 3.33s\n",
      "832:\tlearn: 0.0155678\ttotal: 16.5s\tremaining: 3.31s\n",
      "833:\tlearn: 0.0155571\ttotal: 16.5s\tremaining: 3.29s\n",
      "834:\tlearn: 0.0155448\ttotal: 16.6s\tremaining: 3.27s\n",
      "835:\tlearn: 0.0155383\ttotal: 16.6s\tremaining: 3.25s\n",
      "836:\tlearn: 0.0155340\ttotal: 16.6s\tremaining: 3.23s\n",
      "837:\tlearn: 0.0155287\ttotal: 16.6s\tremaining: 3.21s\n",
      "838:\tlearn: 0.0155226\ttotal: 16.6s\tremaining: 3.19s\n",
      "839:\tlearn: 0.0155025\ttotal: 16.6s\tremaining: 3.17s\n",
      "840:\tlearn: 0.0154888\ttotal: 16.7s\tremaining: 3.15s\n",
      "841:\tlearn: 0.0154845\ttotal: 16.7s\tremaining: 3.13s\n",
      "842:\tlearn: 0.0154795\ttotal: 16.7s\tremaining: 3.11s\n",
      "843:\tlearn: 0.0154642\ttotal: 16.7s\tremaining: 3.09s\n",
      "844:\tlearn: 0.0154600\ttotal: 16.7s\tremaining: 3.07s\n",
      "845:\tlearn: 0.0154522\ttotal: 16.8s\tremaining: 3.05s\n",
      "846:\tlearn: 0.0154449\ttotal: 16.8s\tremaining: 3.03s\n",
      "847:\tlearn: 0.0154408\ttotal: 16.8s\tremaining: 3.01s\n",
      "848:\tlearn: 0.0154281\ttotal: 16.8s\tremaining: 2.99s\n",
      "849:\tlearn: 0.0154166\ttotal: 16.8s\tremaining: 2.97s\n",
      "850:\tlearn: 0.0154108\ttotal: 16.9s\tremaining: 2.95s\n",
      "851:\tlearn: 0.0154007\ttotal: 16.9s\tremaining: 2.93s\n",
      "852:\tlearn: 0.0153914\ttotal: 16.9s\tremaining: 2.91s\n",
      "853:\tlearn: 0.0153798\ttotal: 16.9s\tremaining: 2.89s\n",
      "854:\tlearn: 0.0153755\ttotal: 16.9s\tremaining: 2.87s\n",
      "855:\tlearn: 0.0153696\ttotal: 16.9s\tremaining: 2.85s\n",
      "856:\tlearn: 0.0153657\ttotal: 17s\tremaining: 2.83s\n",
      "857:\tlearn: 0.0153542\ttotal: 17s\tremaining: 2.81s\n",
      "858:\tlearn: 0.0153339\ttotal: 17s\tremaining: 2.79s\n",
      "859:\tlearn: 0.0153168\ttotal: 17s\tremaining: 2.77s\n",
      "860:\tlearn: 0.0153066\ttotal: 17s\tremaining: 2.75s\n",
      "861:\tlearn: 0.0153012\ttotal: 17.1s\tremaining: 2.73s\n",
      "862:\tlearn: 0.0152975\ttotal: 17.1s\tremaining: 2.71s\n",
      "863:\tlearn: 0.0152745\ttotal: 17.1s\tremaining: 2.69s\n",
      "864:\tlearn: 0.0152729\ttotal: 17.1s\tremaining: 2.67s\n",
      "865:\tlearn: 0.0152598\ttotal: 17.1s\tremaining: 2.65s\n",
      "866:\tlearn: 0.0152548\ttotal: 17.2s\tremaining: 2.63s\n",
      "867:\tlearn: 0.0152510\ttotal: 17.2s\tremaining: 2.61s\n",
      "868:\tlearn: 0.0152222\ttotal: 17.2s\tremaining: 2.59s\n",
      "869:\tlearn: 0.0151947\ttotal: 17.2s\tremaining: 2.57s\n",
      "870:\tlearn: 0.0151783\ttotal: 17.2s\tremaining: 2.55s\n",
      "871:\tlearn: 0.0151747\ttotal: 17.2s\tremaining: 2.53s\n",
      "872:\tlearn: 0.0151655\ttotal: 17.3s\tremaining: 2.51s\n",
      "873:\tlearn: 0.0151595\ttotal: 17.3s\tremaining: 2.49s\n",
      "874:\tlearn: 0.0151549\ttotal: 17.3s\tremaining: 2.47s\n",
      "875:\tlearn: 0.0151514\ttotal: 17.3s\tremaining: 2.45s\n",
      "876:\tlearn: 0.0151353\ttotal: 17.3s\tremaining: 2.43s\n",
      "877:\tlearn: 0.0151160\ttotal: 17.3s\tremaining: 2.41s\n",
      "878:\tlearn: 0.0151116\ttotal: 17.4s\tremaining: 2.39s\n",
      "879:\tlearn: 0.0151027\ttotal: 17.4s\tremaining: 2.37s\n",
      "880:\tlearn: 0.0150960\ttotal: 17.4s\tremaining: 2.35s\n",
      "881:\tlearn: 0.0150738\ttotal: 17.4s\tremaining: 2.33s\n",
      "882:\tlearn: 0.0150707\ttotal: 17.4s\tremaining: 2.31s\n",
      "883:\tlearn: 0.0150606\ttotal: 17.5s\tremaining: 2.29s\n",
      "884:\tlearn: 0.0150351\ttotal: 17.5s\tremaining: 2.27s\n",
      "885:\tlearn: 0.0150265\ttotal: 17.5s\tremaining: 2.25s\n",
      "886:\tlearn: 0.0150218\ttotal: 17.5s\tremaining: 2.23s\n",
      "887:\tlearn: 0.0150030\ttotal: 17.5s\tremaining: 2.21s\n",
      "888:\tlearn: 0.0149850\ttotal: 17.6s\tremaining: 2.19s\n",
      "889:\tlearn: 0.0149800\ttotal: 17.6s\tremaining: 2.17s\n",
      "890:\tlearn: 0.0149633\ttotal: 17.6s\tremaining: 2.15s\n",
      "891:\tlearn: 0.0149611\ttotal: 17.6s\tremaining: 2.13s\n",
      "892:\tlearn: 0.0149518\ttotal: 17.6s\tremaining: 2.11s\n",
      "893:\tlearn: 0.0149499\ttotal: 17.7s\tremaining: 2.09s\n",
      "894:\tlearn: 0.0149454\ttotal: 17.7s\tremaining: 2.07s\n",
      "895:\tlearn: 0.0149426\ttotal: 17.7s\tremaining: 2.05s\n",
      "896:\tlearn: 0.0149261\ttotal: 17.7s\tremaining: 2.03s\n",
      "897:\tlearn: 0.0149172\ttotal: 17.7s\tremaining: 2.01s\n",
      "898:\tlearn: 0.0149139\ttotal: 17.7s\tremaining: 1.99s\n",
      "899:\tlearn: 0.0149126\ttotal: 17.8s\tremaining: 1.97s\n",
      "900:\tlearn: 0.0148905\ttotal: 17.8s\tremaining: 1.95s\n",
      "901:\tlearn: 0.0148745\ttotal: 17.8s\tremaining: 1.93s\n",
      "902:\tlearn: 0.0148662\ttotal: 17.8s\tremaining: 1.91s\n",
      "903:\tlearn: 0.0148621\ttotal: 17.8s\tremaining: 1.89s\n",
      "904:\tlearn: 0.0148519\ttotal: 17.8s\tremaining: 1.87s\n",
      "905:\tlearn: 0.0148450\ttotal: 17.9s\tremaining: 1.85s\n",
      "906:\tlearn: 0.0148311\ttotal: 17.9s\tremaining: 1.83s\n",
      "907:\tlearn: 0.0148195\ttotal: 17.9s\tremaining: 1.81s\n",
      "908:\tlearn: 0.0148022\ttotal: 17.9s\tremaining: 1.79s\n",
      "909:\tlearn: 0.0147994\ttotal: 17.9s\tremaining: 1.77s\n",
      "910:\tlearn: 0.0147864\ttotal: 18s\tremaining: 1.76s\n",
      "911:\tlearn: 0.0147811\ttotal: 18s\tremaining: 1.74s\n",
      "912:\tlearn: 0.0147709\ttotal: 18s\tremaining: 1.72s\n",
      "913:\tlearn: 0.0147679\ttotal: 18s\tremaining: 1.7s\n",
      "914:\tlearn: 0.0147613\ttotal: 18s\tremaining: 1.68s\n",
      "915:\tlearn: 0.0147586\ttotal: 18.1s\tremaining: 1.66s\n",
      "916:\tlearn: 0.0147486\ttotal: 18.1s\tremaining: 1.64s\n",
      "917:\tlearn: 0.0147399\ttotal: 18.1s\tremaining: 1.62s\n",
      "918:\tlearn: 0.0147383\ttotal: 18.1s\tremaining: 1.6s\n",
      "919:\tlearn: 0.0147297\ttotal: 18.1s\tremaining: 1.58s\n",
      "920:\tlearn: 0.0147146\ttotal: 18.2s\tremaining: 1.56s\n",
      "921:\tlearn: 0.0146963\ttotal: 18.2s\tremaining: 1.54s\n",
      "922:\tlearn: 0.0146880\ttotal: 18.2s\tremaining: 1.52s\n",
      "923:\tlearn: 0.0146701\ttotal: 18.2s\tremaining: 1.5s\n",
      "924:\tlearn: 0.0146666\ttotal: 18.2s\tremaining: 1.48s\n",
      "925:\tlearn: 0.0146617\ttotal: 18.2s\tremaining: 1.46s\n",
      "926:\tlearn: 0.0146534\ttotal: 18.3s\tremaining: 1.44s\n",
      "927:\tlearn: 0.0146446\ttotal: 18.3s\tremaining: 1.42s\n",
      "928:\tlearn: 0.0146349\ttotal: 18.3s\tremaining: 1.4s\n",
      "929:\tlearn: 0.0146281\ttotal: 18.3s\tremaining: 1.38s\n",
      "930:\tlearn: 0.0146189\ttotal: 18.4s\tremaining: 1.36s\n",
      "931:\tlearn: 0.0146117\ttotal: 18.4s\tremaining: 1.34s\n",
      "932:\tlearn: 0.0146108\ttotal: 18.4s\tremaining: 1.32s\n",
      "933:\tlearn: 0.0146018\ttotal: 18.4s\tremaining: 1.3s\n",
      "934:\tlearn: 0.0145956\ttotal: 18.4s\tremaining: 1.28s\n",
      "935:\tlearn: 0.0145848\ttotal: 18.4s\tremaining: 1.26s\n",
      "936:\tlearn: 0.0145695\ttotal: 18.5s\tremaining: 1.24s\n",
      "937:\tlearn: 0.0145642\ttotal: 18.5s\tremaining: 1.22s\n",
      "938:\tlearn: 0.0145602\ttotal: 18.5s\tremaining: 1.2s\n",
      "939:\tlearn: 0.0145577\ttotal: 18.5s\tremaining: 1.18s\n",
      "940:\tlearn: 0.0145483\ttotal: 18.5s\tremaining: 1.16s\n",
      "941:\tlearn: 0.0145427\ttotal: 18.6s\tremaining: 1.14s\n",
      "942:\tlearn: 0.0145352\ttotal: 18.6s\tremaining: 1.12s\n",
      "943:\tlearn: 0.0145323\ttotal: 18.6s\tremaining: 1.1s\n",
      "944:\tlearn: 0.0145298\ttotal: 18.6s\tremaining: 1.08s\n",
      "945:\tlearn: 0.0145140\ttotal: 18.6s\tremaining: 1.06s\n",
      "946:\tlearn: 0.0145106\ttotal: 18.6s\tremaining: 1.04s\n",
      "947:\tlearn: 0.0144946\ttotal: 18.7s\tremaining: 1.02s\n",
      "948:\tlearn: 0.0144782\ttotal: 18.7s\tremaining: 1s\n",
      "949:\tlearn: 0.0144526\ttotal: 18.7s\tremaining: 984ms\n",
      "950:\tlearn: 0.0144423\ttotal: 18.7s\tremaining: 964ms\n",
      "951:\tlearn: 0.0144379\ttotal: 18.7s\tremaining: 944ms\n",
      "952:\tlearn: 0.0144341\ttotal: 18.7s\tremaining: 925ms\n",
      "953:\tlearn: 0.0144317\ttotal: 18.8s\tremaining: 906ms\n",
      "954:\tlearn: 0.0144235\ttotal: 18.8s\tremaining: 886ms\n",
      "955:\tlearn: 0.0144213\ttotal: 18.8s\tremaining: 866ms\n",
      "956:\tlearn: 0.0144109\ttotal: 18.8s\tremaining: 846ms\n",
      "957:\tlearn: 0.0144067\ttotal: 18.8s\tremaining: 826ms\n",
      "958:\tlearn: 0.0143975\ttotal: 18.9s\tremaining: 806ms\n",
      "959:\tlearn: 0.0143770\ttotal: 18.9s\tremaining: 787ms\n",
      "960:\tlearn: 0.0143666\ttotal: 18.9s\tremaining: 767ms\n",
      "961:\tlearn: 0.0143591\ttotal: 18.9s\tremaining: 747ms\n",
      "962:\tlearn: 0.0143446\ttotal: 18.9s\tremaining: 727ms\n",
      "963:\tlearn: 0.0143391\ttotal: 18.9s\tremaining: 708ms\n",
      "964:\tlearn: 0.0143362\ttotal: 19s\tremaining: 688ms\n",
      "965:\tlearn: 0.0143277\ttotal: 19s\tremaining: 669ms\n",
      "966:\tlearn: 0.0143257\ttotal: 19s\tremaining: 649ms\n",
      "967:\tlearn: 0.0143168\ttotal: 19s\tremaining: 629ms\n",
      "968:\tlearn: 0.0143130\ttotal: 19.1s\tremaining: 610ms\n",
      "969:\tlearn: 0.0142878\ttotal: 19.1s\tremaining: 590ms\n",
      "970:\tlearn: 0.0142813\ttotal: 19.1s\tremaining: 570ms\n",
      "971:\tlearn: 0.0142664\ttotal: 19.1s\tremaining: 551ms\n",
      "972:\tlearn: 0.0142572\ttotal: 19.1s\tremaining: 531ms\n",
      "973:\tlearn: 0.0142562\ttotal: 19.1s\tremaining: 511ms\n",
      "974:\tlearn: 0.0142450\ttotal: 19.2s\tremaining: 491ms\n",
      "975:\tlearn: 0.0142375\ttotal: 19.2s\tremaining: 472ms\n"
     ]
    },
    {
     "name": "stdout",
     "output_type": "stream",
     "text": [
      "976:\tlearn: 0.0142353\ttotal: 19.2s\tremaining: 452ms\n",
      "977:\tlearn: 0.0142291\ttotal: 19.2s\tremaining: 433ms\n",
      "978:\tlearn: 0.0142216\ttotal: 19.3s\tremaining: 413ms\n",
      "979:\tlearn: 0.0142163\ttotal: 19.3s\tremaining: 393ms\n",
      "980:\tlearn: 0.0142103\ttotal: 19.3s\tremaining: 374ms\n",
      "981:\tlearn: 0.0141958\ttotal: 19.3s\tremaining: 354ms\n",
      "982:\tlearn: 0.0141917\ttotal: 19.3s\tremaining: 334ms\n",
      "983:\tlearn: 0.0141847\ttotal: 19.3s\tremaining: 315ms\n",
      "984:\tlearn: 0.0141614\ttotal: 19.4s\tremaining: 295ms\n",
      "985:\tlearn: 0.0141549\ttotal: 19.4s\tremaining: 275ms\n",
      "986:\tlearn: 0.0141504\ttotal: 19.4s\tremaining: 255ms\n",
      "987:\tlearn: 0.0141452\ttotal: 19.4s\tremaining: 236ms\n",
      "988:\tlearn: 0.0141331\ttotal: 19.4s\tremaining: 216ms\n",
      "989:\tlearn: 0.0141205\ttotal: 19.5s\tremaining: 197ms\n",
      "990:\tlearn: 0.0141083\ttotal: 19.5s\tremaining: 177ms\n",
      "991:\tlearn: 0.0141052\ttotal: 19.5s\tremaining: 157ms\n",
      "992:\tlearn: 0.0140945\ttotal: 19.5s\tremaining: 138ms\n",
      "993:\tlearn: 0.0140854\ttotal: 19.5s\tremaining: 118ms\n",
      "994:\tlearn: 0.0140717\ttotal: 19.5s\tremaining: 98.2ms\n",
      "995:\tlearn: 0.0140655\ttotal: 19.6s\tremaining: 78.6ms\n",
      "996:\tlearn: 0.0140618\ttotal: 19.6s\tremaining: 58.9ms\n",
      "997:\tlearn: 0.0140533\ttotal: 19.6s\tremaining: 39.3ms\n",
      "998:\tlearn: 0.0140366\ttotal: 19.6s\tremaining: 19.6ms\n",
      "999:\tlearn: 0.0140297\ttotal: 19.6s\tremaining: 0us\n",
      "Time of fit: 20.399930715560913\n",
      "Time of prediction: 0.3372962474822998\n"
     ]
    }
   ],
   "source": [
    "print('Training the classifier')\n",
    "start_time = time.time()\n",
    "clf = CatBoostClassifier(iterations=1000,\n",
    "                           early_stopping_rounds=10,\n",
    "                           learning_rate=0.1)\n",
    "clf = clf.fit(np.array(X_training), np.array(y_training) )\n",
    "print(f\"Time of fit: {time.time()-start_time}\")\n",
    "start_time = time.time()\n",
    "y_prediction = clf.predict(X_test)\n",
    "print(f\"Time of prediction: {time.time()-start_time}\")"
   ]
  },
  {
   "cell_type": "code",
   "execution_count": 201,
   "metadata": {},
   "outputs": [
    {
     "name": "stdout",
     "output_type": "stream",
     "text": [
      "Confusion matrix on test set\n",
      "[[32155    24]\n",
      " [  228     3]]\n"
     ]
    }
   ],
   "source": [
    "#all\n",
    "conf_mat = confusion_matrix(y_test, y_prediction)\n",
    "print('Confusion matrix on test set')\n",
    "print(conf_mat)"
   ]
  },
  {
   "cell_type": "code",
   "execution_count": 45,
   "metadata": {},
   "outputs": [
    {
     "name": "stdout",
     "output_type": "stream",
     "text": [
      "Confusion matrix on test set\n",
      "[[32154    25]\n",
      " [  225     6]]\n"
     ]
    }
   ],
   "source": [
    "conf_mat = confusion_matrix(y_test, y_prediction)\n",
    "print('Confusion matrix on test set')\n",
    "print(conf_mat)"
   ]
  },
  {
   "cell_type": "code",
   "execution_count": 203,
   "metadata": {},
   "outputs": [
    {
     "name": "stdout",
     "output_type": "stream",
     "text": [
      "Confusion matrix on test set\n",
      "[[32162    17]\n",
      " [  226     5]]\n"
     ]
    }
   ],
   "source": [
    "conf_mat = confusion_matrix(y_test, y_prediction)\n",
    "print('Confusion matrix on test set')\n",
    "print(conf_mat)"
   ]
  },
  {
   "cell_type": "markdown",
   "metadata": {},
   "source": [
    "### MLPClassifier"
   ]
  },
  {
   "cell_type": "code",
   "execution_count": 172,
   "metadata": {},
   "outputs": [
    {
     "name": "stdout",
     "output_type": "stream",
     "text": [
      "Training the classifier\n",
      "Iteration 1, loss = 0.07086089\n",
      "Iteration 2, loss = 0.03217128\n",
      "Iteration 3, loss = 0.03165446\n",
      "Iteration 4, loss = 0.03139923\n",
      "Iteration 5, loss = 0.03123551\n",
      "Iteration 6, loss = 0.03112792\n",
      "Iteration 7, loss = 0.03094385\n",
      "Iteration 8, loss = 0.03087728\n",
      "Iteration 9, loss = 0.03077148\n",
      "Iteration 10, loss = 0.03073340\n",
      "Iteration 11, loss = 0.03056610\n",
      "Iteration 12, loss = 0.03053833\n",
      "Iteration 13, loss = 0.03051315\n",
      "Iteration 14, loss = 0.03044407\n",
      "Iteration 15, loss = 0.03033452\n",
      "Iteration 16, loss = 0.03028445\n",
      "Iteration 17, loss = 0.03020966\n",
      "Iteration 18, loss = 0.03029790\n",
      "Iteration 19, loss = 0.03011276\n",
      "Iteration 20, loss = 0.03014852\n",
      "Iteration 21, loss = 0.03016961\n",
      "Iteration 22, loss = 0.03007019\n",
      "Iteration 23, loss = 0.02998510\n",
      "Iteration 24, loss = 0.02999223\n",
      "Iteration 25, loss = 0.02997056\n",
      "Iteration 26, loss = 0.02995444\n",
      "Training loss did not improve more than tol=0.000100 for 10 consecutive epochs. Stopping.\n",
      "Time of fit: 128.52027201652527\n",
      "Time of prediction: 0.3494853973388672\n"
     ]
    }
   ],
   "source": [
    "print('Training the classifier')\n",
    "start_time = time.time()\n",
    "clf = neural_network.MLPClassifier(hidden_layer_sizes=(100, 100, 100, 100, 100),\n",
    "                                   learning_rate_init=0.0001, verbose=True)\n",
    "clf = clf.fit(X_training, y_training)\n",
    "print(f\"Time of fit: {time.time()-start_time}\")\n",
    "start_time = time.time()\n",
    "y_prediction = clf.predict(X_test)\n",
    "print(f\"Time of prediction: {time.time()-start_time}\")"
   ]
  },
  {
   "cell_type": "code",
   "execution_count": 173,
   "metadata": {},
   "outputs": [
    {
     "name": "stdout",
     "output_type": "stream",
     "text": [
      "Confusion matrix on test set\n",
      "[[32165    14]\n",
      " [  228     3]]\n"
     ]
    }
   ],
   "source": [
    "conf_mat = confusion_matrix(y_test, y_prediction)\n",
    "print('Confusion matrix on test set')\n",
    "print(conf_mat)"
   ]
  },
  {
   "cell_type": "code",
   "execution_count": 113,
   "metadata": {},
   "outputs": [
    {
     "name": "stdout",
     "output_type": "stream",
     "text": [
      "Confusion matrix on test set\n",
      "[[32177     2]\n",
      " [  230     1]]\n"
     ]
    }
   ],
   "source": [
    "#only w2v features\n",
    "\n",
    "conf_mat = confusion_matrix(y_test, y_prediction)\n",
    "print('Confusion matrix on test set')\n",
    "print(conf_mat)"
   ]
  },
  {
   "cell_type": "code",
   "execution_count": 68,
   "metadata": {},
   "outputs": [
    {
     "name": "stdout",
     "output_type": "stream",
     "text": [
      "Confusion matrix on test set\n",
      "[[32175     4]\n",
      " [  230     1]]\n"
     ]
    }
   ],
   "source": [
    "conf_mat = confusion_matrix(y_test, y_prediction)\n",
    "print('Confusion matrix on test set')\n",
    "print(conf_mat)"
   ]
  },
  {
   "cell_type": "code",
   "execution_count": 58,
   "metadata": {},
   "outputs": [
    {
     "data": {
      "text/plain": [
       "array([-1, -1,  1, ..., -1, -1, -1])"
      ]
     },
     "execution_count": 58,
     "metadata": {},
     "output_type": "execute_result"
    }
   ],
   "source": [
    "np.array(y_test)"
   ]
  },
  {
   "cell_type": "code",
   "execution_count": 59,
   "metadata": {
    "scrolled": true
   },
   "outputs": [
    {
     "data": {
      "text/plain": [
       "array([-1, -1, -1, ..., -1, -1, -1])"
      ]
     },
     "execution_count": 59,
     "metadata": {},
     "output_type": "execute_result"
    }
   ],
   "source": [
    "y_prediction"
   ]
  },
  {
   "cell_type": "code",
   "execution_count": 60,
   "metadata": {},
   "outputs": [
    {
     "data": {
      "text/plain": [
       "(32172, 32410)"
      ]
     },
     "execution_count": 60,
     "metadata": {},
     "output_type": "execute_result"
    }
   ],
   "source": [
    "len(np.where(np.array(y_test) == y_prediction)[0]),len(y_test)"
   ]
  },
  {
   "cell_type": "code",
   "execution_count": 114,
   "metadata": {},
   "outputs": [
    {
     "data": {
      "text/plain": [
       "32178"
      ]
     },
     "execution_count": 114,
     "metadata": {},
     "output_type": "execute_result"
    }
   ],
   "source": [
    "len(np.where(np.array(y_test) == y_prediction)[0])"
   ]
  },
  {
   "cell_type": "code",
   "execution_count": 64,
   "metadata": {},
   "outputs": [
    {
     "data": {
      "text/plain": [
       "32410"
      ]
     },
     "execution_count": 64,
     "metadata": {},
     "output_type": "execute_result"
    }
   ],
   "source": [
    "len(y_test)"
   ]
  },
  {
   "cell_type": "markdown",
   "metadata": {},
   "source": [
    "### Ранжирование\n",
    "\n",
    "Принимая во внимание все вероятности того, что предложение в reference paper является provenance, и рассчитывается с учетом доступных расхождений, глобальный балл для каждого кандидата происхождения определяется путем суммирования всех его вероятностей. Предложения с наивысшей оценкой отбираются для создания summary of reference paper до тех пор, пока длина summary не превысит 250 слов. Эти предложения упорядочены в соответствии с их исходным положением в справочном документе."
   ]
  },
  {
   "cell_type": "code",
   "execution_count": 219,
   "metadata": {},
   "outputs": [
    {
     "data": {
      "text/plain": [
       "array([[0.99656284, 0.00343714],\n",
       "       [0.9666594 , 0.0333406 ],\n",
       "       [0.8919206 , 0.10807935],\n",
       "       ...,\n",
       "       [0.9980294 , 0.00197056],\n",
       "       [0.998102  , 0.00189799],\n",
       "       [0.99869853, 0.00130149]], dtype=float32)"
      ]
     },
     "execution_count": 219,
     "metadata": {},
     "output_type": "execute_result"
    }
   ],
   "source": [
    "clf.predict_proba(X_test)"
   ]
  },
  {
   "cell_type": "code",
   "execution_count": 220,
   "metadata": {},
   "outputs": [],
   "source": [
    "# create_summaries(test_path, clf.predict_proba(X_test))"
   ]
  },
  {
   "cell_type": "code",
   "execution_count": 221,
   "metadata": {},
   "outputs": [
    {
     "name": "stdout",
     "output_type": "stream",
     "text": [
      "Creating summary for paper W09-0621\n",
      "Creating summary for paper D10-1058\n",
      "Creating summary for paper C98-1097\n",
      "Creating summary for paper W11-0815\n",
      "Creating summary for paper D09-1023\n",
      "Creating summary for paper P00-1025\n",
      "Creating summary for paper N09-1001\n",
      "Creating summary for paper W06-3909\n",
      "Creating summary for paper P07-1040\n",
      "Creating summary for paper N09-1025\n"
     ]
    }
   ],
   "source": [
    "create_summaries_top_k(test_path, clf.predict_proba(X_test))"
   ]
  },
  {
   "cell_type": "markdown",
   "metadata": {},
   "source": [
    "### Evaluation"
   ]
  },
  {
   "cell_type": "markdown",
   "metadata": {},
   "source": [
    "https://github.com/pltrdy/rouge"
   ]
  },
  {
   "cell_type": "code",
   "execution_count": 222,
   "metadata": {},
   "outputs": [],
   "source": [
    "from collections import defaultdict"
   ]
  },
  {
   "cell_type": "code",
   "execution_count": 223,
   "metadata": {
    "scrolled": false
   },
   "outputs": [
    {
     "name": "stdout",
     "output_type": "stream",
     "text": [
      "C98-1097-1.system.txt C98-1097\n",
      "C98-1097-2.system.txt C98-1097\n",
      "C98-1097-3.system.txt C98-1097\n",
      "D09-1023-1.system.txt D09-1023\n",
      "D09-1023-2.system.txt D09-1023\n",
      "D09-1023-3.system.txt D09-1023\n",
      "D10-1058-1.system.txt D10-1058\n",
      "D10-1058-2.system.txt D10-1058\n",
      "D10-1058-3.system.txt D10-1058\n",
      "N09-1001-1.system.txt N09-1001\n",
      "N09-1001-2.system.txt N09-1001\n",
      "N09-1001-3.system.txt N09-1001\n",
      "N09-1025-1.system.txt N09-1025\n",
      "N09-1025-2.system.txt N09-1025\n",
      "N09-1025-3.system.txt N09-1025\n",
      "P00-1025-1.system.txt P00-1025\n",
      "P00-1025-2.system.txt P00-1025\n",
      "P00-1025-3.system.txt P00-1025\n",
      "P07-1040-1.system.txt P07-1040\n",
      "P07-1040-2.system.txt P07-1040\n",
      "P07-1040-3.system.txt P07-1040\n",
      "W06-3909-1.system.txt W06-3909\n",
      "W06-3909-2.system.txt W06-3909\n",
      "W06-3909-3.system.txt W06-3909\n",
      "W09-0621-1.system.txt W09-0621\n",
      "W09-0621-2.system.txt W09-0621\n",
      "W09-0621-3.system.txt W09-0621\n",
      "W11-0815-1.system.txt W11-0815\n",
      "W11-0815-2.system.txt W11-0815\n",
      "W11-0815-3.system.txt W11-0815\n"
     ]
    }
   ],
   "source": [
    "my_summary = defaultdict(list)\n",
    "summary_dir_path = 'summary/'\n",
    "for directory in sorted(listdir(summary_dir_path)):\n",
    "    with open(summary_dir_path+directory) as f:\n",
    "        content = f.read()\n",
    "        print(directory,directory.split('.')[0][:-2])\n",
    "        key = directory.split('.')[0][:-2]\n",
    "        my_summary[key]+=[content]"
   ]
  },
  {
   "cell_type": "code",
   "execution_count": 224,
   "metadata": {},
   "outputs": [
    {
     "data": {
      "text/plain": [
       "['In speech recognition, confusion network decoding (Mangu et al., 2000) has become widely used in system combination. Recently, confusion network decoding for MT system combination has been proposed (Bangalore et al., 2001). In (Bangalore et al., 2001), Levenshtein alignment was used to generate the network. A modified Levenshtein alignment allowing shifts as in computation of the translation edit rate (TER) (Snover et al., 2006) was used to align hy Proceedings of the 45th Annual Meeting of the Association of Computational Linguistics, pages 312–319, Prague, Czech Republic, June 2007. Qc 2007 Association for Computational Linguistics potheses in (Sim et al., 2007). Minimum Bayes risk (MBR) was used to choose the skeleton in (Sim et al., 2007). This work was extended in (Rosti et al., 2007) by introducing system weights for word confidences. In (Rosti et al., 2007), simple score was assigned to the word coming from the th- best hypothesis. In (Rosti et al., 2007), the total confidence of the th best confusion network hypothesis , including NULL words, given the th source sentence was given by (5) word-level decoding. The improved system combination method was compared to a simple confusion network decoding without system weights and the method proposed in (Rosti et al., 2007) on the Arabic to English and Chinese to English NIST MT05 tasks. Compared to the baseline from (Rosti et al., 2007), the new method improves the BLEU scores significantly.',\n",
       " 'Recently, confusion network decoding has been applied in machine translation system combination. This paper describes an improved confusion network based method to combine outputs from multiple MT systems. The experiments using the 2005 Arabic to English and Chinese to English NIST MT evaluation tasks show significant improvements in BLEU scores compared to earlier confusion network decoding based methods. The idea of combining outputs from different MT systems to produce consensus translations in the hope of generating better translations has been around for a while (Frederking and Nirenburg, 1994). In (Matusov et al., 2006), different word orderings are taken into account by training alignment models by considering all hypothesis pairs as a parallel corpus using GIZA++ (Och and Ney, 2003). Confusion networks are generated by choosing one hypothesis as the “skeleton”, and other hypotheses are aligned against it. In this work, confusion networks are generated by using the -best output from each system as the skeleton, and prior probabilities for each network are estimated from the average TER scores between the skeleton and other hypotheses. The combination outputs from confusion network decoding may be ungrammatical due to alignment errors. Confusion network decoding in MT has to pick one hypothesis as the skeleton which determines the word order of the combination. This example has three confusion networks with priors , and . The total number of nodes in the network is represented by . Similar combination of multiple confusion networks was presented in (Matusov et al., 2006).',\n",
       " 'In this approach, arbitrary features may be added log-linearly into the objective function, thus allowing language model expansion and re-scoring. Another approach is to combine outputs from a few highly specialized classifiers. To generate confusion networks, hypotheses have to be aligned against each other. As opposed to speech recognition, the word order between two correct MT outputs may be different and the Levenshtein alignment may not be able to align shifted words in the hypotheses. The size of the test set may influence the quality of these alignments. Translation edit rate (TER) (Snover et al., 2006)has been proposed as more intuitive evaluation met 1. In graphical form, the resulting confusion network is shown in Figure Figure 1: Example consensus network with votes on word arcs. This is equivalent to minimum Bayes risk decoding with uniform posterior probabilities (Sim et al., 2007). Instead of summing arbitrary confidence scores as in Equation 5, word posterior probabilities are used as follows (6) where is the number of nodes in the confusion network for the source sentence , is the number of translation systems, is the th system weight, is the accumulated confidence for word produced by system between nodes and , and is a weight for the number of NULL links along the hypothesis . The word confidences were increased by if the word aligns between nodes and in the network. The improved confusion network decoding approach allows arbitrary features to be used in the combination.']"
      ]
     },
     "execution_count": 224,
     "metadata": {},
     "output_type": "execute_result"
    }
   ],
   "source": [
    "my_summary['P07-1040']"
   ]
  },
  {
   "cell_type": "code",
   "execution_count": 225,
   "metadata": {},
   "outputs": [],
   "source": [
    "gold_dir_path = 'Gold/'\n",
    "summary_abstract = dict()\n",
    "summary_combined = dict()\n",
    "summary_community = dict()\n",
    "summary_human = dict()\n",
    "for directory in listdir(gold_dir_path):\n",
    "    with open(gold_dir_path+directory) as f:\n",
    "        content = f.read()\n",
    "        key = directory.split('.')[0]\n",
    "        if directory.endswith(\"abstract.summary.txt\"):\n",
    "            summary_abstract[key]=content\n",
    "        elif directory.endswith(\"community.summary.txt\"):\n",
    "            summary_community[key]=content\n",
    "        elif directory.endswith(\"combined.summary.txt\"):\n",
    "            summary_combined[key]=content\n",
    "        elif directory.endswith(\"human.summary.txt\"):\n",
    "            summary_human[key]=content\n",
    "        else:\n",
    "            print('WARNING!')\n",
    "            break"
   ]
  },
  {
   "cell_type": "code",
   "execution_count": 226,
   "metadata": {},
   "outputs": [
    {
     "data": {
      "text/plain": [
       "'Text Segmentation Using Reiteration and Collocation A method is presented for segmenting text into subtopic areas. The proportion of related pairwise words is calculated between adjacent windows of text to determine their lexical similarity. The lexical cohesion relations of reiteration and collocation are used to identify related words. These relations are automatically located using a combination of three linguistic features: word repetition, collocation and relation weights. This method is shown to successfully detect known subject changes in text and corresponds well to the segmentations placed by test subjects. '"
      ]
     },
     "execution_count": 226,
     "metadata": {},
     "output_type": "execute_result"
    }
   ],
   "source": [
    "summary_abstract['C98-1097']"
   ]
  },
  {
   "cell_type": "code",
   "execution_count": 227,
   "metadata": {},
   "outputs": [
    {
     "data": {
      "text/plain": [
       "\"The paper 'Text Segmentation Using Reiteration and Collocation'  by Amanda C. Jobbins and Lindsay J. Evett presentes a method for segmenting a text into subtopics using Lexical cohesion.Lexical cohesion is expressed through the vocabulary used in text and the semantic relations between those words.For automatic detection of lexical cohesion  ties between pairwise words, three linguistic features were considered: word repetition, collocation and relation weights.The proposed segmentation algorithm compares adjacent windows of sentences and determines their lexical similarity. In first investigation word repetition alone achieved better results than using either collocation or relation weights individually. The combination of word repetition with another linguistic feature improved on its individual result, where less troughs were placed per text.In second investigation, recall rates tended to be lower than precision rates because the algorithm identified fewer segments than the test subjects. Each text was only 500 words in length and was related to a specific subject area.These factors limited the degree of subject change that occurred. Consequently, the test subjects tended to identify subject changes that were more subtle than the algorithm could detect.The combination of features word repetition and relation weights produced the best precision and recall rates of 0.80 and 0.69. When used in isolation, the performance of each feature was inferior to a combined approach. This fact provides evidence that  different lexical relations are detected by each linguistic feature considered. \""
      ]
     },
     "execution_count": 227,
     "metadata": {},
     "output_type": "execute_result"
    }
   ],
   "source": [
    "summary_human['C98-1097']"
   ]
  },
  {
   "cell_type": "code",
   "execution_count": 228,
   "metadata": {},
   "outputs": [],
   "source": [
    "scores_abstract = defaultdict(list)\n",
    "scores_community = defaultdict(list)\n",
    "scores_human = defaultdict(list)\n",
    "for key in summary_human.keys():\n",
    "    for i in range(3):\n",
    "        scores_abstract[key]+=rouge.get_scores(my_summary[key][i], summary_abstract[key])\n",
    "        scores_community[key] += rouge.get_scores(my_summary[key][i], summary_community[key])\n",
    "        scores_human[key] += rouge.get_scores(my_summary[key][i], summary_human[key])"
   ]
  },
  {
   "cell_type": "code",
   "execution_count": 229,
   "metadata": {},
   "outputs": [],
   "source": [
    "def average_rouge(scores,rouge='rouge-2',metric='f'):\n",
    "    rouges = []\n",
    "    for value in scores.values():\n",
    "        rouges.append(value[rouge][metric])\n",
    "    return rouges"
   ]
  },
  {
   "cell_type": "code",
   "execution_count": 230,
   "metadata": {},
   "outputs": [],
   "source": [
    "def average_rouge_top(scores,rouge='rouge-2',metric='f'):\n",
    "    rouges = []\n",
    "    for name,score in scores.items():\n",
    "        all_r2f = [] \n",
    "        for sc in score:\n",
    "            all_r2f.append(sc['rouge-2']['f'])\n",
    "#         print(name)\n",
    "        rouges.append(np.max(all_r2f))\n",
    "    return rouges"
   ]
  },
  {
   "cell_type": "code",
   "execution_count": 231,
   "metadata": {},
   "outputs": [],
   "source": [
    "abstract_r2_top = average_rouge_top(scores_abstract,rouge='rouge-2',metric='f')\n",
    "community_r2_top = average_rouge_top(scores_community,rouge='rouge-2',metric='f')\n",
    "human_r2_top = average_rouge_top(scores_human,rouge='rouge-2',metric='f')"
   ]
  },
  {
   "cell_type": "code",
   "execution_count": null,
   "metadata": {},
   "outputs": [],
   "source": []
  },
  {
   "cell_type": "code",
   "execution_count": null,
   "metadata": {},
   "outputs": [],
   "source": []
  },
  {
   "cell_type": "markdown",
   "metadata": {},
   "source": [
    "SVM with rbf"
   ]
  },
  {
   "cell_type": "code",
   "execution_count": 62,
   "metadata": {},
   "outputs": [
    {
     "data": {
      "text/plain": [
       "(0.07787471817756389, 0.14078694078267812, 0.10140411466064743)"
      ]
     },
     "execution_count": 62,
     "metadata": {},
     "output_type": "execute_result"
    }
   ],
   "source": [
    "np.mean(abstract_r2),np.mean(community_r2),np.mean(human_r2)"
   ]
  },
  {
   "cell_type": "markdown",
   "metadata": {},
   "source": [
    "XGBOOST 100 estimators"
   ]
  },
  {
   "cell_type": "code",
   "execution_count": 233,
   "metadata": {},
   "outputs": [
    {
     "data": {
      "text/plain": [
       "(0.29078129374670153, 0.3646400300537678, 0.20672613209210627)"
      ]
     },
     "execution_count": 233,
     "metadata": {},
     "output_type": "execute_result"
    }
   ],
   "source": [
    "# only w2v features +seq_+ f1_feat+hdp+lda+ top3\n",
    "np.mean(abstract_r2_top),np.mean(community_r2_top),np.mean(human_r2_top)"
   ]
  },
  {
   "cell_type": "code",
   "execution_count": 141,
   "metadata": {},
   "outputs": [
    {
     "data": {
      "text/plain": [
       "(0.19324836251909452, 0.31241529455647604, 0.1579678258162968)"
      ]
     },
     "execution_count": 141,
     "metadata": {},
     "output_type": "execute_result"
    }
   ],
   "source": [
    "# only w2v features +seq_+ f1_feat+hdp+lda\n",
    "np.mean(abstract_r2),np.mean(community_r2),np.mean(human_r2)"
   ]
  },
  {
   "cell_type": "code",
   "execution_count": 42,
   "metadata": {},
   "outputs": [
    {
     "data": {
      "text/plain": [
       "(0.1982530602605909, 0.3372880651527327, 0.17542565169001512)"
      ]
     },
     "execution_count": 42,
     "metadata": {},
     "output_type": "execute_result"
    }
   ],
   "source": [
    "# only w2v features +seq_+ f1_feat\n",
    "np.mean(abstract_r2),np.mean(community_r2),np.mean(human_r2)"
   ]
  },
  {
   "cell_type": "code",
   "execution_count": 153,
   "metadata": {},
   "outputs": [
    {
     "data": {
      "text/plain": [
       "(0.21157892678256546, 0.31760102707938975, 0.18469409975970102)"
      ]
     },
     "execution_count": 153,
     "metadata": {},
     "output_type": "execute_result"
    }
   ],
   "source": [
    "# only w2v features +seq_\n",
    "np.mean(abstract_r2),np.mean(community_r2),np.mean(human_r2)"
   ]
  },
  {
   "cell_type": "code",
   "execution_count": 66,
   "metadata": {},
   "outputs": [
    {
     "data": {
      "text/plain": [
       "(0.19954038701545704, 0.3233288424347874, 0.149570976438548)"
      ]
     },
     "execution_count": 66,
     "metadata": {},
     "output_type": "execute_result"
    }
   ],
   "source": [
    "# only w2v features \n",
    "np.mean(abstract_r2),np.mean(community_r2),np.mean(human_r2)"
   ]
  },
  {
   "cell_type": "code",
   "execution_count": 75,
   "metadata": {},
   "outputs": [
    {
     "data": {
      "text/plain": [
       "(0.22951831953767093, 0.3110868759978951, 0.17520002466856807)"
      ]
     },
     "execution_count": 75,
     "metadata": {},
     "output_type": "execute_result"
    }
   ],
   "source": [
    "np.mean(abstract_r2),np.mean(community_r2),np.mean(human_r2)"
   ]
  },
  {
   "cell_type": "markdown",
   "metadata": {},
   "source": [
    "CatBoost"
   ]
  },
  {
   "cell_type": "code",
   "execution_count": 216,
   "metadata": {},
   "outputs": [
    {
     "data": {
      "text/plain": [
       "(0.25130789793014474, 0.33627280522719694, 0.21403042532207833)"
      ]
     },
     "execution_count": 216,
     "metadata": {},
     "output_type": "execute_result"
    }
   ],
   "source": [
    "# all+top3\n",
    "np.mean(abstract_r2_top),np.mean(community_r2_top),np.mean(human_r2_top)"
   ]
  },
  {
   "cell_type": "code",
   "execution_count": 156,
   "metadata": {},
   "outputs": [
    {
     "data": {
      "text/plain": [
       "(0.2511979310967296, 0.28882339888771347, 0.18636222070100222)"
      ]
     },
     "execution_count": 156,
     "metadata": {},
     "output_type": "execute_result"
    }
   ],
   "source": [
    "# all\n",
    "np.mean(abstract_r2),np.mean(community_r2),np.mean(human_r2)"
   ]
  },
  {
   "cell_type": "code",
   "execution_count": 60,
   "metadata": {},
   "outputs": [
    {
     "data": {
      "text/plain": [
       "(0.2340680811961347, 0.3393195285789483, 0.20316824858832608)"
      ]
     },
     "execution_count": 60,
     "metadata": {},
     "output_type": "execute_result"
    }
   ],
   "source": [
    "# only w2v features +seq_+f1_feat\n",
    "np.mean(abstract_r2),np.mean(community_r2),np.mean(human_r2)"
   ]
  },
  {
   "cell_type": "code",
   "execution_count": 173,
   "metadata": {},
   "outputs": [
    {
     "data": {
      "text/plain": [
       "(0.2335245698609633, 0.3589430951751397, 0.16606803459535394)"
      ]
     },
     "execution_count": 173,
     "metadata": {},
     "output_type": "execute_result"
    }
   ],
   "source": [
    "# only w2v features +seq_\n",
    "np.mean(abstract_r2),np.mean(community_r2),np.mean(human_r2)"
   ]
  },
  {
   "cell_type": "markdown",
   "metadata": {},
   "source": [
    "MLPClassifier"
   ]
  },
  {
   "cell_type": "code",
   "execution_count": 199,
   "metadata": {},
   "outputs": [
    {
     "data": {
      "text/plain": [
       "(0.27953123279875486, 0.3733387880160248, 0.2198220265613308)"
      ]
     },
     "execution_count": 199,
     "metadata": {},
     "output_type": "execute_result"
    }
   ],
   "source": [
    "# all-top3\n",
    "np.mean(abstract_r2_top),np.mean(community_r2_top),np.mean(human_r2_top)"
   ]
  },
  {
   "cell_type": "code",
   "execution_count": 185,
   "metadata": {},
   "outputs": [
    {
     "data": {
      "text/plain": [
       "(0.22749446736618434, 0.3390272849676415, 0.14407388766975493)"
      ]
     },
     "execution_count": 185,
     "metadata": {},
     "output_type": "execute_result"
    }
   ],
   "source": [
    "# all\n",
    "np.mean(abstract_r2),np.mean(community_r2),np.mean(human_r2)"
   ]
  },
  {
   "cell_type": "code",
   "execution_count": 171,
   "metadata": {},
   "outputs": [
    {
     "data": {
      "text/plain": [
       "(0.2088605019269992, 0.304498999475492, 0.18219976440499414)"
      ]
     },
     "execution_count": 171,
     "metadata": {},
     "output_type": "execute_result"
    }
   ],
   "source": [
    "# all\n",
    "np.mean(abstract_r2),np.mean(community_r2),np.mean(human_r2)"
   ]
  },
  {
   "cell_type": "code",
   "execution_count": 109,
   "metadata": {},
   "outputs": [
    {
     "data": {
      "text/plain": [
       "(0.26047637230255, 0.3060272572233433, 0.15140396026885963)"
      ]
     },
     "execution_count": 109,
     "metadata": {},
     "output_type": "execute_result"
    }
   ],
   "source": [
    "# only w2v features +seq_+f1_feat\n",
    "np.mean(abstract_r2),np.mean(community_r2),np.mean(human_r2)"
   ]
  },
  {
   "cell_type": "code",
   "execution_count": 77,
   "metadata": {},
   "outputs": [
    {
     "data": {
      "text/plain": [
       "(0.2878034209847514, 0.2962740992909815, 0.1815719998672054)"
      ]
     },
     "execution_count": 77,
     "metadata": {},
     "output_type": "execute_result"
    }
   ],
   "source": [
    "# only w2v features +seq_+f1_feat\n",
    "np.mean(abstract_r2),np.mean(community_r2),np.mean(human_r2)"
   ]
  },
  {
   "cell_type": "code",
   "execution_count": 202,
   "metadata": {},
   "outputs": [
    {
     "data": {
      "text/plain": [
       "(0.2330997495789881, 0.3185983338645845, 0.15646041677958894)"
      ]
     },
     "execution_count": 202,
     "metadata": {},
     "output_type": "execute_result"
    }
   ],
   "source": [
    "# only w2v features +seq_\n",
    "np.mean(abstract_r2),np.mean(community_r2),np.mean(human_r2)"
   ]
  },
  {
   "cell_type": "code",
   "execution_count": 126,
   "metadata": {},
   "outputs": [
    {
     "data": {
      "text/plain": [
       "(0.28513537303066505, 0.32439938426629594, 0.19037373170853195)"
      ]
     },
     "execution_count": 126,
     "metadata": {},
     "output_type": "execute_result"
    }
   ],
   "source": [
    "# only w2v features \n",
    "np.mean(abstract_r2),np.mean(community_r2),np.mean(human_r2)"
   ]
  },
  {
   "cell_type": "code",
   "execution_count": 81,
   "metadata": {},
   "outputs": [
    {
     "data": {
      "text/plain": [
       "(0.2906227673138955, 0.27673534723315296, 0.18172820836125608)"
      ]
     },
     "execution_count": 81,
     "metadata": {},
     "output_type": "execute_result"
    }
   ],
   "source": [
    "# only w2v features \n",
    "np.mean(abstract_r2),np.mean(community_r2),np.mean(human_r2)"
   ]
  },
  {
   "cell_type": "code",
   "execution_count": 67,
   "metadata": {},
   "outputs": [
    {
     "data": {
      "text/plain": [
       "(0.26870249097141874, 0.3203938411164929, 0.17075949648590674)"
      ]
     },
     "execution_count": 67,
     "metadata": {},
     "output_type": "execute_result"
    }
   ],
   "source": [
    "np.mean(abstract_r2),np.mean(community_r2),np.mean(human_r2)"
   ]
  },
  {
   "cell_type": "markdown",
   "metadata": {},
   "source": [
    "Все норм"
   ]
  }
 ],
 "metadata": {
  "kernelspec": {
   "display_name": "Python 3",
   "language": "python",
   "name": "python3"
  },
  "language_info": {
   "codemirror_mode": {
    "name": "ipython",
    "version": 3
   },
   "file_extension": ".py",
   "mimetype": "text/x-python",
   "name": "python",
   "nbconvert_exporter": "python",
   "pygments_lexer": "ipython3",
   "version": "3.7.4"
  }
 },
 "nbformat": 4,
 "nbformat_minor": 2
}
